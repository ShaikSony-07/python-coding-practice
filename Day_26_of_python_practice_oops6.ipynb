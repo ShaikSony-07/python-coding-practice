{
  "nbformat": 4,
  "nbformat_minor": 0,
  "metadata": {
    "colab": {
      "provenance": [],
      "authorship_tag": "ABX9TyM2O3JA2DtpwRPqXgzlOuGD",
      "include_colab_link": true
    },
    "kernelspec": {
      "name": "python3",
      "display_name": "Python 3"
    },
    "language_info": {
      "name": "python"
    }
  },
  "cells": [
    {
      "cell_type": "markdown",
      "metadata": {
        "id": "view-in-github",
        "colab_type": "text"
      },
      "source": [
        "<a href=\"https://colab.research.google.com/github/ShaikSony-07/python-coding-practice/blob/main/Day_26_of_python_practice_oops6.ipynb\" target=\"_parent\"><img src=\"https://colab.research.google.com/assets/colab-badge.svg\" alt=\"Open In Colab\"/></a>"
      ]
    },
    {
      "cell_type": "code",
      "execution_count": 5,
      "metadata": {
        "colab": {
          "base_uri": "https://localhost:8080/"
        },
        "id": "Eh2Lnxlp5Mil",
        "outputId": "96d84d17-3677-42a3-bc96-df1cabc6021e"
      },
      "outputs": [
        {
          "output_type": "stream",
          "name": "stdout",
          "text": [
            "90\n",
            "89\n"
          ]
        }
      ],
      "source": [
        "#access specifiers\n",
        "class a:\n",
        "  x=90\n",
        "  _y=89\n",
        "  __z=899\n",
        "  @classmethod\n",
        "  def display(cls):\n",
        "    pass\n",
        "print(a.x)\n",
        "print(a._y)\n",
        "a.display()"
      ]
    },
    {
      "cell_type": "code",
      "source": [
        "class a:\n",
        "  x=90\n",
        "  _y=89\n",
        "  __z=8999\n",
        "  def display(self):\n",
        "    print('public dispaly method')\n",
        "  def _cycling(self):\n",
        "    print('cycling is protected method')\n",
        "  def __driving(self):\n",
        "    print('driving is private method')\n",
        "print(a.x)\n",
        "print(a._y)\n",
        "print(a._a__z)\n",
        "oa=a()\n",
        "oa.display()\n",
        "oa._cycling()\n",
        "oa._a__driving()"
      ],
      "metadata": {
        "colab": {
          "base_uri": "https://localhost:8080/"
        },
        "id": "_7T5FVUs6yuE",
        "outputId": "b79e4c29-adb0-43b7-d335-b0e3d7cf052a"
      },
      "execution_count": 6,
      "outputs": [
        {
          "output_type": "stream",
          "name": "stdout",
          "text": [
            "90\n",
            "89\n",
            "8999\n",
            "public dispaly method\n",
            "cycling is protected method\n",
            "driving is private method\n"
          ]
        }
      ]
    },
    {
      "cell_type": "code",
      "source": [
        "#abstraction\n",
        "from abc import ABC,abstractmethod\n",
        "class timetable(ABC):\n",
        "  @abstractmethod\n",
        "  def breakfast(self):\n",
        "    pass\n",
        "  def lunch(self):\n",
        "    pass\n",
        "  def dinner(self):\n",
        "    pass\n",
        "class harshad(timetable):\n",
        "  def breakfast(self):\n",
        "    print('eat idli')\n",
        "  def lunch(self):\n",
        "    print('eat chicken biryani')\n",
        "  def dinner(self):\n",
        "    print('eat mutton biryani')\n",
        "h=harshad()\n",
        "h.breakfast()\n",
        "h.lunch()\n",
        "h.dinner()"
      ],
      "metadata": {
        "colab": {
          "base_uri": "https://localhost:8080/"
        },
        "id": "-m7dl6IN8Kw-",
        "outputId": "0bac4ae6-a98f-4dea-8605-b23832e6b23c"
      },
      "execution_count": 9,
      "outputs": [
        {
          "output_type": "stream",
          "name": "stdout",
          "text": [
            "eat idli\n",
            "eat chicken biryani\n",
            "eat mutton biryani\n"
          ]
        }
      ]
    },
    {
      "cell_type": "code",
      "source": [
        "from abc import ABC,abstractmethod\n",
        "class car(ABC):\n",
        "  def mileage(self):\n",
        "    pass\n",
        "  def suzuki(self):\n",
        "    print('mileage is 25kmph')\n",
        "  def duster(self):\n",
        "    print('the mileage is 20kmph')\n",
        "s=car()\n",
        "s.mileage()\n",
        "d=car()\n",
        "d.duster()"
      ],
      "metadata": {
        "colab": {
          "base_uri": "https://localhost:8080/"
        },
        "id": "pZruw52h9q51",
        "outputId": "2af20de2-6a42-4834-eb76-b3d35ecc2fe2"
      },
      "execution_count": 12,
      "outputs": [
        {
          "output_type": "stream",
          "name": "stdout",
          "text": [
            "the mileage is 20kmph\n"
          ]
        }
      ]
    },
    {
      "cell_type": "code",
      "source": [
        "from abc import ABC,abstractmethod\n",
        "class animal(ABC):\n",
        "  @abstractmethod\n",
        "  def move(self):\n",
        "    pass\n",
        "  def speak(self):\n",
        "    pass\n",
        "class dog(animal):\n",
        "  def move(self):\n",
        "    print('they can walk')\n",
        "  def speak(self):\n",
        "    print('they can bark')\n",
        "class snake(animal):\n",
        "  def move(self):\n",
        "    print('they can crawl')\n",
        "  def speak(self):\n",
        "    print('sssssssss')\n",
        "do=dog()\n",
        "do.speak()\n",
        "sn=snake()\n",
        "sn.speak()"
      ],
      "metadata": {
        "colab": {
          "base_uri": "https://localhost:8080/"
        },
        "id": "Wg6vJ8mP_jFl",
        "outputId": "15580ecc-3070-4e56-f8f0-9f0a69445293"
      },
      "execution_count": 14,
      "outputs": [
        {
          "output_type": "stream",
          "name": "stdout",
          "text": [
            "they can bark\n",
            "sssssssss\n"
          ]
        }
      ]
    }
  ]
}