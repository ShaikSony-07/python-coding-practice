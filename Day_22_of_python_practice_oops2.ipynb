{
  "nbformat": 4,
  "nbformat_minor": 0,
  "metadata": {
    "colab": {
      "provenance": [],
      "authorship_tag": "ABX9TyOtnwLzOS9JgectpjFmx3Z5",
      "include_colab_link": true
    },
    "kernelspec": {
      "name": "python3",
      "display_name": "Python 3"
    },
    "language_info": {
      "name": "python"
    }
  },
  "cells": [
    {
      "cell_type": "markdown",
      "metadata": {
        "id": "view-in-github",
        "colab_type": "text"
      },
      "source": [
        "<a href=\"https://colab.research.google.com/github/ShaikSony-07/python-coding-practice/blob/main/Day_22_of_python_practice_oops2.ipynb\" target=\"_parent\"><img src=\"https://colab.research.google.com/assets/colab-badge.svg\" alt=\"Open In Colab\"/></a>"
      ]
    },
    {
      "cell_type": "code",
      "execution_count": 6,
      "metadata": {
        "colab": {
          "base_uri": "https://localhost:8080/"
        },
        "id": "sfy3bBparyJ5",
        "outputId": "93b54064-a14d-4d6b-ffc9-2705094025f4"
      },
      "outputs": [
        {
          "output_type": "stream",
          "name": "stdout",
          "text": [
            "1\n",
            "34\n",
            "21\n",
            "56\n",
            "76\n",
            "23\n",
            "12\n",
            "34\n",
            "23\n",
            "44\n",
            "89\n",
            "9\n",
            "<bound method team.highest_runs of <__main__.team object at 0x790d5bcf3e50>>\n"
          ]
        }
      ],
      "source": [
        "#creation of multiple objects of one class in another class\n",
        "#team has a player\n",
        "class player:\n",
        "  def __init__(self,n,a,c,m,w,r):\n",
        "    self.pname=n\n",
        "    self.page=a\n",
        "    self.pcountry=c\n",
        "    self.pmatches=m\n",
        "    self.pwickets=w\n",
        "    self.pruns=r\n",
        "class team:\n",
        "  def __init__(self,n):\n",
        "    self.nop=n\n",
        "    self.pl=[]\n",
        "    for i in range(self.nop):\n",
        "      n=int(input())\n",
        "      a=int(input())\n",
        "      c=input()\n",
        "      m=int(input())\n",
        "      w=int(input())\n",
        "      r=int(input())\n",
        "      po=player(n,a,c,m,w,r)\n",
        "      self.pl.append(po)\n",
        "  def highest_runs(self):\n",
        "    mrs=self.pl[0]\n",
        "    for po in self.pl:\n",
        "      if po.pruns>mrs.pruns:\n",
        "        mrs=po\n",
        "    return mrs.pname\n",
        "  def highest_wickets(self):\n",
        "    mrs=self.pl[0]\n",
        "    for po in self.pl:\n",
        "      if po.pwickets>mrs.pwickets:\n",
        "        mrs=po\n",
        "    return mrs.pname\n",
        "india=team(2)\n",
        "print(india.highest_runs)"
      ]
    },
    {
      "cell_type": "code",
      "source": [
        "#inheritence\n",
        "class a:\n",
        "  house='1bhk'\n",
        "  bike='chetak'\n",
        "class b(a):\n",
        "  bike='himalayan'\n",
        "  money=12345\n",
        "oa=a()\n",
        "ob=b()\n",
        "a.house='2bhk'\n",
        "print(a.house)\n",
        "print(oa.house)\n",
        "print(b.house)\n",
        "print(ob.house)\n",
        "b.money=5678\n",
        "print(b.money)\n",
        "print(ob.money)\n",
        "ob.money=5978\n",
        "print(b.money)\n",
        "print(ob.money)"
      ],
      "metadata": {
        "colab": {
          "base_uri": "https://localhost:8080/"
        },
        "id": "fdFmIarF5Lds",
        "outputId": "a6f79c15-f36c-412e-fa14-806b867dacf2"
      },
      "execution_count": 11,
      "outputs": [
        {
          "output_type": "stream",
          "name": "stdout",
          "text": [
            "2bhk\n",
            "2bhk\n",
            "2bhk\n",
            "2bhk\n",
            "5678\n",
            "5678\n",
            "5678\n",
            "5978\n"
          ]
        }
      ]
    }
  ]
}