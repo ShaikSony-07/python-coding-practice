{
  "nbformat": 4,
  "nbformat_minor": 0,
  "metadata": {
    "colab": {
      "provenance": [],
      "authorship_tag": "ABX9TyM17/4dum8fpStTShUtOyC6",
      "include_colab_link": true
    },
    "kernelspec": {
      "name": "python3",
      "display_name": "Python 3"
    },
    "language_info": {
      "name": "python"
    }
  },
  "cells": [
    {
      "cell_type": "markdown",
      "metadata": {
        "id": "view-in-github",
        "colab_type": "text"
      },
      "source": [
        "<a href=\"https://colab.research.google.com/github/ShaikSony-07/python-coding-practice/blob/main/Day_20_of_python_practice_oops1.ipynb\" target=\"_parent\"><img src=\"https://colab.research.google.com/assets/colab-badge.svg\" alt=\"Open In Colab\"/></a>"
      ]
    },
    {
      "cell_type": "code",
      "execution_count": 2,
      "metadata": {
        "colab": {
          "base_uri": "https://localhost:8080/"
        },
        "id": "Qr8a-JeBOgK2",
        "outputId": "38b25c61-cd59-4525-fbe6-0ef403a18c0b"
      },
      "outputs": [
        {
          "output_type": "stream",
          "name": "stdout",
          "text": [
            "kevin\n",
            "12\n",
            "6\n",
            "8688577162\n",
            "cca\n",
            "124\n",
            "20000\n",
            "bkk\n"
          ]
        }
      ],
      "source": [
        "#object methods creating in mainspace and using in main class\n",
        "class school:\n",
        "  school_name='cca'\n",
        "  schoo_id=124\n",
        "  school_fee=20000\n",
        "  school_address='bkk'\n",
        "  def __init__(self,a,b,c,d):\n",
        "    self.name=a\n",
        "    self.rollno=b\n",
        "    self.age=c\n",
        "    self.mobile=d\n",
        "sony=school('kevin',12,6,8688577162)\n",
        "print(sony.name)\n",
        "print(sony.rollno)\n",
        "print(sony.age)\n",
        "print(sony.mobile)\n",
        "print(sony.school_name)\n",
        "print(sony.schoo_id)\n",
        "print(sony.school_fee)\n",
        "print(sony.school_address)"
      ]
    },
    {
      "cell_type": "code",
      "source": [
        "#decorators\n",
        "def outer(arg):\n",
        "  print('outer is started')\n",
        "  def inner():\n",
        "    print('inner is started')\n",
        "    arg()\n",
        "    print('inner is endede')\n",
        "  print('outer is ended')\n",
        "  return inner\n",
        "@outer\n",
        "def wish():\n",
        "  print('wish is started')\n",
        "  print('wish is ended')\n",
        "wish()"
      ],
      "metadata": {
        "colab": {
          "base_uri": "https://localhost:8080/"
        },
        "id": "Z17R0qkwTdr4",
        "outputId": "fe80fd4b-9792-4a0a-b46f-cd88369adea5"
      },
      "execution_count": 4,
      "outputs": [
        {
          "output_type": "stream",
          "name": "stdout",
          "text": [
            "outer is started\n",
            "outer is ended\n",
            "inner is started\n",
            "wish is started\n",
            "wish is ended\n",
            "inner is endede\n"
          ]
        }
      ]
    },
    {
      "cell_type": "code",
      "source": [
        "def sagar(arg):\n",
        "  def inner():\n",
        "    print('sagar has taken the class')\n",
        "    arg()\n",
        "    print('sagar has ended the call')\n",
        "  return inner\n",
        "@sagar\n",
        "def vasavi():\n",
        "  print('vasavi has started')\n",
        "  print('vasavi has ended')\n",
        "vasavi()\n",
        "@sagar\n",
        "def yamini():\n",
        "  print('yamini has started speaking')\n",
        "  print('yamini has ended speaking')\n",
        "yamini()"
      ],
      "metadata": {
        "colab": {
          "base_uri": "https://localhost:8080/"
        },
        "id": "4bs-gYf0Ugd0",
        "outputId": "268d72f9-67a1-4567-fb88-53d0b6f8b4ab"
      },
      "execution_count": 5,
      "outputs": [
        {
          "output_type": "stream",
          "name": "stdout",
          "text": [
            "sagar has taken the class\n",
            "vasavi has started\n",
            "vasavi has ended\n",
            "sagar has ended the call\n",
            "sagar has taken the class\n",
            "yamini has started speaking\n",
            "yamini has ended speaking\n",
            "sagar has ended the call\n"
          ]
        }
      ]
    },
    {
      "cell_type": "code",
      "source": [
        "#wap tp print 10 even numbers and calculate the time taken to print them\n",
        "def timedecorator(arg):\n",
        "  def inner():\n",
        "    import time\n",
        "    t1=time.time()\n",
        "    arg()\n",
        "    t2=time.time()\n",
        "    print('time taken is',t2-t1)\n",
        "  return inner\n",
        "@timedecorator\n",
        "def evennumbers():\n",
        "  c=0\n",
        "  n=1\n",
        "  while True:\n",
        "    if n%2==0:\n",
        "      print(n)\n",
        "      c+=1\n",
        "    if c==10:\n",
        "      break\n",
        "    n+=1\n",
        "evennumbers()"
      ],
      "metadata": {
        "colab": {
          "base_uri": "https://localhost:8080/"
        },
        "id": "WsPB82C5XQsK",
        "outputId": "06fdf707-96d3-4ca3-c653-669bad88bded"
      },
      "execution_count": 11,
      "outputs": [
        {
          "output_type": "stream",
          "name": "stdout",
          "text": [
            "2\n",
            "4\n",
            "6\n",
            "8\n",
            "10\n",
            "12\n",
            "14\n",
            "16\n",
            "18\n",
            "20\n",
            "time taken is 0.0007965564727783203\n"
          ]
        }
      ]
    },
    {
      "cell_type": "code",
      "source": [
        "def divide_without_error(arg):\n",
        "  def inner(a,b):\n",
        "    if b!=0:\n",
        "      arg(a,b)\n",
        "    else:\n",
        "      arg(b,a)\n",
        "  return inner\n",
        "@divide_without_error\n",
        "def division(a,b):\n",
        "  print(a,b)\n",
        "division(10,2)\n",
        "division(10,0)"
      ],
      "metadata": {
        "colab": {
          "base_uri": "https://localhost:8080/"
        },
        "id": "YTkYm6NhbGgP",
        "outputId": "691e105c-b7b9-4278-ba6d-44e066d3f5b7"
      },
      "execution_count": 12,
      "outputs": [
        {
          "output_type": "stream",
          "name": "stdout",
          "text": [
            "10 2\n",
            "0 10\n"
          ]
        }
      ]
    }
  ]
}