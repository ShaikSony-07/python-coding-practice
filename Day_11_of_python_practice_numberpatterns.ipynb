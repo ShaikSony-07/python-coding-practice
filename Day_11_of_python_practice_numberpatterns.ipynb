{
  "nbformat": 4,
  "nbformat_minor": 0,
  "metadata": {
    "colab": {
      "provenance": [],
      "authorship_tag": "ABX9TyObHgYD96Io/enIw4T45GP5",
      "include_colab_link": true
    },
    "kernelspec": {
      "name": "python3",
      "display_name": "Python 3"
    },
    "language_info": {
      "name": "python"
    }
  },
  "cells": [
    {
      "cell_type": "markdown",
      "metadata": {
        "id": "view-in-github",
        "colab_type": "text"
      },
      "source": [
        "<a href=\"https://colab.research.google.com/github/ShaikSony-07/python-coding-practice/blob/main/Day_11_of_python_practice_numberpatterns.ipynb\" target=\"_parent\"><img src=\"https://colab.research.google.com/assets/colab-badge.svg\" alt=\"Open In Colab\"/></a>"
      ]
    },
    {
      "cell_type": "code",
      "execution_count": 2,
      "metadata": {
        "id": "ZZnCQKN_0-3V",
        "colab": {
          "base_uri": "https://localhost:8080/"
        },
        "outputId": "ad3214e6-0df2-4033-904c-ba9bdb6e7c28"
      },
      "outputs": [
        {
          "output_type": "stream",
          "name": "stdout",
          "text": [
            "5\n",
            "11111\n",
            "22222\n",
            "33333\n",
            "44444\n",
            "55555\n"
          ]
        }
      ],
      "source": [
        "n=int(input())\n",
        "d=1\n",
        "for row in range(1,n+1):\n",
        "  for col in range(1,n+1):\n",
        "    print(d,end='')\n",
        "  print()\n",
        "  d+=1"
      ]
    },
    {
      "cell_type": "code",
      "source": [
        "n=int(input())\n",
        "d=1\n",
        "for row in range(1,n+1):\n",
        "  for col in range(1,n+1):\n",
        "    print(d ,end='')\n",
        "    d+=1\n",
        "  print()"
      ],
      "metadata": {
        "colab": {
          "base_uri": "https://localhost:8080/"
        },
        "id": "GHCxb2spEoKQ",
        "outputId": "eb9c983f-08ca-4a50-91f9-f6e901c16b2b"
      },
      "execution_count": 7,
      "outputs": [
        {
          "output_type": "stream",
          "name": "stdout",
          "text": [
            "5\n",
            "12345\n",
            "678910\n",
            "1112131415\n",
            "1617181920\n",
            "2122232425\n"
          ]
        }
      ]
    },
    {
      "cell_type": "code",
      "source": [
        "n=int(input())\n",
        "for row in range(1,n+1):\n",
        "  d=1\n",
        "  for col in range(1,n+1):\n",
        "    print(d,end='')\n",
        "    d+=1\n",
        "  print()"
      ],
      "metadata": {
        "colab": {
          "base_uri": "https://localhost:8080/"
        },
        "id": "_TS3YGL-GHcf",
        "outputId": "ca3933ca-42cd-4cad-9d67-1e5ca2c81e49"
      },
      "execution_count": 8,
      "outputs": [
        {
          "output_type": "stream",
          "name": "stdout",
          "text": [
            "5\n",
            "12345\n",
            "12345\n",
            "12345\n",
            "12345\n",
            "12345\n"
          ]
        }
      ]
    },
    {
      "cell_type": "code",
      "source": [
        "n=int(input())\n",
        "star=1\n",
        "for row in range(1,n+1):\n",
        "  for col in range(1,star+1):\n",
        "    print(row,end='')\n",
        "  print()\n",
        "  star+=1"
      ],
      "metadata": {
        "colab": {
          "base_uri": "https://localhost:8080/"
        },
        "id": "7xfo7b0qGsog",
        "outputId": "fb0f915d-dc82-4104-b9d0-b2e8c524b65c"
      },
      "execution_count": 12,
      "outputs": [
        {
          "output_type": "stream",
          "name": "stdout",
          "text": [
            "5\n",
            "1\n",
            "22\n",
            "333\n",
            "4444\n",
            "55555\n"
          ]
        }
      ]
    },
    {
      "cell_type": "code",
      "source": [
        "n=int(input())\n",
        "d=1\n",
        "star=1\n",
        "for row in range(1,n+1):\n",
        "  for col in range(1,star+1):\n",
        "    print(d,end='')\n",
        "    star+=1\n",
        "    d+=1\n",
        "  print()\n",
        ""
      ],
      "metadata": {
        "colab": {
          "base_uri": "https://localhost:8080/"
        },
        "id": "hN9WjJVrIXT2",
        "outputId": "fd52bc4e-85d7-44e1-cb84-e672bda1f9ef"
      },
      "execution_count": 16,
      "outputs": [
        {
          "output_type": "stream",
          "name": "stdout",
          "text": [
            "4\n",
            "1\n",
            "23\n",
            "4567\n",
            "89101112131415\n"
          ]
        }
      ]
    },
    {
      "cell_type": "code",
      "source": [
        "n=int(input())\n",
        "space=n-1\n",
        "star=1\n",
        "d=1\n",
        "for row in range(1,n+1):\n",
        "  for sp in range(1,space+1):\n",
        "    print(' ',end='')\n",
        "  for st in range(1,star+1):\n",
        "    print(d,end='')\n",
        "    d+=1\n",
        "  print()\n",
        "  star+=1\n",
        "  space-=1"
      ],
      "metadata": {
        "colab": {
          "base_uri": "https://localhost:8080/"
        },
        "id": "c4awSkcIJLIc",
        "outputId": "667e6b45-03d7-4937-8334-10f612ef872f"
      },
      "execution_count": 18,
      "outputs": [
        {
          "output_type": "stream",
          "name": "stdout",
          "text": [
            "5\n",
            "    1\n",
            "   23\n",
            "  456\n",
            " 78910\n",
            "1112131415\n"
          ]
        }
      ]
    },
    {
      "cell_type": "code",
      "source": [
        "n=int(input())\n",
        "d=1\n",
        "for row in range(1,n+1):\n",
        "  d=row\n",
        "  for col in range(1,n+1):\n",
        "    print(d,end='')\n",
        "    d+=1\n",
        "  print()"
      ],
      "metadata": {
        "colab": {
          "base_uri": "https://localhost:8080/"
        },
        "id": "JRRLvZmtKaWn",
        "outputId": "b4349f54-9ed3-47a3-d1f7-b8f788ab2b4e"
      },
      "execution_count": 19,
      "outputs": [
        {
          "output_type": "stream",
          "name": "stdout",
          "text": [
            "5\n",
            "12345\n",
            "23456\n",
            "34567\n",
            "45678\n",
            "56789\n"
          ]
        }
      ]
    },
    {
      "cell_type": "code",
      "source": [
        "n=int(input())\n",
        "for row in range(1,n+1):\n",
        "  d=row\n",
        "  for col in range(1,n+1):\n",
        "    print(d,end='')\n",
        "    d+=row\n",
        "  print()"
      ],
      "metadata": {
        "colab": {
          "base_uri": "https://localhost:8080/"
        },
        "id": "6awZODn0LllB",
        "outputId": "ea73d85c-d100-4d65-9ead-f5d7e3d6d1f8"
      },
      "execution_count": 20,
      "outputs": [
        {
          "output_type": "stream",
          "name": "stdout",
          "text": [
            "5\n",
            "12345\n",
            "246810\n",
            "3691215\n",
            "48121620\n",
            "510152025\n"
          ]
        }
      ]
    }
  ]
}