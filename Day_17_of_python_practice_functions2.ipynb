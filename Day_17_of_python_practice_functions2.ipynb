{
  "nbformat": 4,
  "nbformat_minor": 0,
  "metadata": {
    "colab": {
      "provenance": [],
      "authorship_tag": "ABX9TyN7fhFFvn+za6CFT6Pu+hWg",
      "include_colab_link": true
    },
    "kernelspec": {
      "name": "python3",
      "display_name": "Python 3"
    },
    "language_info": {
      "name": "python"
    }
  },
  "cells": [
    {
      "cell_type": "markdown",
      "metadata": {
        "id": "view-in-github",
        "colab_type": "text"
      },
      "source": [
        "<a href=\"https://colab.research.google.com/github/ShaikSony-07/python-coding-practice/blob/main/Day_17_of_python_practice_functions2.ipynb\" target=\"_parent\"><img src=\"https://colab.research.google.com/assets/colab-badge.svg\" alt=\"Open In Colab\"/></a>"
      ]
    },
    {
      "cell_type": "code",
      "execution_count": 1,
      "metadata": {
        "colab": {
          "base_uri": "https://localhost:8080/"
        },
        "id": "4P1nJF3xJgI-",
        "outputId": "851d511f-6dbf-444f-dc47-2f4cede07411"
      },
      "outputs": [
        {
          "output_type": "stream",
          "name": "stdout",
          "text": [
            "17\n"
          ]
        }
      ],
      "source": [
        "#sum of prime numbers in a given range\n",
        "def isprime(n):\n",
        "  if n>1:\n",
        "    for i in range(2,n//2+1):\n",
        "      if n%i==0:\n",
        "        return False\n",
        "        break\n",
        "    else:\n",
        "      return True\n",
        "  else:\n",
        "    return False\n",
        "def prime(ll,ul):\n",
        "  l=[]\n",
        "  for n in range(ll,ul+1):\n",
        "    if isprime(n):\n",
        "      l.append(n)\n",
        "  print(sum(l))\n",
        "prime(1,10)\n",
        ""
      ]
    },
    {
      "cell_type": "code",
      "source": [
        "#printing all palindrome substrings\n",
        "def palindrome(s):\n",
        "  for sip in range(len(s)):\n",
        "    for eip in range(sip+1,len(s)):\n",
        "      k=s[sip:eip+1:1]\n",
        "      if k==k[::-1]:\n",
        "        print(k)\n",
        "palindrome('mamata')"
      ],
      "metadata": {
        "colab": {
          "base_uri": "https://localhost:8080/"
        },
        "id": "0J9yfv4CMruW",
        "outputId": "161eb9d7-16c9-4661-b6e9-6b027e55072b"
      },
      "execution_count": 3,
      "outputs": [
        {
          "output_type": "stream",
          "name": "stdout",
          "text": [
            "mam\n",
            "ama\n",
            "ata\n"
          ]
        }
      ]
    },
    {
      "cell_type": "code",
      "source": [
        "l=['kumar','somu','sam','ram','rani','sir']\n",
        "#{'k':1,'s':3,'r':2}\n",
        "d={}\n",
        "for i in l:\n",
        "  z=i[0]\n",
        "  if z not in d:\n",
        "    d[z]=1\n",
        "  else:\n",
        "    d[z]=d[z]+1\n",
        "print(d)"
      ],
      "metadata": {
        "colab": {
          "base_uri": "https://localhost:8080/"
        },
        "id": "4SrmSfNFQsMZ",
        "outputId": "163b1447-ef72-420b-deb6-b765484c768c"
      },
      "execution_count": 4,
      "outputs": [
        {
          "output_type": "stream",
          "name": "stdout",
          "text": [
            "{'k': 1, 's': 3, 'r': 2}\n"
          ]
        }
      ]
    },
    {
      "cell_type": "code",
      "source": [
        "a=20\n",
        "def function():\n",
        "  global a\n",
        "  print(a)\n",
        "  a-=10\n",
        "  print(a)\n",
        "function()\n",
        "print(a)"
      ],
      "metadata": {
        "colab": {
          "base_uri": "https://localhost:8080/"
        },
        "id": "LjC0OAeVS7z2",
        "outputId": "9e7859d3-e8e8-4620-bc75-4335b19cc012"
      },
      "execution_count": 5,
      "outputs": [
        {
          "output_type": "stream",
          "name": "stdout",
          "text": [
            "20\n",
            "10\n",
            "10\n"
          ]
        }
      ]
    },
    {
      "cell_type": "code",
      "source": [
        "def outer():\n",
        "  a=10\n",
        "  def inner():\n",
        "    nonlocal a\n",
        "    print(a)\n",
        "    a-=5\n",
        "    print(a)\n",
        "  inner()\n",
        "  print(a)\n",
        "outer()"
      ],
      "metadata": {
        "colab": {
          "base_uri": "https://localhost:8080/"
        },
        "id": "rgQ6efdPaHi4",
        "outputId": "a152327c-4eeb-4396-8225-4e8c53cd69b9"
      },
      "execution_count": 6,
      "outputs": [
        {
          "output_type": "stream",
          "name": "stdout",
          "text": [
            "10\n",
            "5\n",
            "5\n"
          ]
        }
      ]
    },
    {
      "cell_type": "code",
      "source": [
        "def display():\n",
        "  print('hai')\n",
        "print(display())"
      ],
      "metadata": {
        "colab": {
          "base_uri": "https://localhost:8080/"
        },
        "id": "WP3Z27kDbQhv",
        "outputId": "271ba481-e71b-4d34-c171-35b205998c58"
      },
      "execution_count": 7,
      "outputs": [
        {
          "output_type": "stream",
          "name": "stdout",
          "text": [
            "hai\n",
            "None\n"
          ]
        }
      ]
    },
    {
      "cell_type": "code",
      "source": [
        "#recursion\n",
        "def display(n):\n",
        "  print(n)\n",
        "  if n==8:\n",
        "    return\n",
        "  display(n-1)\n",
        "print(display(10))"
      ],
      "metadata": {
        "colab": {
          "base_uri": "https://localhost:8080/"
        },
        "id": "cSSI9yTkbwe_",
        "outputId": "f8ff0f23-9624-49cf-ac72-61a8cd55c7cc"
      },
      "execution_count": 8,
      "outputs": [
        {
          "output_type": "stream",
          "name": "stdout",
          "text": [
            "10\n",
            "9\n",
            "8\n",
            "None\n"
          ]
        }
      ]
    },
    {
      "cell_type": "code",
      "source": [
        "#factorial of a number using recurssion\n",
        "def fact(n):\n",
        "  if n==1 or n==0:\n",
        "    return 1\n",
        "  else:\n",
        "    return n*fact(n-1)\n",
        "print(fact(5))"
      ],
      "metadata": {
        "colab": {
          "base_uri": "https://localhost:8080/"
        },
        "id": "11wynrfgdBts",
        "outputId": "0e747109-8f00-4728-9c15-c5aa36c78287"
      },
      "execution_count": 9,
      "outputs": [
        {
          "output_type": "stream",
          "name": "stdout",
          "text": [
            "120\n"
          ]
        }
      ]
    },
    {
      "cell_type": "code",
      "source": [
        "#sum of individual digits using recursion\n",
        "def summ(n):\n",
        "  if n==0:\n",
        "    return 0\n",
        "  return n%10+summ(n//10)\n",
        "print(summ(25))\n"
      ],
      "metadata": {
        "colab": {
          "base_uri": "https://localhost:8080/"
        },
        "id": "FCHq4VIid2WF",
        "outputId": "d8aa5362-3522-428f-e2e7-b0eebb724e8c"
      },
      "execution_count": 10,
      "outputs": [
        {
          "output_type": "stream",
          "name": "stdout",
          "text": [
            "7\n"
          ]
        }
      ]
    }
  ]
}