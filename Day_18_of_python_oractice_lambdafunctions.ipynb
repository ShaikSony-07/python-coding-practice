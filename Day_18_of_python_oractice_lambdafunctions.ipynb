{
  "nbformat": 4,
  "nbformat_minor": 0,
  "metadata": {
    "colab": {
      "provenance": [],
      "authorship_tag": "ABX9TyNMq+N3d/xundAc0sGiaY58",
      "include_colab_link": true
    },
    "kernelspec": {
      "name": "python3",
      "display_name": "Python 3"
    },
    "language_info": {
      "name": "python"
    }
  },
  "cells": [
    {
      "cell_type": "markdown",
      "metadata": {
        "id": "view-in-github",
        "colab_type": "text"
      },
      "source": [
        "<a href=\"https://colab.research.google.com/github/ShaikSony-07/python-coding-practice/blob/main/Day_18_of_python_oractice_lambdafunctions.ipynb\" target=\"_parent\"><img src=\"https://colab.research.google.com/assets/colab-badge.svg\" alt=\"Open In Colab\"/></a>"
      ]
    },
    {
      "cell_type": "code",
      "execution_count": 1,
      "metadata": {
        "colab": {
          "base_uri": "https://localhost:8080/"
        },
        "id": "Xqwvcdo7kymG",
        "outputId": "ca597089-be68-45e1-857f-f90bad409031"
      },
      "outputs": [
        {
          "output_type": "stream",
          "name": "stdout",
          "text": [
            "30\n"
          ]
        }
      ],
      "source": [
        "#lambdafunctions with one argument\n",
        "add=lambda x:x+10\n",
        "print(add(20))"
      ]
    },
    {
      "cell_type": "code",
      "source": [
        "#lambdafunctions with two arguments\n",
        "addtwo=lambda x,y:x+y\n",
        "print(addtwo(20,30))"
      ],
      "metadata": {
        "colab": {
          "base_uri": "https://localhost:8080/"
        },
        "id": "UQxx0SdlmffH",
        "outputId": "36dfacf6-b7e5-4e82-d196-29e86087d29c"
      },
      "execution_count": 3,
      "outputs": [
        {
          "output_type": "stream",
          "name": "stdout",
          "text": [
            "50\n"
          ]
        }
      ]
    },
    {
      "cell_type": "code",
      "source": [
        "#map with normal functions\n",
        "l=[1,2,3,5,4]\n",
        "def multiply(n):\n",
        "  return n*10\n",
        "print(tuple(map(multiply,l)))"
      ],
      "metadata": {
        "colab": {
          "base_uri": "https://localhost:8080/"
        },
        "id": "qhIg4H8dm4VM",
        "outputId": "fc1bde19-8a82-4f4b-a50e-37d5770d00fc"
      },
      "execution_count": 7,
      "outputs": [
        {
          "output_type": "stream",
          "name": "stdout",
          "text": [
            "(10, 20, 30, 50, 40)\n"
          ]
        }
      ]
    },
    {
      "cell_type": "code",
      "source": [
        "#map with lambda function\n",
        "l=[1,2,3,4,5]\n",
        "print(tuple(map(lambda x:x*10,l)))"
      ],
      "metadata": {
        "colab": {
          "base_uri": "https://localhost:8080/"
        },
        "id": "H8Wfm7T-no6g",
        "outputId": "0c1af1d1-54d5-4006-d3c8-ff5776e61e7f"
      },
      "execution_count": 8,
      "outputs": [
        {
          "output_type": "stream",
          "name": "stdout",
          "text": [
            "(10, 20, 30, 40, 50)\n"
          ]
        }
      ]
    },
    {
      "cell_type": "code",
      "source": [
        "#taking space seperated values from useer\n",
        "l=list(map(int,input().split()))\n",
        "print(l)"
      ],
      "metadata": {
        "colab": {
          "base_uri": "https://localhost:8080/"
        },
        "id": "cYhzjoLvoI1O",
        "outputId": "b7f8ebfb-f62f-4cb1-a3fd-e64b9130dfa5"
      },
      "execution_count": 9,
      "outputs": [
        {
          "output_type": "stream",
          "name": "stdout",
          "text": [
            "10 4 5  6 67   7  8 7 \n",
            "[10, 4, 5, 6, 67, 7, 8, 7]\n"
          ]
        }
      ]
    },
    {
      "cell_type": "code",
      "source": [
        "#filter with normal function\n",
        "l=[10, 4, 5, 6, 67, 7, 8, 7]\n",
        "def iseven(n):\n",
        "  return n%2==0\n",
        "print(tuple(filter(iseven,l)))"
      ],
      "metadata": {
        "colab": {
          "base_uri": "https://localhost:8080/"
        },
        "id": "gE6dvR4cov-x",
        "outputId": "39c36116-fd12-4ac5-89e6-dac38d67aab5"
      },
      "execution_count": 11,
      "outputs": [
        {
          "output_type": "stream",
          "name": "stdout",
          "text": [
            "(10, 4, 6, 8)\n"
          ]
        }
      ]
    },
    {
      "cell_type": "code",
      "source": [
        "#filter with lambda functions\n",
        "l=[10, 4, 5, 6, 67, 7, 8, 7]\n",
        "print(tuple(filter(lambda n:n%2==0,l)))"
      ],
      "metadata": {
        "colab": {
          "base_uri": "https://localhost:8080/"
        },
        "id": "VGARkWqnpJIq",
        "outputId": "6363956b-cd17-4e46-b19b-69261d473221"
      },
      "execution_count": 14,
      "outputs": [
        {
          "output_type": "stream",
          "name": "stdout",
          "text": [
            "(10, 4, 6, 8)\n"
          ]
        }
      ]
    },
    {
      "cell_type": "code",
      "source": [
        "#min values of list using reduce\n",
        "l=[10, 4, 5, 6, 67, 7, 8, 7]\n",
        "import functools\n",
        "print(functools.reduce(lambda x,y:x if x<y else y,l))"
      ],
      "metadata": {
        "colab": {
          "base_uri": "https://localhost:8080/"
        },
        "id": "R-0vQP4qpo-W",
        "outputId": "ff5c7872-2ef9-48a7-9242-e25eae6c3320"
      },
      "execution_count": 15,
      "outputs": [
        {
          "output_type": "stream",
          "name": "stdout",
          "text": [
            "4\n"
          ]
        }
      ]
    },
    {
      "cell_type": "code",
      "source": [
        "#sum of values of list using reduce\n",
        "l=[10, 4, 5, 6, 67, 7, 8, 7]\n",
        "import functools\n",
        "print(functools.reduce(lambda x,y:x+y,l))"
      ],
      "metadata": {
        "colab": {
          "base_uri": "https://localhost:8080/"
        },
        "id": "QJf-jXlBqCQW",
        "outputId": "a4a58f1a-b962-403a-b470-d2b91c8830c0"
      },
      "execution_count": 16,
      "outputs": [
        {
          "output_type": "stream",
          "name": "stdout",
          "text": [
            "114\n"
          ]
        }
      ]
    }
  ]
}