{
  "nbformat": 4,
  "nbformat_minor": 0,
  "metadata": {
    "colab": {
      "provenance": [],
      "authorship_tag": "ABX9TyODMbB2FBEi6R8HbQeZ68B6",
      "include_colab_link": true
    },
    "kernelspec": {
      "name": "python3",
      "display_name": "Python 3"
    },
    "language_info": {
      "name": "python"
    }
  },
  "cells": [
    {
      "cell_type": "markdown",
      "metadata": {
        "id": "view-in-github",
        "colab_type": "text"
      },
      "source": [
        "<a href=\"https://colab.research.google.com/github/ShaikSony-07/python-coding-practice/blob/main/Day_14_of_oython_practice_infiniteloop.ipynb\" target=\"_parent\"><img src=\"https://colab.research.google.com/assets/colab-badge.svg\" alt=\"Open In Colab\"/></a>"
      ]
    },
    {
      "cell_type": "code",
      "execution_count": null,
      "metadata": {
        "colab": {
          "base_uri": "https://localhost:8080/"
        },
        "id": "2Ek0lMgmQ8W0",
        "outputId": "4451f8f2-e314-4b00-bbb1-668e13b942e6"
      },
      "outputs": [
        {
          "output_type": "stream",
          "name": "stdout",
          "text": [
            "5\n",
            "23\n",
            "56\n",
            "8\n",
            "-3\n",
            "[5, 23, 56, 8]\n"
          ]
        }
      ],
      "source": [
        "#wap to take integer values and add it to list untill the given value is in negative\n",
        "l=[]\n",
        "while True:\n",
        "  n=int(input())\n",
        "  if n<0:\n",
        "    break\n",
        "  else:\n",
        "    l.append(n)\n",
        "print(l)"
      ]
    },
    {
      "cell_type": "code",
      "source": [
        "ll = int(input(\"Enter the lower limit: \"))\n",
        "ul = int(input(\"Enter the upper limit: \"))\n",
        "\n",
        "i = ll\n",
        "while i <= ul:  # This ensures the loop stops when i exceeds the upper limit\n",
        "    if i > 1:\n",
        "        for j in range(2, i // 2 + 1):\n",
        "            if i % j == 0:\n",
        "                break\n",
        "        else:\n",
        "            print(i)\n",
        "    i += 1"
      ],
      "metadata": {
        "colab": {
          "base_uri": "https://localhost:8080/"
        },
        "id": "zH4qMB8HnU4q",
        "outputId": "2cae1471-667d-45c0-810b-fbea16ad5999"
      },
      "execution_count": 5,
      "outputs": [
        {
          "output_type": "stream",
          "name": "stdout",
          "text": [
            "Enter the lower limit: 1\n",
            "Enter the upper limit: 10\n",
            "2\n",
            "3\n",
            "5\n",
            "7\n"
          ]
        }
      ]
    }
  ]
}