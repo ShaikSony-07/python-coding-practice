{
  "nbformat": 4,
  "nbformat_minor": 0,
  "metadata": {
    "colab": {
      "provenance": [],
      "authorship_tag": "ABX9TyMAb6BHfoKCg5iBO0QQt1mD",
      "include_colab_link": true
    },
    "kernelspec": {
      "name": "python3",
      "display_name": "Python 3"
    },
    "language_info": {
      "name": "python"
    }
  },
  "cells": [
    {
      "cell_type": "markdown",
      "metadata": {
        "id": "view-in-github",
        "colab_type": "text"
      },
      "source": [
        "<a href=\"https://colab.research.google.com/github/ShaikSony-07/python-coding-practice/blob/main/Day_08_of_python_coding_practice.ipynb\" target=\"_parent\"><img src=\"https://colab.research.google.com/assets/colab-badge.svg\" alt=\"Open In Colab\"/></a>"
      ]
    },
    {
      "cell_type": "code",
      "execution_count": 3,
      "metadata": {
        "colab": {
          "base_uri": "https://localhost:8080/"
        },
        "id": "_5KqJVJV4Ryp",
        "outputId": "246e73f4-5522-4800-d9ad-a286a4b76bc3"
      },
      "outputs": [
        {
          "output_type": "stream",
          "name": "stdout",
          "text": [
            "123\n",
            "spynumber\n"
          ]
        }
      ],
      "source": [
        "#spy number\n",
        "n=int(input())\n",
        "s=0\n",
        "p=1\n",
        "while n>0:\n",
        "  rem=n%10\n",
        "  n//=10\n",
        "  s+=rem\n",
        "  p*=rem\n",
        "if s==p:\n",
        "  print('spynumber')"
      ]
    },
    {
      "cell_type": "code",
      "source": [
        "#automorphic number\n",
        "n=int(input())\n",
        "l=len(str(n))\n",
        "s=n**2\n",
        "s=str(s)\n",
        "if s.endswith((str(n))):\n",
        "  print('true')"
      ],
      "metadata": {
        "colab": {
          "base_uri": "https://localhost:8080/"
        },
        "id": "GaQ7332b44T3",
        "outputId": "8c327096-81a5-4cc4-ef13-f5f3163d50d2"
      },
      "execution_count": 20,
      "outputs": [
        {
          "output_type": "stream",
          "name": "stdout",
          "text": [
            "376\n",
            "true\n"
          ]
        }
      ]
    },
    {
      "cell_type": "code",
      "source": [
        "#automorphic number without typecasting\n",
        "n=int(input())\n",
        "l=len(str(n))\n",
        "sq=n**2\n",
        "if n==sq%(10**l):\n",
        "  print('true')"
      ],
      "metadata": {
        "colab": {
          "base_uri": "https://localhost:8080/"
        },
        "id": "a7hhksCz-F2E",
        "outputId": "271a4165-66c8-4a97-efc7-d3e2099ef296"
      },
      "execution_count": 23,
      "outputs": [
        {
          "output_type": "stream",
          "name": "stdout",
          "text": [
            "76\n",
            "true\n"
          ]
        }
      ]
    },
    {
      "cell_type": "code",
      "source": [
        "#happy number\n",
        "def hello(n):\n",
        "  def hai(n):\n",
        "    s=0\n",
        "    while n>0:\n",
        "      rem=n%10\n",
        "      n//=10\n",
        "      s=s+rem**2\n",
        "    return s\n",
        "  d=set()\n",
        "  while n!=1 and n not in d:\n",
        "    d.add(n)\n",
        "    n=hai(n)\n",
        "  return n==1\n",
        "n=int(input())\n",
        "if hello(n):\n",
        "  print('true')"
      ],
      "metadata": {
        "colab": {
          "base_uri": "https://localhost:8080/"
        },
        "id": "SVQkvY4XIMvG",
        "outputId": "cfcf4a2a-0ee0-4060-b500-09e8f41a66b8"
      },
      "execution_count": 28,
      "outputs": [
        {
          "output_type": "stream",
          "name": "stdout",
          "text": [
            "19\n",
            "true\n"
          ]
        }
      ]
    },
    {
      "cell_type": "code",
      "source": [
        "#Abundant Number\n",
        "#An abundant number is a number for which the sum of its proper divisors is greater than the number itself.\n",
        "n=int(input())\n",
        "s=0\n",
        "for i in range(1,n):\n",
        "  if n%i==0:\n",
        "    s+=i\n",
        "if s>n:\n",
        "  print('abundant number')"
      ],
      "metadata": {
        "colab": {
          "base_uri": "https://localhost:8080/"
        },
        "id": "5aMdA3FoLWGD",
        "outputId": "4b09e379-6689-453c-c804-c0377d319f8e"
      },
      "execution_count": 33,
      "outputs": [
        {
          "output_type": "stream",
          "name": "stdout",
          "text": [
            "12\n",
            "abundant number\n"
          ]
        }
      ]
    }
  ]
}