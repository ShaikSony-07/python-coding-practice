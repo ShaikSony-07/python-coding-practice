{
  "nbformat": 4,
  "nbformat_minor": 0,
  "metadata": {
    "colab": {
      "provenance": [],
      "authorship_tag": "ABX9TyOx1MW5pQadfMvhcJtJJfgU",
      "include_colab_link": true
    },
    "kernelspec": {
      "name": "python3",
      "display_name": "Python 3"
    },
    "language_info": {
      "name": "python"
    }
  },
  "cells": [
    {
      "cell_type": "markdown",
      "metadata": {
        "id": "view-in-github",
        "colab_type": "text"
      },
      "source": [
        "<a href=\"https://colab.research.google.com/github/ShaikSony-07/python-coding-practice/blob/main/Day_16_of_python_practice_functions1.ipynb\" target=\"_parent\"><img src=\"https://colab.research.google.com/assets/colab-badge.svg\" alt=\"Open In Colab\"/></a>"
      ]
    },
    {
      "cell_type": "code",
      "execution_count": 3,
      "metadata": {
        "colab": {
          "base_uri": "https://localhost:8080/"
        },
        "id": "O1vi86thR0K6",
        "outputId": "a6eaf9a1-dfa6-4661-cd58-fa52b3b30cf3"
      },
      "outputs": [
        {
          "output_type": "stream",
          "name": "stdout",
          "text": [
            "1\n",
            "100\n",
            "1\n",
            "2\n",
            "3\n",
            "4\n",
            "5\n",
            "6\n",
            "7\n",
            "8\n",
            "9\n",
            "89\n"
          ]
        }
      ],
      "source": [
        "#disarium numbers in given range using def\n",
        "def isdisarium(n):\n",
        "  l=len(str(n))\n",
        "  d=n\n",
        "  s=0\n",
        "  while d>0:\n",
        "    r=d%10\n",
        "    d//=10\n",
        "    s+=r**l\n",
        "    l-=1\n",
        "  if n==s:\n",
        "    return True\n",
        "  else:\n",
        "    return False\n",
        "def disarium(ll,ul):\n",
        "  for n in range(ll,ul+1):\n",
        "    if isdisarium(n):\n",
        "      print(n)\n",
        "ll=int(input())\n",
        "ul=int(input())\n",
        "disarium(ll,ul)\n"
      ]
    },
    {
      "cell_type": "code",
      "source": [
        "#harsahad numbers in a given range using functions\n",
        "def isharshad(n):\n",
        "  c=0\n",
        "  d=n\n",
        "  while d>0:\n",
        "    r=d%10\n",
        "    d//=10\n",
        "    c+=r\n",
        "  if n%c==0:\n",
        "    return True\n",
        "  else:\n",
        "    return False\n",
        "def harshad(ll,ul):\n",
        "  for n in range(ll,ul+1):\n",
        "    if isharshad(n):\n",
        "      print(n)\n",
        "ll=int(input())\n",
        "ul=int(input())\n",
        "harshad(ll,ul)"
      ],
      "metadata": {
        "colab": {
          "base_uri": "https://localhost:8080/"
        },
        "id": "tQl0-wGKWpGq",
        "outputId": "50782aed-bc03-46a7-81ac-d786309936c7"
      },
      "execution_count": 9,
      "outputs": [
        {
          "output_type": "stream",
          "name": "stdout",
          "text": [
            "1\n",
            "100\n",
            "1\n",
            "2\n",
            "3\n",
            "4\n",
            "5\n",
            "6\n",
            "7\n",
            "8\n",
            "9\n",
            "10\n",
            "12\n",
            "18\n",
            "20\n",
            "21\n",
            "24\n",
            "27\n",
            "30\n",
            "36\n",
            "40\n",
            "42\n",
            "45\n",
            "48\n",
            "50\n",
            "54\n",
            "60\n",
            "63\n",
            "70\n",
            "72\n",
            "80\n",
            "81\n",
            "84\n",
            "90\n",
            "100\n"
          ]
        }
      ]
    },
    {
      "cell_type": "code",
      "source": [
        "#special  numbers in given range using functions\n",
        "def isspecial(n):\n",
        "  s=0\n",
        "  for i in range(1,n//2+1):\n",
        "    if n%i==0:\n",
        "      s+=i\n",
        "  if s==n:\n",
        "    return True\n",
        "  else:\n",
        "    return False\n",
        "def special(ll,ul):\n",
        "  for n in range(ll,ul+1):\n",
        "    if isspecial(n):\n",
        "      print(n)\n",
        "ll=int(input())\n",
        "ul=int(input())\n",
        "special(ll,ul)\n"
      ],
      "metadata": {
        "colab": {
          "base_uri": "https://localhost:8080/"
        },
        "id": "iSW0oK1VcSnz",
        "outputId": "dd268449-df8d-462e-eeed-5eada27f8475"
      },
      "execution_count": 1,
      "outputs": [
        {
          "output_type": "stream",
          "name": "stdout",
          "text": [
            "1\n",
            "10\n",
            "6\n"
          ]
        }
      ]
    },
    {
      "cell_type": "code",
      "source": [
        "#perfect numbers in given range using functions\n",
        "def isperfect(n):\n",
        "  s=0\n",
        "  d=n\n",
        "  for j in range(1,n//2+1):\n",
        "    if n%j==0:\n",
        "      s+=j\n",
        "  if s==n:\n",
        "    return True\n",
        "  else:\n",
        "    return False\n",
        "def perfect(ll,ul):\n",
        "  for n in range(ll,ul+1):\n",
        "    if isperfect(n):\n",
        "      print(n)\n",
        "perfect(1,100)"
      ],
      "metadata": {
        "colab": {
          "base_uri": "https://localhost:8080/"
        },
        "id": "yE5KPsqnyN95",
        "outputId": "1c831aee-a839-4ac4-a010-364c460f9c4d"
      },
      "execution_count": 3,
      "outputs": [
        {
          "output_type": "stream",
          "name": "stdout",
          "text": [
            "6\n",
            "28\n"
          ]
        }
      ]
    }
  ]
}