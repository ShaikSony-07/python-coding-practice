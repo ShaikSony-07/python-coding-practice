{
  "nbformat": 4,
  "nbformat_minor": 0,
  "metadata": {
    "colab": {
      "provenance": [],
      "authorship_tag": "ABX9TyOVbfb3ua4hDc5M8gcUUK+c",
      "include_colab_link": true
    },
    "kernelspec": {
      "name": "python3",
      "display_name": "Python 3"
    },
    "language_info": {
      "name": "python"
    }
  },
  "cells": [
    {
      "cell_type": "markdown",
      "metadata": {
        "id": "view-in-github",
        "colab_type": "text"
      },
      "source": [
        "<a href=\"https://colab.research.google.com/github/ShaikSony-07/python-coding-practice/blob/main/Day_10_of_python_practice_patterns1.ipynb\" target=\"_parent\"><img src=\"https://colab.research.google.com/assets/colab-badge.svg\" alt=\"Open In Colab\"/></a>"
      ]
    },
    {
      "cell_type": "code",
      "execution_count": 3,
      "metadata": {
        "colab": {
          "base_uri": "https://localhost:8080/"
        },
        "id": "ff0nJOtAFpB6",
        "outputId": "03ed9672-a5f7-4bca-de36-36c8069106a5"
      },
      "outputs": [
        {
          "output_type": "stream",
          "name": "stdout",
          "text": [
            "5\n",
            "*****\n",
            " ****\n",
            "  ***\n",
            "   **\n",
            "    *\n"
          ]
        }
      ],
      "source": [
        "n=int(input())\n",
        "star=n\n",
        "space=0\n",
        "for row in range(1,n+1):\n",
        "  for spac in range(1,space+1):\n",
        "    print(' ',end='')\n",
        "  for st in range(1,star+1):\n",
        "    print('*',end='')\n",
        "  print()\n",
        "  star-=1\n",
        "  space+=1"
      ]
    },
    {
      "cell_type": "code",
      "source": [
        "n=int(input())\n",
        "star=1\n",
        "space=n-1\n",
        "for row in range(1,n+1):\n",
        "  for spac in range(1,space+1):\n",
        "    print(' ',end='')\n",
        "  for st in range(1,star+1):\n",
        "    print('*',end='')\n",
        "  print()\n",
        "  star+=1\n",
        "  space-=1"
      ],
      "metadata": {
        "colab": {
          "base_uri": "https://localhost:8080/"
        },
        "id": "6BRhsk8mIIz5",
        "outputId": "c68114f8-a49e-48e7-9e3b-552b15cf5ed7"
      },
      "execution_count": 4,
      "outputs": [
        {
          "output_type": "stream",
          "name": "stdout",
          "text": [
            "5\n",
            "    *\n",
            "   **\n",
            "  ***\n",
            " ****\n",
            "*****\n"
          ]
        }
      ]
    },
    {
      "cell_type": "code",
      "source": [
        "n=int(input())\n",
        "star=n\n",
        "space=0\n",
        "for row in range(1,n+1):\n",
        "  for st in range(1,star+1):\n",
        "    print('*',end='')\n",
        "  print()\n",
        "  star-=1"
      ],
      "metadata": {
        "colab": {
          "base_uri": "https://localhost:8080/"
        },
        "id": "XlHSBtlwI5m_",
        "outputId": "21b5d013-bfd9-4738-dfaa-5fe870fe9b64"
      },
      "execution_count": 5,
      "outputs": [
        {
          "output_type": "stream",
          "name": "stdout",
          "text": [
            "5\n",
            "*****\n",
            "****\n",
            "***\n",
            "**\n",
            "*\n"
          ]
        }
      ]
    },
    {
      "cell_type": "code",
      "source": [
        "n=int(input())\n",
        "space=n-1\n",
        "star=1\n",
        "for row in range(1,n+1):\n",
        "  for sp in range(1,space+1):\n",
        "    print(' ',end='')\n",
        "  for st in range(1,star+1):\n",
        "    print('*',end='')\n",
        "  print()\n",
        "  space-=1\n",
        "  star+=2\n",
        ""
      ],
      "metadata": {
        "colab": {
          "base_uri": "https://localhost:8080/"
        },
        "id": "h-A2o0ItJtAZ",
        "outputId": "fe4e607f-2347-42d7-8e0c-081326693b9e"
      },
      "execution_count": 6,
      "outputs": [
        {
          "output_type": "stream",
          "name": "stdout",
          "text": [
            "5\n",
            "    *\n",
            "   ***\n",
            "  *****\n",
            " *******\n",
            "*********\n"
          ]
        }
      ]
    },
    {
      "cell_type": "code",
      "source": [
        "n=int(input())\n",
        "space=0\n",
        "star=2*n-1\n",
        "for row in range(1,n+1):\n",
        "  for sp in range(1,space+1):\n",
        "    print(' ',end='')\n",
        "  for st in range(1,star+1):\n",
        "    print('*',end='')\n",
        "  print()\n",
        "  star-=2\n",
        "  space+=1\n"
      ],
      "metadata": {
        "colab": {
          "base_uri": "https://localhost:8080/"
        },
        "id": "oLF3HhbfKr-i",
        "outputId": "e922af3a-7d8f-4d6e-c32b-39598931a4d9"
      },
      "execution_count": 12,
      "outputs": [
        {
          "output_type": "stream",
          "name": "stdout",
          "text": [
            "5\n",
            "*********\n",
            " *******\n",
            "  *****\n",
            "   ***\n",
            "    *\n"
          ]
        }
      ]
    },
    {
      "cell_type": "code",
      "source": [
        "n=int(input())\n",
        "space=n//2\n",
        "star=1\n",
        "for row in range(1,n+1):\n",
        "  for sp in range(1,space+1):\n",
        "    print(' ',end='')\n",
        "  for st in range(1,star+1):\n",
        "    print('*',end='')\n",
        "  print()\n",
        "  if row <=n//2:\n",
        "    star+=2\n",
        "    space-=1\n",
        "  else:\n",
        "    star-=2\n",
        "    space+=1"
      ],
      "metadata": {
        "colab": {
          "base_uri": "https://localhost:8080/"
        },
        "id": "W6t9Nvz3Me4a",
        "outputId": "347a0e93-b81d-4f65-e4f6-796f2df8fc25"
      },
      "execution_count": 14,
      "outputs": [
        {
          "output_type": "stream",
          "name": "stdout",
          "text": [
            "5\n",
            "  *\n",
            " ***\n",
            "*****\n",
            " ***\n",
            "  *\n"
          ]
        }
      ]
    },
    {
      "cell_type": "code",
      "source": [
        "n=int(input())\n",
        "space=n//2\n",
        "star=1\n",
        "for row in range(1,n+1):\n",
        "  for sp in range(1,space+1):\n",
        "    print(' ',end='')\n",
        "  for st in range(1,star+1):\n",
        "    print('*',end='')\n",
        "  print()\n",
        "  if row<=n//2:\n",
        "    space-=1\n",
        "    star+=1\n",
        "  else:\n",
        "    space+=1\n",
        "    star-=1"
      ],
      "metadata": {
        "colab": {
          "base_uri": "https://localhost:8080/"
        },
        "id": "wINYLdwfQdZ4",
        "outputId": "f83495b5-d49b-49ca-f526-2a0ea1a71564"
      },
      "execution_count": 25,
      "outputs": [
        {
          "output_type": "stream",
          "name": "stdout",
          "text": [
            "5\n",
            "  *\n",
            " **\n",
            "***\n",
            " **\n",
            "  *\n"
          ]
        }
      ]
    },
    {
      "cell_type": "code",
      "source": [
        "n=int(input())\n",
        "space=n//2\n",
        "star=1\n",
        "for row in range(1,n+1):\n",
        "  for st in range(1,star+1):\n",
        "    print('*',end='')\n",
        "  for sp in range(1,space+1):\n",
        "    print(' ',end='')\n",
        "  print()\n",
        "  if row<=n//2:\n",
        "    space-=1\n",
        "    star+=1\n",
        "  else:\n",
        "    space+=1\n",
        "    star-=1"
      ],
      "metadata": {
        "colab": {
          "base_uri": "https://localhost:8080/"
        },
        "id": "d9l07VM8RZQ2",
        "outputId": "bab7d6ae-67b9-40f0-873a-2b69cfed34d3"
      },
      "execution_count": 26,
      "outputs": [
        {
          "output_type": "stream",
          "name": "stdout",
          "text": [
            "5\n",
            "*  \n",
            "** \n",
            "***\n",
            "** \n",
            "*  \n"
          ]
        }
      ]
    }
  ]
}