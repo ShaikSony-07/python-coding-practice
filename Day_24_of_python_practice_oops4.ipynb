{
  "nbformat": 4,
  "nbformat_minor": 0,
  "metadata": {
    "colab": {
      "provenance": [],
      "authorship_tag": "ABX9TyNTBmGwschVh2LK2uo0xx/d",
      "include_colab_link": true
    },
    "kernelspec": {
      "name": "python3",
      "display_name": "Python 3"
    },
    "language_info": {
      "name": "python"
    }
  },
  "cells": [
    {
      "cell_type": "markdown",
      "metadata": {
        "id": "view-in-github",
        "colab_type": "text"
      },
      "source": [
        "<a href=\"https://colab.research.google.com/github/ShaikSony-07/python-coding-practice/blob/main/Day_24_of_python_practice_oops4.ipynb\" target=\"_parent\"><img src=\"https://colab.research.google.com/assets/colab-badge.svg\" alt=\"Open In Colab\"/></a>"
      ]
    },
    {
      "cell_type": "code",
      "execution_count": 1,
      "metadata": {
        "colab": {
          "base_uri": "https://localhost:8080/"
        },
        "id": "Tb5lkYXFYqbJ",
        "outputId": "41b4e0e0-9096-4233-f4c2-f24ea626e4e6"
      },
      "outputs": [
        {
          "output_type": "stream",
          "name": "stdout",
          "text": [
            "2\n",
            "2\n",
            "2\n",
            "<__main__.employee object at 0x7e4f30953970>object is deleted\n",
            "1\n",
            "1\n"
          ]
        }
      ],
      "source": [
        "class employee:\n",
        "  cname='google'\n",
        "  caddress='banglore'\n",
        "  empcount=0\n",
        "  def __init__(self,n,id,s):\n",
        "    self.ename=n\n",
        "    self.eid=id\n",
        "    self.esalary=s\n",
        "    employee.empcount+=1\n",
        "  def __del__(self):\n",
        "    employee.empcount-=1\n",
        "    print(f'{self}object is deleted')\n",
        "abc=employee('sony',123,20000)\n",
        "xyz=employee('kevin',234,60988)\n",
        "print(abc.empcount)\n",
        "print(xyz.empcount)\n",
        "print(employee.empcount)\n",
        "del xyz\n",
        "print(abc.empcount)\n",
        "print(employee.empcount)"
      ]
    },
    {
      "cell_type": "code",
      "source": [
        "#operator overloading\n",
        "class book:\n",
        "  def __init__(self,n,a,p):\n",
        "    print('object is created so interpreter called me')\n",
        "    self.bname=n\n",
        "    self.bauthor=a\n",
        "    self.bprice=p\n",
        "  def __str__(self):\n",
        "    return self.bname\n",
        "  def __add__(self,other):\n",
        "    return self.bprice+other.bprice\n",
        "  def __sub__(self,other):\n",
        "    return self.bprice-other.bprice\n",
        "  def __mul__(self,values):\n",
        "    return self.bprice*values\n",
        "python=book('python','van',10000)\n",
        "django=book('django','simon',20000)\n",
        "print(python+django)\n",
        "print(python-django)\n",
        "print(django-python)\n",
        "print(python*3)"
      ],
      "metadata": {
        "colab": {
          "base_uri": "https://localhost:8080/"
        },
        "id": "Jvc2OuFUahC8",
        "outputId": "5333b80f-728e-424a-ac54-08664cccf47b"
      },
      "execution_count": 2,
      "outputs": [
        {
          "output_type": "stream",
          "name": "stdout",
          "text": [
            "object is created so interpreter called me\n",
            "object is created so interpreter called me\n",
            "30000\n",
            "-10000\n",
            "10000\n",
            "30000\n"
          ]
        }
      ]
    }
  ]
}