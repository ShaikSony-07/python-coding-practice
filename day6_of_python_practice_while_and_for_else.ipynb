{
  "nbformat": 4,
  "nbformat_minor": 0,
  "metadata": {
    "colab": {
      "provenance": [],
      "authorship_tag": "ABX9TyOfCOa5rSUCjysFMDu0EWrS",
      "include_colab_link": true
    },
    "kernelspec": {
      "name": "python3",
      "display_name": "Python 3"
    },
    "language_info": {
      "name": "python"
    }
  },
  "cells": [
    {
      "cell_type": "markdown",
      "metadata": {
        "id": "view-in-github",
        "colab_type": "text"
      },
      "source": [
        "<a href=\"https://colab.research.google.com/github/ShaikSony-07/python-coding-practice/blob/main/day6_of_python_practice_while_and_for_else.ipynb\" target=\"_parent\"><img src=\"https://colab.research.google.com/assets/colab-badge.svg\" alt=\"Open In Colab\"/></a>"
      ]
    },
    {
      "cell_type": "code",
      "execution_count": 1,
      "metadata": {
        "colab": {
          "base_uri": "https://localhost:8080/"
        },
        "id": "_JFRYtyap7iV",
        "outputId": "48dec1cf-baa4-46b6-9a33-162816e12ef4"
      },
      "outputs": [
        {
          "output_type": "stream",
          "name": "stdout",
          "text": [
            "58\n",
            "not\n"
          ]
        }
      ],
      "source": [
        "#wap to check given number is disarium or not\n",
        "n=int(input())\n",
        "dummy=n\n",
        "l=len(str(n))\n",
        "s=0\n",
        "while dummy>0:\n",
        "  rem=dummy%10\n",
        "  dummy//=10\n",
        "  s+=rem**l\n",
        "  l-=1\n",
        "if s==n:\n",
        "  print(\"disarium\")\n",
        "else:\n",
        "  print(\"not\" )"
      ]
    },
    {
      "cell_type": "code",
      "source": [
        "#harshad number\n",
        "n=int(input())\n",
        "dummy=n\n",
        "s=0\n",
        "while dummy>0:\n",
        "  rem=dummy%10\n",
        "  dummy//=10\n",
        "  s+=rem\n",
        "if n%s==0:\n",
        "  print('harshad number')\n",
        "else:\n",
        "  print('not a harshad number')"
      ],
      "metadata": {
        "colab": {
          "base_uri": "https://localhost:8080/"
        },
        "id": "BcjFG1qhp_0l",
        "outputId": "4741f0d9-f89c-4b02-a04e-fe576cfc6b81"
      },
      "execution_count": 2,
      "outputs": [
        {
          "output_type": "stream",
          "name": "stdout",
          "text": [
            "123\n",
            "not a harshad number\n"
          ]
        }
      ]
    },
    {
      "cell_type": "code",
      "source": [
        "n=int(input())\n",
        "if n>1:\n",
        "  for i in range(2,n//2+1):\n",
        "    if n%i==0:\n",
        "      print('not a prime')\n",
        "      break\n",
        "    else:\n",
        "      print('prime number')\n",
        "else:\n",
        "  print('not a prime')"
      ],
      "metadata": {
        "colab": {
          "base_uri": "https://localhost:8080/"
        },
        "id": "fLR1TMdvqJAs",
        "outputId": "9d49e4b9-fa77-4cd7-d55a-c564f01c7ffa"
      },
      "execution_count": 3,
      "outputs": [
        {
          "output_type": "stream",
          "name": "stdout",
          "text": [
            "7\n",
            "prime number\n",
            "prime number\n"
          ]
        }
      ]
    },
    {
      "cell_type": "code",
      "source": [
        "# prompt: fabinoci series using for with neat explanation for each lined0\\\n",
        "\n",
        "# Taking input for the number of terms in the Fibonacci series\n",
        "num_terms = int(input(\"Enter the number of terms: \"))\n",
        "\n",
        "# Initializing the first two terms of the series\n",
        "num1 = 0\n",
        "num2 = 1\n",
        "\n",
        "# Printing the first two terms\n",
        "print(num1)\n",
        "print(num2)\n",
        "\n",
        "# Looping to generate the remaining terms\n",
        "for i in range(2, num_terms):\n",
        "  next_num = num1 + num2  # Calculating the next term by adding the previous two\n",
        "  print(next_num)  # Printing the next term\n",
        "  num1 = num2  # Updating the first term for the next iteration\n",
        "  num2 = next_num  # Updating the second term for the next iteration"
      ],
      "metadata": {
        "colab": {
          "base_uri": "https://localhost:8080/"
        },
        "id": "Ldf2eixMqS-G",
        "outputId": "da543e04-75b5-41ec-bdbd-c23f7b990e71"
      },
      "execution_count": 6,
      "outputs": [
        {
          "output_type": "stream",
          "name": "stdout",
          "text": [
            "Enter the number of terms: 1\n",
            "0\n",
            "1\n"
          ]
        }
      ]
    },
    {
      "cell_type": "code",
      "source": [
        "#prime nos in a given range\n",
        "ll=int(input())\n",
        "ul=int(input())\n",
        "for i in range(ll,ul+1):\n",
        "  if i>1:\n",
        "    for j in range(2,i//2+1):\n",
        "      if i%j==0:\n",
        "        break\n",
        "    else:\n",
        "      print(i)"
      ],
      "metadata": {
        "colab": {
          "base_uri": "https://localhost:8080/"
        },
        "id": "_EWGNk8QqXIz",
        "outputId": "2e48ca44-809f-4854-b1b3-9c6530a5ac26"
      },
      "execution_count": 7,
      "outputs": [
        {
          "output_type": "stream",
          "name": "stdout",
          "text": [
            "10\n",
            "20\n",
            "11\n",
            "13\n",
            "17\n",
            "19\n"
          ]
        }
      ]
    },
    {
      "cell_type": "code",
      "source": [
        "n = int(input(\"Enter a number: \"))\n",
        "s = 1  # Start with 1 because 1 is a divisor of all integers\n",
        "i = 2\n",
        "\n",
        "# We only need to check up to n//2 because a larger divisor would multiply with a smaller number\n",
        "while i <= n // 2:\n",
        "    if n % i == 0:\n",
        "        s += i\n",
        "    i += 1\n",
        "\n",
        "# A perfect number is one where the sum of its proper divisors (excluding itself) equals the number\n",
        "if n == s:\n",
        "    print(f\"{n} is a perfect number\")\n",
        "else:\n",
        "    print(f\"{n} is not a perfect number\")"
      ],
      "metadata": {
        "colab": {
          "base_uri": "https://localhost:8080/"
        },
        "id": "o6gYJf8kqaZM",
        "outputId": "64eb12fe-1429-44e1-af32-82542d948af3"
      },
      "execution_count": 8,
      "outputs": [
        {
          "output_type": "stream",
          "name": "stdout",
          "text": [
            "Enter a number: 6\n",
            "6 is a perfect number\n"
          ]
        }
      ]
    },
    {
      "cell_type": "code",
      "source": [
        "#armstrong numbers in a given range\n",
        "ll=int(input())\n",
        "ul=int(input())\n",
        "for i in range(ll,ul+1):\n",
        "  n=ll\n",
        "  l=len(str(n))\n",
        "  s=0\n",
        "  dummy=n\n",
        "  while dummy>0:\n",
        "    rem=dummy%10\n",
        "    dummy//=10\n",
        "    s=rem**l\n",
        "  if n==s:\n",
        "    print(n,'armstrong')"
      ],
      "metadata": {
        "colab": {
          "base_uri": "https://localhost:8080/"
        },
        "id": "eClqMvqEqfEI",
        "outputId": "cd26cb77-7317-43fd-c4bf-04a6a09f2479"
      },
      "execution_count": 9,
      "outputs": [
        {
          "name": "stdout",
          "output_type": "stream",
          "text": [
            "153\n",
            "160\n"
          ]
        }
      ]
    }
  ]
}