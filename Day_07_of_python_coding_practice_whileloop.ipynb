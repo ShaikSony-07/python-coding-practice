{
  "nbformat": 4,
  "nbformat_minor": 0,
  "metadata": {
    "colab": {
      "provenance": [],
      "authorship_tag": "ABX9TyMon8OBGSn/PSUKT7mz7dgX",
      "include_colab_link": true
    },
    "kernelspec": {
      "name": "python3",
      "display_name": "Python 3"
    },
    "language_info": {
      "name": "python"
    }
  },
  "cells": [
    {
      "cell_type": "markdown",
      "metadata": {
        "id": "view-in-github",
        "colab_type": "text"
      },
      "source": [
        "<a href=\"https://colab.research.google.com/github/ShaikSony-07/python-coding-practice/blob/main/Day_07_of_python_coding_practice_whileloop.ipynb\" target=\"_parent\"><img src=\"https://colab.research.google.com/assets/colab-badge.svg\" alt=\"Open In Colab\"/></a>"
      ]
    },
    {
      "cell_type": "code",
      "execution_count": 1,
      "metadata": {
        "colab": {
          "base_uri": "https://localhost:8080/"
        },
        "id": "ziGxv6vdu6po",
        "outputId": "d752f628-e62a-4bb8-a09b-a06fdb44cbb5"
      },
      "outputs": [
        {
          "output_type": "stream",
          "name": "stdout",
          "text": [
            "1\n",
            "100\n",
            "1\n",
            "2\n",
            "3\n",
            "4\n",
            "5\n",
            "6\n",
            "7\n",
            "8\n",
            "9\n",
            "89\n"
          ]
        }
      ],
      "source": [
        "#disarium number in given range  using while\n",
        "ll=int(input())\n",
        "ul=int(input())\n",
        "for i in range(ll,ul+1):\n",
        "  l=len(str(i))\n",
        "  d=i\n",
        "  s=0\n",
        "  while d>0:\n",
        "    rem=d%10\n",
        "    d//=10\n",
        "    s+=rem**l\n",
        "    l-=1\n",
        "  if s==i:\n",
        "    print(i)"
      ]
    },
    {
      "cell_type": "code",
      "source": [
        "#special number in given range using whileloop\n",
        "ll=int(input())\n",
        "ul=int(input())\n",
        "for i in range(ll,ul+1):\n",
        "  d=i\n",
        "  s=0\n",
        "  while d>0:\n",
        "    rem=d%10\n",
        "    d//=10\n",
        "    f=1\n",
        "    for j in range(1,rem+1):\n",
        "      f*=j\n",
        "    s+=f\n",
        "  if s==i:\n",
        "    print(i)"
      ],
      "metadata": {
        "colab": {
          "base_uri": "https://localhost:8080/"
        },
        "id": "kF3NYXtRwM2y",
        "outputId": "3c60b740-0c26-4672-956f-a0a43d643c48"
      },
      "execution_count": 8,
      "outputs": [
        {
          "output_type": "stream",
          "name": "stdout",
          "text": [
            "1\n",
            "10\n",
            "1\n",
            "2\n"
          ]
        }
      ]
    },
    {
      "cell_type": "code",
      "source": [
        "#reversing a number using whileloop\n",
        "n=int(input())\n",
        "rv=0\n",
        "while n>0:\n",
        "  rem=n%10\n",
        "  n//=10\n",
        "  rv=rv*10+rem\n",
        "print(rv)"
      ],
      "metadata": {
        "colab": {
          "base_uri": "https://localhost:8080/"
        },
        "id": "XHfI8qCX0ME3",
        "outputId": "0374a00d-b4b3-4239-9db7-d8bbc08d8ffc"
      },
      "execution_count": 11,
      "outputs": [
        {
          "output_type": "stream",
          "name": "stdout",
          "text": [
            "124\n",
            "421\n"
          ]
        }
      ]
    },
    {
      "cell_type": "code",
      "source": [
        "#Fibonacci Series up to N Terms\n",
        "n=int(input())\n",
        "a=0\n",
        "b=1\n",
        "c=0\n",
        "while c<n:\n",
        "    print(a, end=' ')\n",
        "    a, b = b, a + b\n",
        "    c+=1\n"
      ],
      "metadata": {
        "colab": {
          "base_uri": "https://localhost:8080/"
        },
        "id": "Hy-iB3hG0XWw",
        "outputId": "8f62e044-e413-402a-bbbd-47c2822bf23a"
      },
      "execution_count": 12,
      "outputs": [
        {
          "output_type": "stream",
          "name": "stdout",
          "text": [
            "5\n",
            "0 1 1 2 3 "
          ]
        }
      ]
    },
    {
      "cell_type": "code",
      "source": [
        "#Sum of Digits of a Number:\n",
        "num = int(input())\n",
        "s= 0\n",
        "\n",
        "while num != 0:\n",
        "    digit = num % 10\n",
        "    s+= digit\n",
        "    num //= 10\n",
        "print(s)"
      ],
      "metadata": {
        "colab": {
          "base_uri": "https://localhost:8080/"
        },
        "id": "0vQoQiWX1Wof",
        "outputId": "3c9e7772-f9d2-45d7-c23f-0279561ab652"
      },
      "execution_count": 13,
      "outputs": [
        {
          "output_type": "stream",
          "name": "stdout",
          "text": [
            "123\n",
            "6\n"
          ]
        }
      ]
    }
  ]
}