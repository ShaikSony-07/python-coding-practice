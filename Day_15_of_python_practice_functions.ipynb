{
  "nbformat": 4,
  "nbformat_minor": 0,
  "metadata": {
    "colab": {
      "provenance": [],
      "authorship_tag": "ABX9TyOOKmbk6gWqi9dlsEuckYe+",
      "include_colab_link": true
    },
    "kernelspec": {
      "name": "python3",
      "display_name": "Python 3"
    },
    "language_info": {
      "name": "python"
    }
  },
  "cells": [
    {
      "cell_type": "markdown",
      "metadata": {
        "id": "view-in-github",
        "colab_type": "text"
      },
      "source": [
        "<a href=\"https://colab.research.google.com/github/ShaikSony-07/python-coding-practice/blob/main/Day_15_of_python_practice_functions.ipynb\" target=\"_parent\"><img src=\"https://colab.research.google.com/assets/colab-badge.svg\" alt=\"Open In Colab\"/></a>"
      ]
    },
    {
      "cell_type": "code",
      "source": [
        "#wap to check given no is even or not by using functions\n",
        "def iseven(n):\n",
        "  if n%2==0:\n",
        "    return True\n",
        "  else:\n",
        "    return False\n",
        "print(iseven(10))"
      ],
      "metadata": {
        "colab": {
          "base_uri": "https://localhost:8080/"
        },
        "id": "EL2vE9cl1QnL",
        "outputId": "86a59255-50b4-4e5e-99f5-2aec1343d3fb"
      },
      "execution_count": 1,
      "outputs": [
        {
          "output_type": "stream",
          "name": "stdout",
          "text": [
            "True\n"
          ]
        }
      ]
    },
    {
      "cell_type": "code",
      "execution_count": 4,
      "metadata": {
        "colab": {
          "base_uri": "https://localhost:8080/"
        },
        "id": "UMmRIyXg1K1b",
        "outputId": "e9585b37-8e9e-413b-ff80-10d9467360a6"
      },
      "outputs": [
        {
          "output_type": "stream",
          "name": "stdout",
          "text": [
            "10\n",
            "19\n",
            "12\n",
            "14\n",
            "16\n",
            "18\n"
          ]
        }
      ],
      "source": [
        "#wap to print even numbers in a given range\n",
        "def iseven(n):\n",
        "  if n%2==0:\n",
        "    return True\n",
        "  else:\n",
        "    return False\n",
        "def even(ll,ul):\n",
        "  for i in range(11,ul+1):\n",
        "    if iseven(i):\n",
        "      print(i)\n",
        "ll=int(input())\n",
        "ul=int(input())\n",
        "even(ll,ul)"
      ]
    },
    {
      "cell_type": "code",
      "source": [
        "#prime numbers in a given range\n",
        "def isprime(n):\n",
        "  if n>1:\n",
        "    for i in range(2,n//2+1):\n",
        "      if n%i==0:\n",
        "        return False\n",
        "    else:\n",
        "      return True\n",
        "  else:\n",
        "    return False\n",
        "def prime(ll,ul):\n",
        "  for i in range(ll,ul+1):\n",
        "    if isprime(i):\n",
        "      print(i)\n",
        "ll=int(input())\n",
        "ul=int(input())\n",
        "prime(ll,ul)"
      ],
      "metadata": {
        "colab": {
          "base_uri": "https://localhost:8080/"
        },
        "id": "uonUxM9c35K2",
        "outputId": "2e7ecba6-6669-460e-e872-aba339b01a24"
      },
      "execution_count": 5,
      "outputs": [
        {
          "output_type": "stream",
          "name": "stdout",
          "text": [
            "1\n",
            "10\n",
            "2\n",
            "3\n",
            "5\n",
            "7\n"
          ]
        }
      ]
    },
    {
      "cell_type": "code",
      "source": [
        "#wap to print paliprime numbers\n",
        "def reverse(n):\n",
        "  d=n\n",
        "  rev=0\n",
        "  while d>0:\n",
        "    r=d%10\n",
        "    d//=10\n",
        "    rev=rev*10+r\n",
        "  return rev\n",
        "def isprime(n):\n",
        "  if n>1:\n",
        "    for i in range(2,n//2+1):\n",
        "      if n%i==0:\n",
        "        return False\n",
        "    else:\n",
        "      return True\n",
        "  else:\n",
        "    return False\n",
        "def paliprimenumbers(ll,ul):\n",
        "  for i in range(ll,ul+1):\n",
        "    if i==reverse(i) and isprime(i):\n",
        "      print(i)\n",
        "paliprimenumbers(1,150)"
      ],
      "metadata": {
        "colab": {
          "base_uri": "https://localhost:8080/"
        },
        "id": "syqCN7sl6dqF",
        "outputId": "13f945bc-b1d2-4991-94b2-b88469306ea8"
      },
      "execution_count": 6,
      "outputs": [
        {
          "output_type": "stream",
          "name": "stdout",
          "text": [
            "2\n",
            "3\n",
            "5\n",
            "7\n",
            "11\n",
            "101\n",
            "131\n"
          ]
        }
      ]
    },
    {
      "cell_type": "code",
      "source": [
        "#emirp number\n",
        "def reverse(n):\n",
        "  d=n\n",
        "  rev=0\n",
        "  while d>0:\n",
        "    r=d%10\n",
        "    d//=10\n",
        "    rev=rev*10+r\n",
        "  return rev\n",
        "def isprime(n):\n",
        "  if n>1:\n",
        "    for i in range(2,n//2+1):\n",
        "      if n%i==0:\n",
        "        return False\n",
        "    else:\n",
        "      return True\n",
        "  else:\n",
        "    return False\n",
        "def emirp(ll,ul):\n",
        "  for n in range(ll,ul+1):\n",
        "    k=reverse(n)\n",
        "    if isprime(n) and isprime(k):\n",
        "      if n!=k:\n",
        "        print(n)\n",
        "emirp(1,100)"
      ],
      "metadata": {
        "colab": {
          "base_uri": "https://localhost:8080/"
        },
        "id": "5wVqKcgV9y17",
        "outputId": "38537efc-093a-4ae7-e44b-0fa241dea134"
      },
      "execution_count": 7,
      "outputs": [
        {
          "output_type": "stream",
          "name": "stdout",
          "text": [
            "13\n",
            "17\n",
            "31\n",
            "37\n",
            "71\n",
            "73\n",
            "79\n",
            "97\n"
          ]
        }
      ]
    },
    {
      "cell_type": "code",
      "source": [
        "#armstrong numbers in given range  using functions\n",
        "def isarmstrong(n):\n",
        "  l=len(str(n))\n",
        "  d=n\n",
        "  c=0\n",
        "  while d>0:\n",
        "    r=d%10\n",
        "    d//=10\n",
        "    c+=r**l\n",
        "  if n==c:\n",
        "    return True\n",
        "  else:\n",
        "    return False\n",
        "def armstrong(ll,ul) :\n",
        "  for i in range(ll,ul+1):\n",
        "    if isarmstrong(i):\n",
        "      print(i)\n",
        "armstrong(1,160)\n"
      ],
      "metadata": {
        "colab": {
          "base_uri": "https://localhost:8080/"
        },
        "id": "6ZcKJWX0__9Y",
        "outputId": "8aaac07b-4509-47be-911e-7dc4ff837cfe"
      },
      "execution_count": 12,
      "outputs": [
        {
          "output_type": "stream",
          "name": "stdout",
          "text": [
            "1\n",
            "2\n",
            "3\n",
            "4\n",
            "5\n",
            "6\n",
            "7\n",
            "8\n",
            "9\n",
            "153\n"
          ]
        }
      ]
    }
  ]
}