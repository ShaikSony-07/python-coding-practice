{
  "nbformat": 4,
  "nbformat_minor": 0,
  "metadata": {
    "colab": {
      "provenance": [],
      "authorship_tag": "ABX9TyPxcWNA0ZV9uy+KCBpquD1t",
      "include_colab_link": true
    },
    "kernelspec": {
      "name": "python3",
      "display_name": "Python 3"
    },
    "language_info": {
      "name": "python"
    }
  },
  "cells": [
    {
      "cell_type": "markdown",
      "metadata": {
        "id": "view-in-github",
        "colab_type": "text"
      },
      "source": [
        "<a href=\"https://colab.research.google.com/github/ShaikSony-07/python-coding-practice/blob/main/Day_03_of_python_practice(forloop_range()).ipynb\" target=\"_parent\"><img src=\"https://colab.research.google.com/assets/colab-badge.svg\" alt=\"Open In Colab\"/></a>"
      ]
    },
    {
      "cell_type": "code",
      "execution_count": 2,
      "metadata": {
        "colab": {
          "base_uri": "https://localhost:8080/"
        },
        "id": "Kcn-WcGq04Xp",
        "outputId": "7f645dc7-af75-45b9-ef5a-8d155fb2c449"
      },
      "outputs": [
        {
          "output_type": "stream",
          "name": "stdout",
          "text": [
            "121\n",
            "7381\n"
          ]
        }
      ],
      "source": [
        "#range function provides lowerlimt and upper limit to the for loop to iterate\n",
        "#wap to print the sum of first n numbers\n",
        "n=int(input())\n",
        "s=0\n",
        "for i in range(n+1):\n",
        "    s+=i\n",
        "print(s)"
      ]
    },
    {
      "cell_type": "code",
      "source": [
        "#factorial of given number\n",
        "n=int(input())\n",
        "f=1\n",
        "for i in range(1,n+1):\n",
        "    f*=i\n",
        "print(f)"
      ],
      "metadata": {
        "colab": {
          "base_uri": "https://localhost:8080/"
        },
        "id": "qJpvNLmA1Bej",
        "outputId": "d1f4b224-d855-40c3-e570-251ac3503626"
      },
      "execution_count": 3,
      "outputs": [
        {
          "output_type": "stream",
          "name": "stdout",
          "text": [
            "4\n",
            "24\n"
          ]
        }
      ]
    },
    {
      "cell_type": "code",
      "source": [
        "#perfect number or not\n",
        "n=int(input())\n",
        "k=0\n",
        "for i in range(1,n):\n",
        "    if n%i==0:\n",
        "        k+=i\n",
        "if n==k:\n",
        "    print('perfect number')\n",
        "else:\n",
        "    print('not perfect number')"
      ],
      "metadata": {
        "colab": {
          "base_uri": "https://localhost:8080/"
        },
        "id": "Z-gJEuur1TJi",
        "outputId": "6133dcfe-4eed-4a6c-d72e-232fb2549837"
      },
      "execution_count": 4,
      "outputs": [
        {
          "output_type": "stream",
          "name": "stdout",
          "text": [
            "6\n",
            "perfect number\n"
          ]
        }
      ]
    },
    {
      "cell_type": "code",
      "source": [
        "#even numbers in given range\n",
        "ll=int(input())\n",
        "ul=int(input())\n",
        "for i in range(ll,ul+1):\n",
        "    if i%2==0:\n",
        "        print(i)"
      ],
      "metadata": {
        "colab": {
          "base_uri": "https://localhost:8080/"
        },
        "id": "aabGEJha1W3i",
        "outputId": "331197e9-b48e-4fd6-df81-ed021cd57037"
      },
      "execution_count": 5,
      "outputs": [
        {
          "output_type": "stream",
          "name": "stdout",
          "text": [
            "1\n",
            "20\n",
            "2\n",
            "4\n",
            "6\n",
            "8\n",
            "10\n",
            "12\n",
            "14\n",
            "16\n",
            "18\n",
            "20\n"
          ]
        }
      ]
    },
    {
      "cell_type": "code",
      "source": [
        "#wap to print alternate even numbers in given range\n",
        "ll=int(input())\n",
        "ul=int(input())\n",
        "c=0\n",
        "for i in range(ll,ul+1):\n",
        "    if i%2==0:\n",
        "        c+=1\n",
        "        if c%2!=0:\n",
        "            print(i)"
      ],
      "metadata": {
        "colab": {
          "base_uri": "https://localhost:8080/"
        },
        "id": "m1FNzg871bqk",
        "outputId": "2ca573e5-fda1-4165-80e7-5b4f70dc976e"
      },
      "execution_count": 6,
      "outputs": [
        {
          "output_type": "stream",
          "name": "stdout",
          "text": [
            "1\n",
            "10\n",
            "2\n",
            "6\n",
            "10\n"
          ]
        }
      ]
    },
    {
      "cell_type": "code",
      "source": [
        "#wap to print second even numbers in given range\n",
        "ll=int(input())\n",
        "ul=int(input())\n",
        "c=0\n",
        "for i in range(ll,ul+1):\n",
        "    if i%2==0:\n",
        "        c+=1\n",
        "        if c%2==0:\n",
        "            print(i)"
      ],
      "metadata": {
        "colab": {
          "base_uri": "https://localhost:8080/"
        },
        "id": "vt6796I11gEv",
        "outputId": "b463f824-1652-4574-ee21-2a958015901e"
      },
      "execution_count": 7,
      "outputs": [
        {
          "output_type": "stream",
          "name": "stdout",
          "text": [
            "1\n",
            "10\n",
            "4\n",
            "8\n"
          ]
        }
      ]
    },
    {
      "cell_type": "code",
      "source": [
        "#wap to print third even numbers in given range\n",
        "ll=int(input())\n",
        "ul=int(input())\n",
        "c=0\n",
        "for i in range(ll,ul+1):\n",
        "    if i%2==0:\n",
        "        c+=1\n",
        "        if c%3==0:\n",
        "            print(i)"
      ],
      "metadata": {
        "colab": {
          "base_uri": "https://localhost:8080/"
        },
        "id": "Lp4CfrKu1luk",
        "outputId": "49849eab-7c3d-4c61-d1bc-4ed26c988be3"
      },
      "execution_count": 9,
      "outputs": [
        {
          "output_type": "stream",
          "name": "stdout",
          "text": [
            "1\n",
            "10\n",
            "6\n"
          ]
        }
      ]
    },
    {
      "cell_type": "code",
      "source": [
        "'''for loop with range and collection data type -it is used when we r dealing with index positions or when we need to extract multiple elements then we will go with for with range and collection datatype'''\n",
        "#wapt print index positions of vowels in a given string\n",
        "s=input()\n",
        "v='aeiouAEIOU'\n",
        "for ip in range(len(s)):\n",
        "    if s[ip] in v:\n",
        "        print(ip)"
      ],
      "metadata": {
        "colab": {
          "base_uri": "https://localhost:8080/"
        },
        "id": "ZL8XmGzi1vs1",
        "outputId": "7aaf25b5-1872-47cf-8c52-eb942beb5b81"
      },
      "execution_count": 10,
      "outputs": [
        {
          "output_type": "stream",
          "name": "stdout",
          "text": [
            "hai python\n",
            "1\n",
            "2\n",
            "8\n"
          ]
        }
      ]
    },
    {
      "cell_type": "code",
      "source": [
        "#wapt print index positions of consonents in a given string\n",
        "s=input()\n",
        "v='aeiouAEIOU'\n",
        "for ip in range(len(s)):\n",
        "    if s[ip] not in v:\n",
        "        print(ip)"
      ],
      "metadata": {
        "colab": {
          "base_uri": "https://localhost:8080/"
        },
        "id": "2pQGRrtf13gH",
        "outputId": "94c12c80-0bc8-41a4-87b9-5879ea633bd9"
      },
      "execution_count": 11,
      "outputs": [
        {
          "output_type": "stream",
          "name": "stdout",
          "text": [
            "hai python\n",
            "0\n",
            "3\n",
            "4\n",
            "5\n",
            "6\n",
            "7\n",
            "9\n"
          ]
        }
      ]
    },
    {
      "cell_type": "code",
      "source": [
        "#sum of integers present in a str\n",
        "s=input()\n",
        "summ=0\n",
        "for i in s:\n",
        "    if i.isdigit():\n",
        "        k=int(i)\n",
        "        summ+=k\n",
        "print(summ)"
      ],
      "metadata": {
        "colab": {
          "base_uri": "https://localhost:8080/"
        },
        "id": "bJ3wXhNg19U8",
        "outputId": "8a5274f0-49d0-41e2-ebde-850884a999e9"
      },
      "execution_count": 12,
      "outputs": [
        {
          "output_type": "stream",
          "name": "stdout",
          "text": [
            "sony@1234\n",
            "10\n"
          ]
        }
      ]
    },
    {
      "cell_type": "code",
      "source": [
        "#sum of indexpositions of digits  present in a str\n",
        "s=input()\n",
        "summ=0\n",
        "for ip in range(len(s)):\n",
        "    if s[ip].isdigit():\n",
        "        summ+=ip\n",
        "print(summ)"
      ],
      "metadata": {
        "colab": {
          "base_uri": "https://localhost:8080/"
        },
        "id": "_3IocZ0i2CVx",
        "outputId": "8905c73c-2ff6-4ff4-877a-4646010e4b4b"
      },
      "execution_count": 13,
      "outputs": [
        {
          "output_type": "stream",
          "name": "stdout",
          "text": [
            "so23bvbd45j1\n",
            "33\n"
          ]
        }
      ]
    },
    {
      "cell_type": "code",
      "source": [
        "#sum of even digits present in odd index positions\n",
        "s=input()\n",
        "c=0\n",
        "for ip in range(len(s)):\n",
        "    if s[ip].isdigit():\n",
        "        k=int(s[ip])\n",
        "        if k%2==0 and ip%2==1:\n",
        "            c+=k\n",
        "print(c)"
      ],
      "metadata": {
        "colab": {
          "base_uri": "https://localhost:8080/"
        },
        "id": "SYQij_Kk2Ki1",
        "outputId": "c9038bf9-bf27-4b99-cec2-ae2a37072b91"
      },
      "execution_count": 15,
      "outputs": [
        {
          "output_type": "stream",
          "name": "stdout",
          "text": [
            "qa12bfr3ya4\n",
            "2\n"
          ]
        }
      ]
    },
    {
      "cell_type": "code",
      "source": [
        "#sum of even ip  of even numbers\n",
        "s=input()\n",
        "c=0\n",
        "for ip in range(len(s)):\n",
        "    if s[ip].isdigit():\n",
        "        k=int(s[ip])\n",
        "        if k%2==0 and ip%2==0:\n",
        "            c+=ip\n",
        "print(c)"
      ],
      "metadata": {
        "colab": {
          "base_uri": "https://localhost:8080/"
        },
        "id": "DgBSVYzC2XQ1",
        "outputId": "8dc1873e-ba1b-4bca-b1a9-6b9030f95104"
      },
      "execution_count": 16,
      "outputs": [
        {
          "output_type": "stream",
          "name": "stdout",
          "text": [
            "si42fg3\n",
            "2\n"
          ]
        }
      ]
    },
    {
      "cell_type": "code",
      "source": [
        "#sum of even ip  of odd numbers\n",
        "s=input()\n",
        "c=0\n",
        "for ip in range(len(s)):\n",
        "    if s[ip].isdigit():\n",
        "        k=int(s[ip])\n",
        "        if k%2==1 and ip%2==0:\n",
        "            c+=ip\n",
        "print(c)"
      ],
      "metadata": {
        "colab": {
          "base_uri": "https://localhost:8080/"
        },
        "id": "1aV5ZHl92cYj",
        "outputId": "dbc5cb25-fe1c-49d4-fbc8-6112b351da99"
      },
      "execution_count": 17,
      "outputs": [
        {
          "output_type": "stream",
          "name": "stdout",
          "text": [
            "sony234\n",
            "0\n"
          ]
        }
      ]
    },
    {
      "cell_type": "code",
      "source": [
        "#sum of odd digits present in even ip\n",
        "s=input()\n",
        "c=0\n",
        "for ip in range(len(s)):\n",
        "    if s[ip].isdigit():\n",
        "        k=int(s[ip])\n",
        "        if k%2==1 and ip%2==0:\n",
        "            c+=k\n",
        "print(c)"
      ],
      "metadata": {
        "colab": {
          "base_uri": "https://localhost:8080/"
        },
        "id": "8e2jwY1c2hEC",
        "outputId": "b68f346b-6add-47bb-9d96-2dcd19c4a917"
      },
      "execution_count": 20,
      "outputs": [
        {
          "output_type": "stream",
          "name": "stdout",
          "text": [
            "sony1\n",
            "1\n"
          ]
        }
      ]
    },
    {
      "cell_type": "code",
      "source": [
        "#wap to check how many times the given substring is present in given str\n",
        "s=input()\n",
        "sub=input()\n",
        "c=0\n",
        "for ip in range(len(s)):\n",
        "    if s[ip:ip+len(sub)]==sub:\n",
        "        c+=1\n",
        "print(c)"
      ],
      "metadata": {
        "colab": {
          "base_uri": "https://localhost:8080/"
        },
        "id": "KqbBaIyN2ng_",
        "outputId": "e5b1f0df-c09b-4e13-d157-0be62f05ea0c"
      },
      "execution_count": 21,
      "outputs": [
        {
          "output_type": "stream",
          "name": "stdout",
          "text": [
            "sonymamatha\n",
            "ma\n",
            "2\n"
          ]
        }
      ]
    },
    {
      "cell_type": "code",
      "source": [
        "m#wap to find sum of ip of the substr in agiven str\n",
        "s=input()\n",
        "sub=input()\n",
        "c=0\n",
        "for ip in range(len(s)):\n",
        "    if s[ip:ip+len(sub)]==sub:\n",
        "        c+=ip\n",
        "print(c)"
      ],
      "metadata": {
        "colab": {
          "base_uri": "https://localhost:8080/"
        },
        "id": "fBCP9BbG2qVA",
        "outputId": "7144bccd-71ca-4a61-ef6c-8af5f512765e"
      },
      "execution_count": 22,
      "outputs": [
        {
          "output_type": "stream",
          "name": "stdout",
          "text": [
            "sonymamatha\n",
            "ma\n",
            "10\n"
          ]
        }
      ]
    },
    {
      "cell_type": "code",
      "source": [
        "#wap to print all the palindromes present in a str\n",
        "s=input()\n",
        "c=0\n",
        "for sp in range(len(s)):\n",
        "    for ep in range(sp+1,len(s)):\n",
        "        k=s[sp:ep+1]\n",
        "        if k==k[::-1]:\n",
        "            c+=1\n",
        "            print(k)\n",
        "print(c)"
      ],
      "metadata": {
        "colab": {
          "base_uri": "https://localhost:8080/"
        },
        "id": "1iBvL4Bn2u0Y",
        "outputId": "6b04886d-4ef3-4f54-a6a8-48937ce692a4"
      },
      "execution_count": 23,
      "outputs": [
        {
          "output_type": "stream",
          "name": "stdout",
          "text": [
            "madam\n",
            "madam\n",
            "ada\n",
            "2\n"
          ]
        }
      ]
    }
  ]
}