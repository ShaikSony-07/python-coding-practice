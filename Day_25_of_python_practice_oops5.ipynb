{
  "nbformat": 4,
  "nbformat_minor": 0,
  "metadata": {
    "colab": {
      "provenance": [],
      "authorship_tag": "ABX9TyOIeZR3WiEDNQ+YE0DLE4jQ",
      "include_colab_link": true
    },
    "kernelspec": {
      "name": "python3",
      "display_name": "Python 3"
    },
    "language_info": {
      "name": "python"
    }
  },
  "cells": [
    {
      "cell_type": "markdown",
      "metadata": {
        "id": "view-in-github",
        "colab_type": "text"
      },
      "source": [
        "<a href=\"https://colab.research.google.com/github/ShaikSony-07/python-coding-practice/blob/main/Day_25_of_python_practice_oops5.ipynb\" target=\"_parent\"><img src=\"https://colab.research.google.com/assets/colab-badge.svg\" alt=\"Open In Colab\"/></a>"
      ]
    },
    {
      "cell_type": "code",
      "execution_count": 3,
      "metadata": {
        "colab": {
          "base_uri": "https://localhost:8080/"
        },
        "id": "bM2NaTKTkSWV",
        "outputId": "0c1fbe3a-2cd7-47ec-e47a-79134f264fcd"
      },
      "outputs": [
        {
          "output_type": "stream",
          "name": "stdout",
          "text": [
            "True\n"
          ]
        }
      ],
      "source": [
        "class rectangle():\n",
        "  def __init__(self,l,b):\n",
        "    self.length=l\n",
        "    self.breadth=b\n",
        "  def __gt__(self,other):\n",
        "    area1=self.length*self.breadth\n",
        "    area2=other.length*other.breadth\n",
        "    return True if area1>area2 else False\n",
        "r1=rectangle(1000,400)\n",
        "r2=rectangle(600,400)\n",
        "print(r1>r2)"
      ]
    },
    {
      "cell_type": "code",
      "source": [
        "#multiple inheritance\n",
        "class a:\n",
        "  x=100\n",
        "class b:\n",
        "  def __init__(self,n):\n",
        "    self.name=n\n",
        "class c(a,b):\n",
        "  y=200\n",
        "print(c.mro())\n",
        "oc=c('ashu')\n",
        "print(oc.x)\n",
        "print(oc.y)\n",
        "print(oc.name)"
      ],
      "metadata": {
        "colab": {
          "base_uri": "https://localhost:8080/"
        },
        "id": "nVrrOKN4o99R",
        "outputId": "33fb3dd4-a021-4f41-ba46-0c7cf6aea1ec"
      },
      "execution_count": 4,
      "outputs": [
        {
          "output_type": "stream",
          "name": "stdout",
          "text": [
            "[<class '__main__.c'>, <class '__main__.a'>, <class '__main__.b'>, <class 'object'>]\n",
            "100\n",
            "200\n",
            "ashu\n"
          ]
        }
      ]
    },
    {
      "cell_type": "code",
      "source": [
        "class a:\n",
        "  x=100\n",
        "class b(a):\n",
        "  def __init__(self,n):\n",
        "    self.name=n\n",
        "class c(b):\n",
        "  y=200\n",
        "print(c.mro())\n",
        "oc=c('harshad')\n",
        "print(oc.name)\n",
        "print(oc.x)\n",
        "print(oc.y)\n",
        "print(b.mro())\n",
        "ob=b('ashu')\n",
        "print(ob.x)\n",
        "print(ob.name)"
      ],
      "metadata": {
        "colab": {
          "base_uri": "https://localhost:8080/"
        },
        "id": "qk9buet4qCwC",
        "outputId": "5f8fd9b6-5892-4476-b1fd-a3f0069975e8"
      },
      "execution_count": 6,
      "outputs": [
        {
          "output_type": "stream",
          "name": "stdout",
          "text": [
            "[<class '__main__.c'>, <class '__main__.b'>, <class '__main__.a'>, <class 'object'>]\n",
            "harshad\n",
            "100\n",
            "200\n",
            "[<class '__main__.b'>, <class '__main__.a'>, <class 'object'>]\n",
            "100\n",
            "ashu\n"
          ]
        }
      ]
    },
    {
      "cell_type": "code",
      "source": [
        "#hybrid inheritance\n",
        "class a:\n",
        "  x=100\n",
        "  def __init__(self,n,a):\n",
        "    self.name=n\n",
        "    self.age=a\n",
        "class b:\n",
        "  def __init__(self,n):\n",
        "    self.name=n\n",
        "class c(a):\n",
        "  y=200\n",
        "class d(b):\n",
        "  pass\n",
        "class e(c,d):\n",
        "  pass\n",
        "print(e.mro())\n",
        "oe=e('ashiu',3)"
      ],
      "metadata": {
        "colab": {
          "base_uri": "https://localhost:8080/"
        },
        "id": "vbiDkAJ2rKHr",
        "outputId": "c7f610ff-ebf7-4905-a8f2-6ea225da79ba"
      },
      "execution_count": 7,
      "outputs": [
        {
          "output_type": "stream",
          "name": "stdout",
          "text": [
            "[<class '__main__.e'>, <class '__main__.c'>, <class '__main__.a'>, <class '__main__.d'>, <class '__main__.b'>, <class 'object'>]\n"
          ]
        }
      ]
    },
    {
      "cell_type": "code",
      "source": [
        "class a:\n",
        "  x=100\n",
        "  def __init__(self,n,a):\n",
        "    self.name=n\n",
        "    self.age=a\n",
        "class b(a):\n",
        "  def __init__(self,n):\n",
        "    self.name=n\n",
        "class c(a):\n",
        "  y=200\n",
        "class d(b,c):\n",
        "  pass\n",
        "print(d.mro())\n",
        "od=d('ashu')"
      ],
      "metadata": {
        "colab": {
          "base_uri": "https://localhost:8080/"
        },
        "id": "bi3xVnf1syNZ",
        "outputId": "86857d67-4a8e-4742-c267-4e7dca7e8834"
      },
      "execution_count": 8,
      "outputs": [
        {
          "output_type": "stream",
          "name": "stdout",
          "text": [
            "[<class '__main__.d'>, <class '__main__.b'>, <class '__main__.c'>, <class '__main__.a'>, <class 'object'>]\n"
          ]
        }
      ]
    }
  ]
}