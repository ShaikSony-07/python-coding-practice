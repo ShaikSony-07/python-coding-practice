{
  "nbformat": 4,
  "nbformat_minor": 0,
  "metadata": {
    "colab": {
      "provenance": [],
      "authorship_tag": "ABX9TyOB6gsMDC03gyLH9qjoK789",
      "include_colab_link": true
    },
    "kernelspec": {
      "name": "python3",
      "display_name": "Python 3"
    },
    "language_info": {
      "name": "python"
    }
  },
  "cells": [
    {
      "cell_type": "markdown",
      "metadata": {
        "id": "view-in-github",
        "colab_type": "text"
      },
      "source": [
        "<a href=\"https://colab.research.google.com/github/ShaikSony-07/python-coding-practice/blob/main/Day_28_of_python_practice_singleton_class.ipynb\" target=\"_parent\"><img src=\"https://colab.research.google.com/assets/colab-badge.svg\" alt=\"Open In Colab\"/></a>"
      ]
    },
    {
      "cell_type": "code",
      "execution_count": 3,
      "metadata": {
        "colab": {
          "base_uri": "https://localhost:8080/"
        },
        "id": "FvrNgG9FA0XR",
        "outputId": "2278f0a6-205c-40ab-ee6e-87521dcaee99"
      },
      "outputs": [
        {
          "output_type": "stream",
          "name": "stdout",
          "text": [
            "0\n",
            "1\n",
            "2\n",
            "3\n",
            "4\n"
          ]
        }
      ],
      "source": [
        "#giving the parameter a default value of 0\n",
        "def __init__(self,max=0):\n",
        "  self.max=max\n",
        "def __iter__(self):\n",
        "  self.n=0\n",
        "  return self\n",
        "def __next__(self):\n",
        "  if self.n>self.max:\n",
        "    raise stopIteration\n",
        "  else:\n",
        "    result=self.n\n",
        "    self.n+=1\n",
        "    return result\n",
        "for number in range(5):\n",
        "  print(number)\n",
        "  def upto(n):\n",
        "    for i in range(n+1):\n",
        "      yield i\n",
        "    for number in range(5):\n",
        "      print(number)"
      ]
    },
    {
      "cell_type": "code",
      "source": [
        "#singleton class\n",
        "def singleton(arg):\n",
        "  d={}\n",
        "  def inner():\n",
        "    if arg not in d:\n",
        "      d[arg]=arg()\n",
        "    return d[arg]\n",
        "  return inner\n",
        "@singleton\n",
        "class vinayaka:\n",
        "  def __init__(self):\n",
        "    self.tickets=300\n",
        "  def booking(self,n):\n",
        "    if self.tickets>=n:\n",
        "      self.tickets-=n\n",
        "      print('tickets are booked successfully')\n",
        "      print(f'available tickets are{self.tickets}')\n",
        "    else:\n",
        "      print('sry')\n",
        "      print(f'available tickets are {self.tickets}')\n",
        "jyothi=vinayaka()\n",
        "jyothi.booking(100)\n",
        "jyothi.booking(50)\n",
        "sagar=vinayaka()\n",
        "sagar.booking(200)\n",
        "print(jyothi)\n",
        "print(sagar)"
      ],
      "metadata": {
        "colab": {
          "base_uri": "https://localhost:8080/"
        },
        "id": "TWFWop4jFmf8",
        "outputId": "c733211c-195e-4751-869c-f6013970a7b5"
      },
      "execution_count": 6,
      "outputs": [
        {
          "output_type": "stream",
          "name": "stdout",
          "text": [
            "tickets are booked successfully\n",
            "available tickets are200\n",
            "tickets are booked successfully\n",
            "available tickets are150\n",
            "sry\n",
            "available tickets are 150\n",
            "<__main__.vinayaka object at 0x7e0b9d0631f0>\n",
            "<__main__.vinayaka object at 0x7e0b9d0631f0>\n"
          ]
        }
      ]
    },
    {
      "cell_type": "code",
      "source": [
        "#creating a series from the given range by using custom iterators\n",
        "class series:\n",
        "  def __init__(self,fv,lv,up=1):\n",
        "    self.fv=fv\n",
        "    self.lv=lv\n",
        "    self.up=up\n",
        "  def __iter__(self):\n",
        "    print('--iter-- is called')\n",
        "    self.i=self.fv\n",
        "    return self\n",
        "  def __next__(self):\n",
        "    print('--next-- is called')\n",
        "    if self.i<self.lv:\n",
        "      dummy=self.i\n",
        "      self.i+=self.up\n",
        "      return dummy\n",
        "    raise StopIteration\n",
        "p=series(1,10)\n",
        "for k in p:\n",
        "  print(k)"
      ],
      "metadata": {
        "colab": {
          "base_uri": "https://localhost:8080/"
        },
        "id": "dxV5Nc1EHx7v",
        "outputId": "8c17327c-8a05-4426-8243-9bed70f36e14"
      },
      "execution_count": 9,
      "outputs": [
        {
          "output_type": "stream",
          "name": "stdout",
          "text": [
            "--iter-- is called\n",
            "--next-- is called\n",
            "1\n",
            "--next-- is called\n",
            "2\n",
            "--next-- is called\n",
            "3\n",
            "--next-- is called\n",
            "4\n",
            "--next-- is called\n",
            "5\n",
            "--next-- is called\n",
            "6\n",
            "--next-- is called\n",
            "7\n",
            "--next-- is called\n",
            "8\n",
            "--next-- is called\n",
            "9\n",
            "--next-- is called\n"
          ]
        }
      ]
    },
    {
      "cell_type": "code",
      "source": [
        "#write a custom iterator to print fibbonoci series\n",
        "class fibbo:\n",
        "  def __init__(self,fv,sv,n):\n",
        "    self.fv=fv\n",
        "    self.sv=sv\n",
        "    self.n=n\n",
        "  def __iter__(self):\n",
        "    self.i=1\n",
        "    return self\n",
        "  def __next__(self):\n",
        "    if self.i<=self.n:\n",
        "      dummy=self.fv\n",
        "      self.fv=self.sv\n",
        "      self.sv=dummy+self.fv\n",
        "      self.i+=1\n",
        "      return dummy\n",
        "    raise StopIteration\n",
        "f=fibbo(2,3,10)\n",
        "for k in f:\n",
        "  print(k)\n",
        "\n"
      ],
      "metadata": {
        "colab": {
          "base_uri": "https://localhost:8080/"
        },
        "id": "8ITbotAqKLMt",
        "outputId": "adff548e-492a-4cfe-e6d1-85f8d00ed8ca"
      },
      "execution_count": 10,
      "outputs": [
        {
          "output_type": "stream",
          "name": "stdout",
          "text": [
            "2\n",
            "3\n",
            "5\n",
            "8\n",
            "13\n",
            "21\n",
            "34\n",
            "55\n",
            "89\n",
            "144\n"
          ]
        }
      ]
    }
  ]
}