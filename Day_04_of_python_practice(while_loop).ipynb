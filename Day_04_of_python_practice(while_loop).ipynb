{
  "nbformat": 4,
  "nbformat_minor": 0,
  "metadata": {
    "colab": {
      "provenance": [],
      "authorship_tag": "ABX9TyOwY54u6Fb/itRPLksP8GJE",
      "include_colab_link": true
    },
    "kernelspec": {
      "name": "python3",
      "display_name": "Python 3"
    },
    "language_info": {
      "name": "python"
    }
  },
  "cells": [
    {
      "cell_type": "markdown",
      "metadata": {
        "id": "view-in-github",
        "colab_type": "text"
      },
      "source": [
        "<a href=\"https://colab.research.google.com/github/ShaikSony-07/python-coding-practice/blob/main/Day_04_of_python_practice(while_loop).ipynb\" target=\"_parent\"><img src=\"https://colab.research.google.com/assets/colab-badge.svg\" alt=\"Open In Colab\"/></a>"
      ]
    },
    {
      "cell_type": "code",
      "execution_count": 1,
      "metadata": {
        "colab": {
          "base_uri": "https://localhost:8080/"
        },
        "id": "9MkmDw0H309v",
        "outputId": "6726cce9-b86d-4c67-d43c-168900f3fb44"
      },
      "outputs": [
        {
          "output_type": "stream",
          "name": "stdout",
          "text": [
            "4\n",
            "3\n",
            "2\n"
          ]
        }
      ],
      "source": [
        "#while loop- it is used when we are not sure about how many times we need to iterate the statements,it will be executed based on ne condition ,to avoid the infinite loop we should make one point of time the condition becomes false:\n",
        "a=4\n",
        "while a>1:\n",
        "    print(a)\n",
        "    a-=1\n"
      ]
    },
    {
      "cell_type": "code",
      "source": [
        "a=4\n",
        "while a>1:\n",
        "    print('inside whileloop')\n",
        "    print(a)\n",
        "    a-=1\n",
        "print('outside the whileloop')"
      ],
      "metadata": {
        "colab": {
          "base_uri": "https://localhost:8080/"
        },
        "id": "ek0XqlYg3_2r",
        "outputId": "982c185a-dbae-4d53-84c0-479525ec9bf3"
      },
      "execution_count": 2,
      "outputs": [
        {
          "output_type": "stream",
          "name": "stdout",
          "text": [
            "inside whileloop\n",
            "4\n",
            "inside whileloop\n",
            "3\n",
            "inside whileloop\n",
            "2\n",
            "outside the whileloop\n"
          ]
        }
      ]
    },
    {
      "cell_type": "code",
      "source": [
        "#wap to print 1st n numbers by using while\n",
        "n=int(input())\n",
        "i=1\n",
        "while i<=n:\n",
        "    print(i)\n",
        "    i+=1"
      ],
      "metadata": {
        "colab": {
          "base_uri": "https://localhost:8080/"
        },
        "id": "Yo4bSn9w4C70",
        "outputId": "e179003d-ce69-43ab-eb4d-1e4ad87ac1f6"
      },
      "execution_count": 3,
      "outputs": [
        {
          "output_type": "stream",
          "name": "stdout",
          "text": [
            "5\n",
            "1\n",
            "2\n",
            "3\n",
            "4\n",
            "5\n"
          ]
        }
      ]
    },
    {
      "cell_type": "code",
      "source": [
        "#wap to find the factorial using whileloop\n",
        "n=int(input())\n",
        "f=1\n",
        "i=1\n",
        "while i<=n:\n",
        "    f*=i\n",
        "    i+=1\n",
        "print(f)"
      ],
      "metadata": {
        "colab": {
          "base_uri": "https://localhost:8080/"
        },
        "id": "gprdBrVa4JEg",
        "outputId": "d71d5b7b-f349-472a-890a-01ba33db988f"
      },
      "execution_count": 4,
      "outputs": [
        {
          "output_type": "stream",
          "name": "stdout",
          "text": [
            "5\n",
            "120\n"
          ]
        }
      ]
    },
    {
      "cell_type": "code",
      "source": [
        "#wap to find given number is perfect number or not\n",
        "n=int(input())\n",
        "s=0\n",
        "i=1\n",
        "while i<=n//2:\n",
        "    if n%i==0:\n",
        "        s+=i\n",
        "    i+=1\n",
        "if s==n:\n",
        "    print('it is a perfect number')\n",
        "else:\n",
        "    print('not a perfect number')"
      ],
      "metadata": {
        "colab": {
          "base_uri": "https://localhost:8080/"
        },
        "id": "X0AeVwP64NG3",
        "outputId": "f5f5c20f-9a50-4273-b51a-5b8722d4ccbc"
      },
      "execution_count": 5,
      "outputs": [
        {
          "output_type": "stream",
          "name": "stdout",
          "text": [
            "24\n",
            "not a perfect number\n"
          ]
        }
      ]
    },
    {
      "cell_type": "code",
      "source": [
        "#even numbers in given range using while\n",
        "ll=int(input())\n",
        "ul=int(input())\n",
        "i=1\n",
        "while i<=ul+1:\n",
        "    if i%2==0:\n",
        "        print(i)\n",
        "    i+=1"
      ],
      "metadata": {
        "colab": {
          "base_uri": "https://localhost:8080/"
        },
        "id": "vT_RoW064S9C",
        "outputId": "0f624c48-4b4d-4095-c332-f019dc432a1e"
      },
      "execution_count": 7,
      "outputs": [
        {
          "output_type": "stream",
          "name": "stdout",
          "text": [
            "1\n",
            "20\n",
            "2\n",
            "4\n",
            "6\n",
            "8\n",
            "10\n",
            "12\n",
            "14\n",
            "16\n",
            "18\n",
            "20\n"
          ]
        }
      ]
    },
    {
      "cell_type": "code",
      "source": [
        "#input l=[11,22,33,44],output l=[22,11,44,33]\n",
        "l=eval(input())\n",
        "for ip in range(len(l)):\n",
        "    if ip%2==0:\n",
        "        l[ip],l[ip+1]=l[ip+1],l[ip]\n",
        "print(l)"
      ],
      "metadata": {
        "colab": {
          "base_uri": "https://localhost:8080/"
        },
        "id": "K5gVVE1q4aw1",
        "outputId": "72bedcf5-0089-4497-f8b2-105af208a4ff"
      },
      "execution_count": 8,
      "outputs": [
        {
          "output_type": "stream",
          "name": "stdout",
          "text": [
            "[11,22,33,44]\n",
            "[22, 11, 44, 33]\n"
          ]
        }
      ]
    },
    {
      "cell_type": "code",
      "source": [
        "#reverse a str without using slicing\n",
        "s=input()\n",
        "r=''\n",
        "for i in s:\n",
        "    r=i+r\n",
        "print(r)"
      ],
      "metadata": {
        "colab": {
          "base_uri": "https://localhost:8080/"
        },
        "id": "j9jrprAc4hQu",
        "outputId": "f05fb85c-8609-477e-9589-c3169adade20"
      },
      "execution_count": 9,
      "outputs": [
        {
          "output_type": "stream",
          "name": "stdout",
          "text": [
            "sony\n",
            "ynos\n"
          ]
        }
      ]
    },
    {
      "cell_type": "code",
      "source": [
        "#replace all the vowels with their index positions\n",
        "s=input()\n",
        "r=''\n",
        "for ip in range(len(s)):\n",
        "    if s[ip] in 'aeiouAEIOU':\n",
        "        r+=str(ip)\n",
        "    else:\n",
        "        r+=s[ip]\n",
        "print(r)"
      ],
      "metadata": {
        "colab": {
          "base_uri": "https://localhost:8080/"
        },
        "id": "CbyyHojl4lsR",
        "outputId": "b29135d0-dc89-43e5-ec97-c9818328c421"
      },
      "execution_count": 10,
      "outputs": [
        {
          "output_type": "stream",
          "name": "stdout",
          "text": [
            "python\n",
            "pyth4n\n"
          ]
        }
      ]
    },
    {
      "cell_type": "code",
      "source": [
        "#replace all the digits with h in a str\n",
        "s=input()\n",
        "r=''\n",
        "for i in s:\n",
        "    if i.isdigit():\n",
        "        r+='h'\n",
        "    else:\n",
        "        r+=i\n",
        "print(r)"
      ],
      "metadata": {
        "colab": {
          "base_uri": "https://localhost:8080/"
        },
        "id": "Y9_kO06i4p2b",
        "outputId": "b2b49307-3016-4007-ecb2-193a6931339c"
      },
      "execution_count": 11,
      "outputs": [
        {
          "output_type": "stream",
          "name": "stdout",
          "text": [
            "s1hger2\n",
            "shhgerh\n"
          ]
        }
      ]
    },
    {
      "cell_type": "code",
      "source": [
        "#replace all the digits with h in a str\n",
        "s=input()\n",
        "r=''\n",
        "for ip in range(len(s)):\n",
        "    if s[ip].isdigit():\n",
        "        r+='h'\n",
        "    else:\n",
        "        r+=s[ip]\n",
        "print(r)"
      ],
      "metadata": {
        "colab": {
          "base_uri": "https://localhost:8080/"
        },
        "id": "x-4pJkfn4vkL",
        "outputId": "fde5aa53-8663-4f98-9cb0-137c92081256"
      },
      "execution_count": 12,
      "outputs": [
        {
          "output_type": "stream",
          "name": "stdout",
          "text": [
            "s1mu56\n",
            "shmuhh\n"
          ]
        }
      ]
    },
    {
      "cell_type": "code",
      "source": [
        "#wap to find the sum of individual digits of a number\n",
        "n=int(input())\n",
        "r=n\n",
        "s=0\n",
        "while r>0:\n",
        "    s+=r%10\n",
        "    r//=10\n",
        "print(s)"
      ],
      "metadata": {
        "colab": {
          "base_uri": "https://localhost:8080/"
        },
        "id": "Vjtd6YL-427Y",
        "outputId": "d92d8f28-6512-4df5-e659-c3b9543e68db"
      },
      "execution_count": 13,
      "outputs": [
        {
          "output_type": "stream",
          "name": "stdout",
          "text": [
            "123\n",
            "6\n"
          ]
        }
      ]
    },
    {
      "cell_type": "code",
      "source": [
        "#check given number is palindrome or not\n",
        "n=int(input())\n",
        "r=n\n",
        "k=0\n",
        "while r>0:\n",
        "    rem=r%10\n",
        "    k=k*10+rem\n",
        "    r//=10\n",
        "print(k)"
      ],
      "metadata": {
        "colab": {
          "base_uri": "https://localhost:8080/"
        },
        "id": "qg_8iRfC5PoV",
        "outputId": "cae8236b-3161-4a1d-fce2-1d9b6a70318e"
      },
      "execution_count": 17,
      "outputs": [
        {
          "output_type": "stream",
          "name": "stdout",
          "text": [
            "121\n",
            "121\n"
          ]
        }
      ]
    },
    {
      "cell_type": "code",
      "source": [
        "#wap to find reverse of a number\n",
        "n=int(input())\n",
        "r=0\n",
        "while n>0:\n",
        "    rem=n%10\n",
        "    r=r*10+rem\n",
        "    n//=10\n",
        "print(r)"
      ],
      "metadata": {
        "colab": {
          "base_uri": "https://localhost:8080/"
        },
        "id": "ZlA2LD4G5Xl8",
        "outputId": "dc65eeeb-6128-4be1-8b7e-8653f5234f92"
      },
      "execution_count": 18,
      "outputs": [
        {
          "output_type": "stream",
          "name": "stdout",
          "text": [
            "123\n",
            "321\n"
          ]
        }
      ]
    }
  ]
}