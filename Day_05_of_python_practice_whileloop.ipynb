{
  "nbformat": 4,
  "nbformat_minor": 0,
  "metadata": {
    "colab": {
      "provenance": [],
      "authorship_tag": "ABX9TyPVQGCGJQ6ROUSJ9tEeNoaG",
      "include_colab_link": true
    },
    "kernelspec": {
      "name": "python3",
      "display_name": "Python 3"
    },
    "language_info": {
      "name": "python"
    }
  },
  "cells": [
    {
      "cell_type": "markdown",
      "metadata": {
        "id": "view-in-github",
        "colab_type": "text"
      },
      "source": [
        "<a href=\"https://colab.research.google.com/github/ShaikSony-07/python-coding-practice/blob/main/Day_05_of_python_practice_whileloop.ipynb\" target=\"_parent\"><img src=\"https://colab.research.google.com/assets/colab-badge.svg\" alt=\"Open In Colab\"/></a>"
      ]
    },
    {
      "cell_type": "code",
      "execution_count": 2,
      "metadata": {
        "colab": {
          "base_uri": "https://localhost:8080/"
        },
        "id": "iaIR3bX650l9",
        "outputId": "ac9991db-1b6a-4404-80f4-b76101d92197"
      },
      "outputs": [
        {
          "output_type": "stream",
          "name": "stdout",
          "text": [
            "153\n",
            "armstrong number\n"
          ]
        }
      ],
      "source": [
        "#given number is armstrong number or not\n",
        "n=int(input())\n",
        "l=len(str(n))\n",
        "dummy=n\n",
        "c=0\n",
        "while dummy>0:\n",
        "    rem=dummy%10\n",
        "    dummy//=10\n",
        "    c+=rem**l\n",
        "if c==n:\n",
        "    print('armstrong number')"
      ]
    },
    {
      "cell_type": "code",
      "source": [
        "#given number is disorium number or not\n",
        "n=int(input())\n",
        "l=len(str(n))\n",
        "dummy=n\n",
        "c=0\n",
        "while dummy>0:\n",
        "    rem=dummy%10\n",
        "    dummy//=10\n",
        "    c+=rem**l\n",
        "    l-=1\n",
        "if c==n:\n",
        "    print('disorium number')"
      ],
      "metadata": {
        "colab": {
          "base_uri": "https://localhost:8080/"
        },
        "id": "MMLbsuPW6Oo-",
        "outputId": "81e428a4-f47f-4050-cebc-a81375ea7137"
      },
      "execution_count": 3,
      "outputs": [
        {
          "output_type": "stream",
          "name": "stdout",
          "text": [
            "89\n",
            "disorium number\n"
          ]
        }
      ]
    },
    {
      "cell_type": "code",
      "source": [
        "#given number is harshad number or not\n",
        "n=int(input())\n",
        "dummy=n\n",
        "s=0\n",
        "while dummy>0:\n",
        "    rem=dummy%10\n",
        "    dummy//=10\n",
        "    s+=rem\n",
        "if n%s==0:\n",
        "    print('harshad number')"
      ],
      "metadata": {
        "colab": {
          "base_uri": "https://localhost:8080/"
        },
        "id": "mYwtkox66YSQ",
        "outputId": "69034193-4865-495c-cf9d-fc66c03484b7"
      },
      "execution_count": 4,
      "outputs": [
        {
          "output_type": "stream",
          "name": "stdout",
          "text": [
            "18\n",
            "harshad number\n"
          ]
        }
      ]
    }
  ]
}