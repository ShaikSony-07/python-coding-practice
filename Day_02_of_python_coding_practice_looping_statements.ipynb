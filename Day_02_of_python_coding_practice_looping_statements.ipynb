{
  "nbformat": 4,
  "nbformat_minor": 0,
  "metadata": {
    "colab": {
      "provenance": [],
      "authorship_tag": "ABX9TyNKbm9UdkXiV7PA+XvSu6q2",
      "include_colab_link": true
    },
    "kernelspec": {
      "name": "python3",
      "display_name": "Python 3"
    },
    "language_info": {
      "name": "python"
    }
  },
  "cells": [
    {
      "cell_type": "markdown",
      "metadata": {
        "id": "view-in-github",
        "colab_type": "text"
      },
      "source": [
        "<a href=\"https://colab.research.google.com/github/ShaikSony-07/python-coding-practice/blob/main/Day_02_of_python_coding_practice_looping_statements.ipynb\" target=\"_parent\"><img src=\"https://colab.research.google.com/assets/colab-badge.svg\" alt=\"Open In Colab\"/></a>"
      ]
    },
    {
      "cell_type": "code",
      "execution_count": 1,
      "metadata": {
        "colab": {
          "base_uri": "https://localhost:8080/"
        },
        "id": "9BFWNId5zBQj",
        "outputId": "be596d90-7dde-4958-beb0-4d4ab6d4181b"
      },
      "outputs": [
        {
          "output_type": "stream",
          "name": "stdout",
          "text": [
            "enter the loop\n",
            "h\n",
            "enter the loop\n",
            "e\n",
            "enter the loop\n",
            "l\n",
            "enter the loop\n",
            "l\n",
            "enter the loop\n",
            "o\n"
          ]
        }
      ],
      "source": [
        "#looping staements\n",
        "'''in python we have 2 loops for loop and while loop\n",
        "for loop-it is used when we know the number of times we need to iterate some set of statements\n",
        "again in for loop there will be 3 types\n",
        "1.for with collection data type-it is used when we want to extract each and every element directly from the cdt and perform some operation\n",
        "2.for with range- it is used when we r dealing with integers\n",
        "3.for with range and collection data type- its is used when we r dealing with index positions or when we try to extract multiple elemnts at a time\n",
        "for loop performs  2 operations\n",
        "1.initialization and 2. traversing'''\n",
        "#for with string\n",
        "s=\"hello\"\n",
        "for i in s:\n",
        "    print('enter the loop')\n",
        "    print(i)"
      ]
    },
    {
      "cell_type": "code",
      "source": [
        "#for with list\n",
        "l=[11,77,33,54,77]\n",
        "for i in l:\n",
        "    print(i)"
      ],
      "metadata": {
        "colab": {
          "base_uri": "https://localhost:8080/"
        },
        "id": "owKNHPoGzV1v",
        "outputId": "ee8db433-77dd-4159-cb9f-78d80ef2a9a1"
      },
      "execution_count": 2,
      "outputs": [
        {
          "output_type": "stream",
          "name": "stdout",
          "text": [
            "11\n",
            "77\n",
            "33\n",
            "54\n",
            "77\n"
          ]
        }
      ]
    },
    {
      "cell_type": "code",
      "source": [
        "#for with tuple\n",
        "t=(11,5,3,7,8)\n",
        "for i in t:\n",
        "    print(i)"
      ],
      "metadata": {
        "colab": {
          "base_uri": "https://localhost:8080/"
        },
        "id": "7wrjub3PzYuF",
        "outputId": "70b25d35-ee2e-4e73-ba66-a66f9ef1fe38"
      },
      "execution_count": 3,
      "outputs": [
        {
          "output_type": "stream",
          "name": "stdout",
          "text": [
            "11\n",
            "5\n",
            "3\n",
            "7\n",
            "8\n"
          ]
        }
      ]
    },
    {
      "cell_type": "code",
      "source": [
        "#for with set\n",
        "s={21,3,4,56,77}\n",
        "for i in s:\n",
        "    print(i)\n"
      ],
      "metadata": {
        "colab": {
          "base_uri": "https://localhost:8080/"
        },
        "id": "W8dOk2WOzeuP",
        "outputId": "741f9275-3638-43f5-97b5-635f742e2c9d"
      },
      "execution_count": 4,
      "outputs": [
        {
          "output_type": "stream",
          "name": "stdout",
          "text": [
            "3\n",
            "4\n",
            "21\n",
            "56\n",
            "77\n"
          ]
        }
      ]
    },
    {
      "cell_type": "code",
      "source": [
        "#for with dictionary\n",
        "d={'a':1,'b':3}\n",
        "for i in d:\n",
        "    print(i,d[i])"
      ],
      "metadata": {
        "colab": {
          "base_uri": "https://localhost:8080/"
        },
        "id": "iZfgHeoCzh_F",
        "outputId": "7c3cc2b6-e9d3-48db-fd41-7d5d02ef5fde"
      },
      "execution_count": 5,
      "outputs": [
        {
          "output_type": "stream",
          "name": "stdout",
          "text": [
            "a 1\n",
            "b 3\n"
          ]
        }
      ]
    },
    {
      "cell_type": "code",
      "source": [
        "#count of elements in string\n",
        "s='sony'\n",
        "c=0\n",
        "for i in s:\n",
        "    c+=1\n",
        "print(c)"
      ],
      "metadata": {
        "colab": {
          "base_uri": "https://localhost:8080/"
        },
        "id": "t_sYmWZRzkon",
        "outputId": "f45d4ca0-b369-4d8e-decf-d80b0d4cfd95"
      },
      "execution_count": 6,
      "outputs": [
        {
          "output_type": "stream",
          "name": "stdout",
          "text": [
            "4\n"
          ]
        }
      ]
    },
    {
      "cell_type": "code",
      "source": [
        "#wap to check how many times given substring is present in the given str without using count method\n",
        "s='sony'\n",
        "sub='s'\n",
        "c=0\n",
        "#print(s.count('s'))\n",
        "for i in s:\n",
        "    if sub==s:\n",
        "        c+=1\n",
        "print(c)"
      ],
      "metadata": {
        "colab": {
          "base_uri": "https://localhost:8080/"
        },
        "id": "Yia7aq7Uznuv",
        "outputId": "81c71de9-b2e3-4537-a551-ebd651a9c61c"
      },
      "execution_count": 7,
      "outputs": [
        {
          "output_type": "stream",
          "name": "stdout",
          "text": [
            "0\n"
          ]
        }
      ]
    },
    {
      "cell_type": "code",
      "source": [
        "#vowels count in str\n",
        "s=input()\n",
        "c=0\n",
        "for i in s:\n",
        "    if i in 'aeiouAEIOU':\n",
        "        c+=1\n",
        "print(c)"
      ],
      "metadata": {
        "colab": {
          "base_uri": "https://localhost:8080/"
        },
        "id": "AlsuusyVzr8E",
        "outputId": "1e9dbff3-efe7-4eab-cff3-a7339233414e"
      },
      "execution_count": 8,
      "outputs": [
        {
          "output_type": "stream",
          "name": "stdout",
          "text": [
            "sony\n",
            "1\n"
          ]
        }
      ]
    },
    {
      "cell_type": "code",
      "source": [
        "#count of consonents\n",
        "s='sony'\n",
        "cc=0\n",
        "for i in s:\n",
        "    if i not in 'aeiouAEIOU':\n",
        "        cc+=1\n",
        "print(cc)\n"
      ],
      "metadata": {
        "colab": {
          "base_uri": "https://localhost:8080/"
        },
        "id": "a-Q8U_Qjz5Mu",
        "outputId": "ac151dc0-59cf-4563-9eda-133c3c049895"
      },
      "execution_count": 9,
      "outputs": [
        {
          "output_type": "stream",
          "name": "stdout",
          "text": [
            "3\n"
          ]
        }
      ]
    },
    {
      "cell_type": "code",
      "source": [
        "#count of consonents and count of vowels\n",
        "s='sony'\n",
        "v='AEIOUaeiou'\n",
        "vc=0\n",
        "cc=0\n",
        "for i in s:\n",
        "    if i.isalpha():\n",
        "        if i in v:\n",
        "            vc+=1\n",
        "        else:\n",
        "            cc+=1\n",
        "print(vc,cc)"
      ],
      "metadata": {
        "colab": {
          "base_uri": "https://localhost:8080/"
        },
        "id": "BpkxHCVnz7tf",
        "outputId": "bc868e09-6eab-44b0-d7e0-fa1a5e84df8c"
      },
      "execution_count": 10,
      "outputs": [
        {
          "output_type": "stream",
          "name": "stdout",
          "text": [
            "1 3\n"
          ]
        }
      ]
    },
    {
      "cell_type": "code",
      "source": [
        "#integers count in str\n",
        "s='123hello'\n",
        "ic=0\n",
        "for i in s:\n",
        "    if i.isdigit():\n",
        "        ic+=1\n",
        "print(ic)"
      ],
      "metadata": {
        "colab": {
          "base_uri": "https://localhost:8080/"
        },
        "id": "viv0D0M60AB-",
        "outputId": "82b11445-4781-48c6-cd96-39d797956831"
      },
      "execution_count": 11,
      "outputs": [
        {
          "output_type": "stream",
          "name": "stdout",
          "text": [
            "3\n"
          ]
        }
      ]
    },
    {
      "cell_type": "code",
      "source": [
        "#sum of inters in str\n",
        "s='sony2356'\n",
        "c=0\n",
        "for i in s:\n",
        "    if i.isdigit():\n",
        "        k=int(i)\n",
        "        c+=k\n",
        "print(c)"
      ],
      "metadata": {
        "colab": {
          "base_uri": "https://localhost:8080/"
        },
        "id": "toimxXVu0DX8",
        "outputId": "0d030f1d-2f08-4961-8fbd-4d68efa9b1e6"
      },
      "execution_count": 12,
      "outputs": [
        {
          "output_type": "stream",
          "name": "stdout",
          "text": [
            "16\n"
          ]
        }
      ]
    },
    {
      "cell_type": "code",
      "source": [
        "#sum of even digits  present in string\n",
        "s='sony12345'\n",
        "c=0\n",
        "for i in s:\n",
        "    if i.isdigit():\n",
        "        k=int(i)\n",
        "        if k%2==0:\n",
        "            c+=k\n",
        "print(c)"
      ],
      "metadata": {
        "colab": {
          "base_uri": "https://localhost:8080/"
        },
        "id": "UfT2T3v_0Gpi",
        "outputId": "6854d77c-4f07-491c-c07f-ff7c9858c7d4"
      },
      "execution_count": 13,
      "outputs": [
        {
          "output_type": "stream",
          "name": "stdout",
          "text": [
            "6\n"
          ]
        }
      ]
    },
    {
      "cell_type": "code",
      "source": [
        "#absolute difference between sum of even digits and sum of odd digits\n",
        "s='sony@143556812'\n",
        "os=0\n",
        "es=0\n",
        "for i in s:\n",
        "    if i.isdigit():\n",
        "        k=int(i)\n",
        "        if k%2==0:\n",
        "            es+=k\n",
        "        else:\n",
        "            os+=k\n",
        "print(abs(os-es))"
      ],
      "metadata": {
        "colab": {
          "base_uri": "https://localhost:8080/"
        },
        "id": "t6Y7SEL-0J7h",
        "outputId": "fc6ef537-dc5d-4aff-f0a7-b99f98b6eae1"
      },
      "execution_count": 14,
      "outputs": [
        {
          "output_type": "stream",
          "name": "stdout",
          "text": [
            "5\n"
          ]
        }
      ]
    },
    {
      "cell_type": "code",
      "source": [
        "#count of special characters\n",
        "s='sony@2002'\n",
        "cs=0\n",
        "for i in s:\n",
        "    if i.isalnum():\n",
        "        pass\n",
        "    else:\n",
        "        cs+=1\n",
        "print(cs)"
      ],
      "metadata": {
        "colab": {
          "base_uri": "https://localhost:8080/"
        },
        "id": "f8FD83DO0NE5",
        "outputId": "d67e4577-0334-48fd-baea-be0f085cf4e8"
      },
      "execution_count": 15,
      "outputs": [
        {
          "output_type": "stream",
          "name": "stdout",
          "text": [
            "1\n"
          ]
        }
      ]
    },
    {
      "cell_type": "code",
      "source": [
        "#sum of digits og given list\n",
        "l=[11,3,4,5,78,3,32,'hai','hello']\n",
        "c=0\n",
        "for i in l:\n",
        "    if isinstance(i,int):\n",
        "        c+=i\n",
        "print(c)"
      ],
      "metadata": {
        "colab": {
          "base_uri": "https://localhost:8080/"
        },
        "id": "-JQhCguM0Qjk",
        "outputId": "f5397f30-04a2-4146-b9ce-751727e7eb5f"
      },
      "execution_count": 16,
      "outputs": [
        {
          "output_type": "stream",
          "name": "stdout",
          "text": [
            "136\n"
          ]
        }
      ]
    },
    {
      "cell_type": "code",
      "source": [
        "#max number present in list\n",
        "l=[3,6,3,89,4,5,6,]\n",
        "#print(max(l))\n",
        "#l.sort()\n",
        "#print(l[-1])\n",
        "max=0\n",
        "for i in l:\n",
        "    if i>max:\n",
        "        max=i\n",
        "print(max)"
      ],
      "metadata": {
        "colab": {
          "base_uri": "https://localhost:8080/"
        },
        "id": "n5c25Nlm0TrV",
        "outputId": "bc3ce4e4-0497-43a7-9afd-63138f37c9ed"
      },
      "execution_count": 17,
      "outputs": [
        {
          "output_type": "stream",
          "name": "stdout",
          "text": [
            "89\n"
          ]
        }
      ]
    },
    {
      "cell_type": "code",
      "source": [
        "#absolute difference between sum of even numbers and odd numbers\n",
        "s=eval(input())\n",
        "es=0\n",
        "os=0\n",
        "for i in s:\n",
        "    if isinstance(i,int):\n",
        "        k=int(i)\n",
        "        if i%2==0:\n",
        "            es+=k\n",
        "        else:\n",
        "            os+=k\n",
        "print(abs(os-es))"
      ],
      "metadata": {
        "colab": {
          "base_uri": "https://localhost:8080/"
        },
        "id": "Y6Szuk-H0XIZ",
        "outputId": "3af3ca54-47c3-46f3-aa13-b8ed7738b378"
      },
      "execution_count": 18,
      "outputs": [
        {
          "output_type": "stream",
          "name": "stdout",
          "text": [
            "[1,2,4,56,7,8]\n",
            "62\n"
          ]
        }
      ]
    }
  ]
}