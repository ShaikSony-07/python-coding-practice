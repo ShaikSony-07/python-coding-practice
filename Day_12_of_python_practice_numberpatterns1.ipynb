{
  "nbformat": 4,
  "nbformat_minor": 0,
  "metadata": {
    "colab": {
      "provenance": [],
      "authorship_tag": "ABX9TyMBYAu05fm99WRxLGfRKwne",
      "include_colab_link": true
    },
    "kernelspec": {
      "name": "python3",
      "display_name": "Python 3"
    },
    "language_info": {
      "name": "python"
    }
  },
  "cells": [
    {
      "cell_type": "markdown",
      "metadata": {
        "id": "view-in-github",
        "colab_type": "text"
      },
      "source": [
        "<a href=\"https://colab.research.google.com/github/ShaikSony-07/python-coding-practice/blob/main/Day_12_of_python_practice_numberpatterns1.ipynb\" target=\"_parent\"><img src=\"https://colab.research.google.com/assets/colab-badge.svg\" alt=\"Open In Colab\"/></a>"
      ]
    },
    {
      "cell_type": "code",
      "execution_count": 7,
      "metadata": {
        "colab": {
          "base_uri": "https://localhost:8080/"
        },
        "id": "JEUoBwWCyzSx",
        "outputId": "5e0727d0-4cf3-4a3d-dc42-3da016836d46"
      },
      "outputs": [
        {
          "output_type": "stream",
          "name": "stdout",
          "text": [
            "5\n",
            "12345\n",
            "6789 \n",
            "101112  \n",
            "1314   \n",
            "15    \n"
          ]
        }
      ],
      "source": [
        "n=int(input())\n",
        "star=n\n",
        "space=0\n",
        "d=1\n",
        "for row in range(1,n+1):\n",
        "  for st in range(1,star+1):\n",
        "    print(d,end='')\n",
        "    d+=1\n",
        "  for sp in range(1,space+1):\n",
        "    print(' ',end='')\n",
        "  print()\n",
        "  star-=1\n",
        "  space+=1"
      ]
    },
    {
      "cell_type": "code",
      "source": [
        "n=int(input())\n",
        "star=n\n",
        "d=1\n",
        "for row in range(1,n+1):\n",
        "  for st in range(1,star+1):\n",
        "    print(d,end='')\n",
        "    if row%2==1:\n",
        "      d+=1\n",
        "    else:\n",
        "      d-=1\n",
        "  print()\n",
        "  star-=1"
      ],
      "metadata": {
        "colab": {
          "base_uri": "https://localhost:8080/"
        },
        "id": "vDuHD2uv0cX1",
        "outputId": "5e820970-5927-424a-b8b8-0e27b47cc131"
      },
      "execution_count": 8,
      "outputs": [
        {
          "output_type": "stream",
          "name": "stdout",
          "text": [
            "5\n",
            "12345\n",
            "6543\n",
            "234\n",
            "54\n",
            "3\n"
          ]
        }
      ]
    },
    {
      "cell_type": "code",
      "source": [
        "n=int(input())\n",
        "star=1\n",
        "space=n-1\n",
        "for row in range(1,n+1):\n",
        "  d=1\n",
        "  for sp in range(1,space+1):\n",
        "    print(' ',end='')\n",
        "  for st in range(1,star+1):\n",
        "    print(d,end='')\n",
        "    d+=1\n",
        "  print()\n",
        "  star+=2\n",
        "  space-=1"
      ],
      "metadata": {
        "colab": {
          "base_uri": "https://localhost:8080/"
        },
        "id": "NG4kNRzF1GN7",
        "outputId": "e3cf8cd5-f99a-4139-81e7-69e8142942f2"
      },
      "execution_count": 13,
      "outputs": [
        {
          "output_type": "stream",
          "name": "stdout",
          "text": [
            "5\n",
            "    1\n",
            "   123\n",
            "  12345\n",
            " 1234567\n",
            "123456789\n"
          ]
        }
      ]
    },
    {
      "cell_type": "code",
      "source": [
        "n=int(input())\n",
        "space=n-1\n",
        "star=1\n",
        "for row in range(1,n+1):\n",
        "  d=1\n",
        "  for sp in range(1,space+1):\n",
        "    print(' ',end='')\n",
        "  for st in range(1,star+1):\n",
        "    print(d,end='')\n",
        "    if st<=star//2:\n",
        "      d+=1\n",
        "    else:\n",
        "      d-=1\n",
        "  print()\n",
        "  star+=2\n",
        "  space-=1"
      ],
      "metadata": {
        "colab": {
          "base_uri": "https://localhost:8080/"
        },
        "id": "xnxRH9BsBQTv",
        "outputId": "82837a17-04ce-4cdc-f801-1a0b41a6e6bf"
      },
      "execution_count": 18,
      "outputs": [
        {
          "output_type": "stream",
          "name": "stdout",
          "text": [
            "5\n",
            "    1\n",
            "   121\n",
            "  12321\n",
            " 1234321\n",
            "123454321\n"
          ]
        }
      ]
    },
    {
      "cell_type": "code",
      "source": [
        "n=int(input())\n",
        "space=n//2\n",
        "star=1\n",
        "for row in range(1,n+1):\n",
        "  d=1\n",
        "  for sp in range(1,space+1):\n",
        "    print(' ',end='')\n",
        "  for st in range(1,star+1):\n",
        "    print(d,end='')\n",
        "    if st<=star//2:\n",
        "      d+=1\n",
        "    else:\n",
        "      d-=1\n",
        "  print()\n",
        "  if row<=n//2:\n",
        "    star+=2\n",
        "    space-=1\n",
        "  else:\n",
        "    star-=2\n",
        "    space+=1"
      ],
      "metadata": {
        "colab": {
          "base_uri": "https://localhost:8080/"
        },
        "id": "lHLEhAr1FcPJ",
        "outputId": "d0cb8e46-5cde-48ff-eeaf-b59f78c860a3"
      },
      "execution_count": 19,
      "outputs": [
        {
          "output_type": "stream",
          "name": "stdout",
          "text": [
            "5\n",
            "  1\n",
            " 121\n",
            "12321\n",
            " 121\n",
            "  1\n"
          ]
        }
      ]
    },
    {
      "cell_type": "code",
      "source": [
        "n=int(input())\n",
        "space=0\n",
        "star=1\n",
        "for row in range(1,n+1):\n",
        "  for sp in range(1,space+1):\n",
        "    print(' ',end='')\n",
        "  for st in range(1,star+1):\n",
        "    print('*',end='')\n",
        "  print()\n",
        "  if row<=n//2:\n",
        "    space+=1\n",
        "  else:\n",
        "    space-=1"
      ],
      "metadata": {
        "colab": {
          "base_uri": "https://localhost:8080/"
        },
        "id": "ck8-VyMhGVqu",
        "outputId": "3c707b07-4512-4396-cd94-87405cd1fdd8"
      },
      "execution_count": 20,
      "outputs": [
        {
          "output_type": "stream",
          "name": "stdout",
          "text": [
            "5\n",
            "*\n",
            " *\n",
            "  *\n",
            " *\n",
            "*\n"
          ]
        }
      ]
    },
    {
      "cell_type": "code",
      "source": [
        "n=int(input())\n",
        "for row in range(1,n+1):\n",
        "  d=row\n",
        "  for col in range(1,n+1):\n",
        "    print(d,end='')\n",
        "    d+=n\n",
        "  print()"
      ],
      "metadata": {
        "colab": {
          "base_uri": "https://localhost:8080/"
        },
        "id": "QgSKqxg7Jp-9",
        "outputId": "513aa1f6-6e8a-45ac-ac68-fc00161c171f"
      },
      "execution_count": 21,
      "outputs": [
        {
          "output_type": "stream",
          "name": "stdout",
          "text": [
            "5\n",
            "16111621\n",
            "27121722\n",
            "38131823\n",
            "49141924\n",
            "510152025\n"
          ]
        }
      ]
    },
    {
      "cell_type": "code",
      "source": [
        "n=int(input())\n",
        "space=0\n",
        "star=1\n",
        "d=1\n",
        "for row in range(1,n+1):\n",
        "  for sp in range(1,space+1):\n",
        "    print(' ',end='')\n",
        "  for st in range(1,star+1):\n",
        "    print(d,end='')\n",
        "  print()\n",
        "  if row<=n//2:\n",
        "    d+=2\n",
        "    space+=1\n",
        "  elif row==n//2+1:\n",
        "    d-=1\n",
        "    space-=1\n",
        "  else:\n",
        "    d-=2\n",
        "    space-=1"
      ],
      "metadata": {
        "colab": {
          "base_uri": "https://localhost:8080/"
        },
        "id": "RojXYGbxKsgd",
        "outputId": "32006c9f-1ed1-48cd-b3f5-ab315ea85107"
      },
      "execution_count": 22,
      "outputs": [
        {
          "output_type": "stream",
          "name": "stdout",
          "text": [
            "5\n",
            "1\n",
            " 3\n",
            "  5\n",
            " 4\n",
            "2\n"
          ]
        }
      ]
    }
  ]
}