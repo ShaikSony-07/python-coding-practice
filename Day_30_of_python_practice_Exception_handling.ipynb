{
  "nbformat": 4,
  "nbformat_minor": 0,
  "metadata": {
    "colab": {
      "provenance": [],
      "authorship_tag": "ABX9TyOuglZ/WyrCXV9MUTtW4N+s",
      "include_colab_link": true
    },
    "kernelspec": {
      "name": "python3",
      "display_name": "Python 3"
    },
    "language_info": {
      "name": "python"
    }
  },
  "cells": [
    {
      "cell_type": "markdown",
      "metadata": {
        "id": "view-in-github",
        "colab_type": "text"
      },
      "source": [
        "<a href=\"https://colab.research.google.com/github/ShaikSony-07/python-coding-practice/blob/main/Day_30_of_python_practice_Exception_handling.ipynb\" target=\"_parent\"><img src=\"https://colab.research.google.com/assets/colab-badge.svg\" alt=\"Open In Colab\"/></a>"
      ]
    },
    {
      "cell_type": "code",
      "execution_count": 11,
      "metadata": {
        "colab": {
          "base_uri": "https://localhost:8080/"
        },
        "id": "s2n8PLuaVPHY",
        "outputId": "b8151d8d-d939-4586-98a3-15b0c7767f1b"
      },
      "outputs": [
        {
          "output_type": "stream",
          "name": "stdout",
          "text": [
            "start\n",
            "enter which element u need3\n",
            "try is started\n",
            "33\n",
            "enter divisor0\n",
            "division by zero\n",
            "end\n"
          ]
        }
      ],
      "source": [
        "#generic exception class\n",
        "print('start')\n",
        "l=[11,22,33,44]\n",
        "ip=int(input('enter which element u need'))\n",
        "try:\n",
        "  print('try is started')\n",
        "  ele=l[ip-1]\n",
        "  print(ele)\n",
        "  divisor=int(input('enter divisor'))\n",
        "  res=ele/divisor\n",
        "  print('try has ended')\n",
        "except Exception as e:\n",
        "  print(e)\n",
        "else:\n",
        "  print(res)\n",
        "print('end')"
      ]
    },
    {
      "cell_type": "code",
      "source": [
        "#finally block\n",
        "print('start')\n",
        "l=[11,22,33,44]\n",
        "ip=int(input('enter which element u need'))\n",
        "try:\n",
        "  print('try is started')\n",
        "  ele=l[ip-1]\n",
        "  print(ele)\n",
        "  divisor=int(input('enter divisor'))\n",
        "  res=ele/divisor\n",
        "  print('try has ended')\n",
        "except Exception as e:\n",
        "  print(e)\n",
        "finally:\n",
        "  print('iam a finally block i will be executed irrespective of error occurance')\n",
        "print('end')"
      ],
      "metadata": {
        "colab": {
          "base_uri": "https://localhost:8080/"
        },
        "id": "21-UV1MKWs3w",
        "outputId": "d6f8a3c7-9c4a-406e-c249-3ed40533b251"
      },
      "execution_count": 10,
      "outputs": [
        {
          "output_type": "stream",
          "name": "stdout",
          "text": [
            "start\n",
            "enter which element u need4\n",
            "try is started\n",
            "44\n",
            "enter divisor4\n",
            "try has ended\n",
            "iam a finally block i will be executed irrespective of error occurance\n",
            "end\n"
          ]
        }
      ]
    },
    {
      "cell_type": "code",
      "source": [
        "#nested try ,except blocks\n",
        "print('start')\n",
        "try:\n",
        "  print('outer try is started')\n",
        "  print('hi')\n",
        "  try:\n",
        "    print('inner try is started')\n",
        "    print(10/0)\n",
        "    print('inner try is ended')\n",
        "  except Exception as e:\n",
        "    print(e)\n",
        "except Exception as a:\n",
        "      print(a)\n",
        "      print('outer try has ended')\n",
        "print('end')"
      ],
      "metadata": {
        "colab": {
          "base_uri": "https://localhost:8080/"
        },
        "id": "WrA5h31YXZaB",
        "outputId": "f2c941d8-05d2-452f-c386-9ec4b5dc55ff"
      },
      "execution_count": 9,
      "outputs": [
        {
          "output_type": "stream",
          "name": "stdout",
          "text": [
            "start\n",
            "outer try is started\n",
            "hi\n",
            "inner try is started\n",
            "division by zero\n",
            "end\n"
          ]
        }
      ]
    },
    {
      "cell_type": "code",
      "source": [
        "#handler in current function\n",
        "def f1():\n",
        "  print('first line of f1')\n",
        "  try:\n",
        "    result=10/0\n",
        "  except Exception as e:\n",
        "    print(e)\n",
        "  print('last line of f1')\n",
        "def f2():\n",
        "  print('first line of f2')\n",
        "  f1()\n",
        "  print('last line of f2')\n",
        "print('main is started')\n",
        "f2()\n",
        "print('main is ended')"
      ],
      "metadata": {
        "colab": {
          "base_uri": "https://localhost:8080/"
        },
        "id": "FHk2ZOfkZulJ",
        "outputId": "bf6cd9f0-1b26-4a26-f0ee-c7e2e3dca174"
      },
      "execution_count": 12,
      "outputs": [
        {
          "output_type": "stream",
          "name": "stdout",
          "text": [
            "main is started\n",
            "first line of f2\n",
            "first line of f1\n",
            "division by zero\n",
            "last line of f1\n",
            "last line of f2\n",
            "main is ended\n"
          ]
        }
      ]
    },
    {
      "cell_type": "code",
      "source": [
        "#handler in caller function\n",
        "def f1():\n",
        "  print('first line of f1')\n",
        "  result=10/0\n",
        "  print('f1 is ended')\n",
        "def f2():\n",
        "  print('f2 is started')\n",
        "  try:\n",
        "    f1()\n",
        "  except Exception as e:\n",
        "    print(e)\n",
        "  print('f2 is ended')\n",
        "print('main is started')\n",
        "f2()\n",
        "print('main is ended')\n",
        ""
      ],
      "metadata": {
        "colab": {
          "base_uri": "https://localhost:8080/"
        },
        "id": "ZO8BCF51acac",
        "outputId": "7e475331-ac54-47ec-bcd9-dfa42cc22061"
      },
      "execution_count": 13,
      "outputs": [
        {
          "output_type": "stream",
          "name": "stdout",
          "text": [
            "main is started\n",
            "f2 is started\n",
            "first line of f1\n",
            "division by zero\n",
            "f2 is ended\n",
            "main is ended\n"
          ]
        }
      ]
    }
  ]
}