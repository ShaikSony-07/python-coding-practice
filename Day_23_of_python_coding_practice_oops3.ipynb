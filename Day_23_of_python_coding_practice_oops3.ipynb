{
  "nbformat": 4,
  "nbformat_minor": 0,
  "metadata": {
    "colab": {
      "provenance": [],
      "authorship_tag": "ABX9TyNkL62+j+Zh0+kP8Cw1SqtC",
      "include_colab_link": true
    },
    "kernelspec": {
      "name": "python3",
      "display_name": "Python 3"
    },
    "language_info": {
      "name": "python"
    }
  },
  "cells": [
    {
      "cell_type": "markdown",
      "metadata": {
        "id": "view-in-github",
        "colab_type": "text"
      },
      "source": [
        "<a href=\"https://colab.research.google.com/github/ShaikSony-07/python-coding-practice/blob/main/Day_23_of_python_coding_practice_oops3.ipynb\" target=\"_parent\"><img src=\"https://colab.research.google.com/assets/colab-badge.svg\" alt=\"Open In Colab\"/></a>"
      ]
    },
    {
      "cell_type": "code",
      "execution_count": 2,
      "metadata": {
        "colab": {
          "base_uri": "https://localhost:8080/"
        },
        "id": "cdwlwfmtDkOV",
        "outputId": "282cc044-29cb-4508-8719-055862c0c93b"
      },
      "outputs": [
        {
          "output_type": "stream",
          "name": "stdout",
          "text": [
            "name of customer is sagar\n",
            "account of customer is 123\n",
            "balance of customer is 67588\n",
            "address of customer is bangalore\n"
          ]
        }
      ],
      "source": [
        "#inheritance\n",
        "class Bank_v1:\n",
        "  bank_name='sbi'\n",
        "  bank_roi=5\n",
        "  bank_ifsc=1234\n",
        "  bank_address='kizakistan'\n",
        "  def __init__(self,n,ac,b,ad):\n",
        "    self.cname=n\n",
        "    self.caccount=ac\n",
        "    self.cbalance=b\n",
        "    self.caddress=ad\n",
        "  def customer_details(self):\n",
        "    print(f'name of customer is {self.cname}')\n",
        "    print(f'account of customer is {self.caccount}')\n",
        "    print(f'balance of customer is {self.cbalance}')\n",
        "    print(f'address of customer is {self.caddress}')\n",
        "  @staticmethod\n",
        "  def get__init__value():\n",
        "    value=int(input('enter int value'))\n",
        "    return value\n",
        "  def withdraw(self):\n",
        "    amount=self.get__init__value()\n",
        "    if amount<=self.cbalance:\n",
        "      self.cbalance-=amount\n",
        "      print('withdraw is successful')\n",
        "    else:\n",
        "      print('insufficient balance')\n",
        "  def deposite(self):\n",
        "    amount=self.get__init__value()\n",
        "    if amount>0:\n",
        "      self.cbalance+=amount\n",
        "      print('deposite is successful')\n",
        "    else:\n",
        "      print('amount should be more than one re')\n",
        "class Bank_v2(Bank_v1):\n",
        "  bank_address='banglore'\n",
        "  bank_mobile=87965467\n",
        "  @classmethod\n",
        "  def bank_details(cls):\n",
        "     print(f'bank name is {cls.bank_name}')\n",
        "     print(f' bank roi is{cls.bank_roi}')\n",
        "     print(f'bank ifsc is {cls.bank_ifsc}')\n",
        "     print(f'bank address is {cls.bank_address}')\n",
        "  @classmethod\n",
        "  def change_roi(cls):\n",
        "    new_roi=cls.get__init__value()\n",
        "    cls.bank_roi=new_roi\n",
        "    print('roi is changed')\n",
        "sagar=Bank_v2('sagar',123,67588,'bangalore')\n",
        "sagar.customer_details()"
      ]
    },
    {
      "cell_type": "code",
      "source": [
        "#method overloading\n",
        "class a:\n",
        "  def __init__(self):\n",
        "    print('__init__ with no args')\n",
        "  def __init__(self,a=10,b=20):\n",
        "    self.a=a\n",
        "    self.b=b\n",
        "    print('__init__ with 2args')\n",
        "oa=a(12,45)\n",
        "oa1=a()"
      ],
      "metadata": {
        "colab": {
          "base_uri": "https://localhost:8080/"
        },
        "id": "NW8djRT2T4Ur",
        "outputId": "a1db6c22-45f8-4147-ef10-d2af403a71cf"
      },
      "execution_count": 3,
      "outputs": [
        {
          "output_type": "stream",
          "name": "stdout",
          "text": [
            "__init__ with 2args\n",
            "__init__ with 2args\n"
          ]
        }
      ]
    },
    {
      "cell_type": "code",
      "source": [
        "class Book:\n",
        "  def __init__(self,n,a,p):\n",
        "    print('object is createed so interpreter called me')\n",
        "    self.bname=n\n",
        "    self.bauthor=a\n",
        "    self.bprice=p\n",
        "  def __str__(self):\n",
        "    return self.bname\n",
        "  def __del__(self):\n",
        "    print(f'{self}object is deleted so interpreter called me')\n",
        "python=Book('python','van guido rossum',10000)\n",
        "django=Book('django','simon willison',20000)\n",
        "print(python)\n",
        "python=None"
      ],
      "metadata": {
        "colab": {
          "base_uri": "https://localhost:8080/"
        },
        "id": "tlzspWabUwdf",
        "outputId": "fcbe482c-dfc2-49e5-ff1f-10ae19447093"
      },
      "execution_count": 5,
      "outputs": [
        {
          "output_type": "stream",
          "name": "stdout",
          "text": [
            "object is createed so interpreter called me\n",
            "object is createed so interpreter called me\n",
            "python\n",
            "pythonobject is deleted so interpreter called me\n"
          ]
        }
      ]
    }
  ]
}