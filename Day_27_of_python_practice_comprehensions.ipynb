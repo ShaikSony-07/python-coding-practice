{
  "nbformat": 4,
  "nbformat_minor": 0,
  "metadata": {
    "colab": {
      "provenance": [],
      "authorship_tag": "ABX9TyMOM7vOggJenQeeQA+Zd57D",
      "include_colab_link": true
    },
    "kernelspec": {
      "name": "python3",
      "display_name": "Python 3"
    },
    "language_info": {
      "name": "python"
    }
  },
  "cells": [
    {
      "cell_type": "markdown",
      "metadata": {
        "id": "view-in-github",
        "colab_type": "text"
      },
      "source": [
        "<a href=\"https://colab.research.google.com/github/ShaikSony-07/python-coding-practice/blob/main/Day_27_of_python_practice_comprehensions.ipynb\" target=\"_parent\"><img src=\"https://colab.research.google.com/assets/colab-badge.svg\" alt=\"Open In Colab\"/></a>"
      ]
    },
    {
      "cell_type": "code",
      "execution_count": 2,
      "metadata": {
        "colab": {
          "base_uri": "https://localhost:8080/"
        },
        "id": "FYbAMwhN3qFD",
        "outputId": "6c87ecaa-a4e2-42c3-aad9-cd33d0c307ba"
      },
      "outputs": [
        {
          "output_type": "stream",
          "name": "stdout",
          "text": [
            "[1, 2, 3, 4, 5, 6, 7, 8, 9, 10]\n"
          ]
        }
      ],
      "source": [
        "#adding nos into list by using list compherension approach\n",
        "l=[j for j in range(1,11)]\n",
        "print(l)"
      ]
    },
    {
      "cell_type": "code",
      "source": [
        "#adding the squares of numbers into list by using list\n",
        "l=[j**2 for j in range(1,11)]\n",
        "print(l)"
      ],
      "metadata": {
        "colab": {
          "base_uri": "https://localhost:8080/"
        },
        "id": "OOLFBLT65aM2",
        "outputId": "dec1d698-2c09-45a6-f535-3e7e7fca5be8"
      },
      "execution_count": 3,
      "outputs": [
        {
          "output_type": "stream",
          "name": "stdout",
          "text": [
            "[1, 4, 9, 16, 25, 36, 49, 64, 81, 100]\n"
          ]
        }
      ]
    },
    {
      "cell_type": "code",
      "source": [
        "#from the given tuple odd only add numbers into the list\n",
        "t=(11,78,34,99,23,67,90,70)\n",
        "l=[i for i in t if i%2==1]\n",
        "print(l)"
      ],
      "metadata": {
        "colab": {
          "base_uri": "https://localhost:8080/"
        },
        "id": "fmyGmZGZ5rU7",
        "outputId": "e43ca483-db3c-4a76-830e-ee4b16810c4e"
      },
      "execution_count": 4,
      "outputs": [
        {
          "output_type": "stream",
          "name": "stdout",
          "text": [
            "[11, 99, 23, 67]\n"
          ]
        }
      ]
    },
    {
      "cell_type": "code",
      "source": [
        "#given tuple add only one odd numbers which r greater than 50 into the list by using list compherension approach\n",
        "t=(11,78,34,99,23,67,90,70)\n",
        "l=[i for i in t if i%2==1 and i>50]\n",
        "print(l)"
      ],
      "metadata": {
        "colab": {
          "base_uri": "https://localhost:8080/"
        },
        "id": "tzdxtTmV6cqf",
        "outputId": "65675089-fdf3-4596-a647-3cf61646b094"
      },
      "execution_count": 5,
      "outputs": [
        {
          "output_type": "stream",
          "name": "stdout",
          "text": [
            "[99, 67]\n"
          ]
        }
      ]
    },
    {
      "cell_type": "code",
      "source": [
        "l2=[even for even in range(1,11) if even%2!=0]\n",
        "print(l2)"
      ],
      "metadata": {
        "colab": {
          "base_uri": "https://localhost:8080/"
        },
        "id": "LOP_S2HJ7oKv",
        "outputId": "c49d5c24-2169-4c22-9cb4-7cd4a5eec44f"
      },
      "execution_count": 7,
      "outputs": [
        {
          "output_type": "stream",
          "name": "stdout",
          "text": [
            "[1, 3, 5, 7, 9]\n"
          ]
        }
      ]
    },
    {
      "cell_type": "code",
      "source": [
        "d=[[i,j,k] for i in range(1,10) for j in range(1,10) for k in range(1,10) if i==j==k]\n",
        "print(d)"
      ],
      "metadata": {
        "colab": {
          "base_uri": "https://localhost:8080/"
        },
        "id": "zzD5S3If8ShO",
        "outputId": "a09cc01a-bddf-4dd3-e7e7-ba04e62490a3"
      },
      "execution_count": 8,
      "outputs": [
        {
          "output_type": "stream",
          "name": "stdout",
          "text": [
            "[[1, 1, 1], [2, 2, 2], [3, 3, 3], [4, 4, 4], [5, 5, 5], [6, 6, 6], [7, 7, 7], [8, 8, 8], [9, 9, 9]]\n"
          ]
        }
      ]
    },
    {
      "cell_type": "code",
      "source": [
        "d=[i if i>0 else 0 for i in [1,2,3,-88,100,-99]]\n",
        "print(d)"
      ],
      "metadata": {
        "colab": {
          "base_uri": "https://localhost:8080/"
        },
        "id": "-tTs1t0f8xG6",
        "outputId": "d18c14e3-7dbd-4efc-a1ff-bf640fb6ebf4"
      },
      "execution_count": 10,
      "outputs": [
        {
          "output_type": "stream",
          "name": "stdout",
          "text": [
            "[1, 2, 3, 0, 100, 0]\n"
          ]
        }
      ]
    },
    {
      "cell_type": "code",
      "source": [
        "l=[2,4,6,7,66,77]\n",
        "d={i for i in l if i%2==0}\n",
        "print(d)"
      ],
      "metadata": {
        "colab": {
          "base_uri": "https://localhost:8080/"
        },
        "id": "r1ny5uDB9WgX",
        "outputId": "7967ff2b-934a-4055-9b58-daf5409f4f16"
      },
      "execution_count": 11,
      "outputs": [
        {
          "output_type": "stream",
          "name": "stdout",
          "text": [
            "{2, 4, 66, 6}\n"
          ]
        }
      ]
    },
    {
      "cell_type": "code",
      "source": [
        "l=[2,4,6,7,66,77]\n",
        "d={i if i>0 else 0 for i in l}\n",
        "print(d)"
      ],
      "metadata": {
        "colab": {
          "base_uri": "https://localhost:8080/"
        },
        "id": "gkBd2h5w9n8Y",
        "outputId": "90300967-06b3-43ee-de20-b3f9266d5ba4"
      },
      "execution_count": 13,
      "outputs": [
        {
          "output_type": "stream",
          "name": "stdout",
          "text": [
            "{2, 66, 4, 6, 7, 77}\n"
          ]
        }
      ]
    },
    {
      "cell_type": "code",
      "source": [
        "d={i:i**2 for i in range(1,11)}\n",
        "print(d)"
      ],
      "metadata": {
        "colab": {
          "base_uri": "https://localhost:8080/"
        },
        "id": "cR5zku53-Bpj",
        "outputId": "28960106-b944-4d35-ce4a-fe3b4e3150f8"
      },
      "execution_count": 14,
      "outputs": [
        {
          "output_type": "stream",
          "name": "stdout",
          "text": [
            "{1: 1, 2: 4, 3: 9, 4: 16, 5: 25, 6: 36, 7: 49, 8: 64, 9: 81, 10: 100}\n"
          ]
        }
      ]
    },
    {
      "cell_type": "code",
      "source": [
        "s='abc'\n",
        "d={i.upper():i*3 for i in s}\n",
        "print(d)"
      ],
      "metadata": {
        "colab": {
          "base_uri": "https://localhost:8080/"
        },
        "id": "NvcSlvG5-V8u",
        "outputId": "cdd1e328-4e58-4eeb-bb3a-ff5d86410346"
      },
      "execution_count": 15,
      "outputs": [
        {
          "output_type": "stream",
          "name": "stdout",
          "text": [
            "{'A': 'aaa', 'B': 'bbb', 'C': 'ccc'}\n"
          ]
        }
      ]
    },
    {
      "cell_type": "code",
      "source": [
        "a='hai'\n",
        "d={i:value for i,value in enumerate(a)}\n",
        "print(d)"
      ],
      "metadata": {
        "colab": {
          "base_uri": "https://localhost:8080/"
        },
        "id": "8fOYJESV_mto",
        "outputId": "a8386d18-b278-4662-82bc-7b89e3abbe0b"
      },
      "execution_count": 17,
      "outputs": [
        {
          "output_type": "stream",
          "name": "stdout",
          "text": [
            "{0: 'h', 1: 'a', 2: 'i'}\n"
          ]
        }
      ]
    },
    {
      "cell_type": "code",
      "source": [
        "a=[1,2,3]\n",
        "b='hello'\n",
        "d={i:value for i,value in zip(a,b)}\n",
        "print(d)"
      ],
      "metadata": {
        "colab": {
          "base_uri": "https://localhost:8080/"
        },
        "id": "kdMZofmuAFls",
        "outputId": "fbe1d0ff-7623-494f-ede9-00feb0d3ded7"
      },
      "execution_count": 18,
      "outputs": [
        {
          "output_type": "stream",
          "name": "stdout",
          "text": [
            "{1: 'h', 2: 'e', 3: 'l'}\n"
          ]
        }
      ]
    }
  ]
}