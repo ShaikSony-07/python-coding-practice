{
  "nbformat": 4,
  "nbformat_minor": 0,
  "metadata": {
    "colab": {
      "provenance": [],
      "authorship_tag": "ABX9TyOaZE8ndP1LT+SoMx3BUeGw",
      "include_colab_link": true
    },
    "kernelspec": {
      "name": "python3",
      "display_name": "Python 3"
    },
    "language_info": {
      "name": "python"
    }
  },
  "cells": [
    {
      "cell_type": "markdown",
      "metadata": {
        "id": "view-in-github",
        "colab_type": "text"
      },
      "source": [
        "<a href=\"https://colab.research.google.com/github/ShaikSony-07/python-coding-practice/blob/main/Day_01_of_python_practice_conditional_statements.ipynb\" target=\"_parent\"><img src=\"https://colab.research.google.com/assets/colab-badge.svg\" alt=\"Open In Colab\"/></a>"
      ]
    },
    {
      "cell_type": "code",
      "execution_count": 1,
      "metadata": {
        "colab": {
          "base_uri": "https://localhost:8080/"
        },
        "id": "fnpz1aWiNaap",
        "outputId": "4303a2cf-bef1-4b7f-d11e-5a0769fd6112"
      },
      "outputs": [
        {
          "output_type": "stream",
          "name": "stdout",
          "text": [
            "2000\n",
            "2000\n"
          ]
        }
      ],
      "source": [
        "#if condition\n",
        "#when we have only one condition to check then we will use if condition\n",
        "#wap to check given number is more than 100\n",
        "n=int(input())\n",
        "if n>100:\n",
        "  print(n)"
      ]
    },
    {
      "cell_type": "code",
      "source": [
        "#if else\n",
        "#when we need to check 2 conditions then we will use if-else\n",
        "#among 2 conditions we will have\n",
        "#1.mandatory condition\n",
        "#2.default condition\n",
        "#check given string is palindrome or not\n",
        "s=input()\n",
        "if s==s[::-1]:\n",
        "  print('it is a palindrome')\n",
        "else:\n",
        "  print('it is not a palindrome')"
      ],
      "metadata": {
        "colab": {
          "base_uri": "https://localhost:8080/"
        },
        "id": "wmu5Qv66NiBD",
        "outputId": "0476cf02-14f9-452c-f6c4-75028d4009f8"
      },
      "execution_count": 2,
      "outputs": [
        {
          "output_type": "stream",
          "name": "stdout",
          "text": [
            "mamata\n",
            "it is not a palindrome\n"
          ]
        }
      ]
    },
    {
      "cell_type": "code",
      "source": [
        "#wap to check given strings are anagrams or not\n",
        "s1=input()\n",
        "s2=input()\n",
        "if sorted(s1)==sorted(s2):\n",
        "    print(s1,s2,'are anagrams')\n",
        "else:\n",
        "    print('not a anagram')\n"
      ],
      "metadata": {
        "colab": {
          "base_uri": "https://localhost:8080/"
        },
        "id": "XuMNS6W-Nvwx",
        "outputId": "da4c3b4e-add5-445e-cdbc-fc2ae0021b39"
      },
      "execution_count": 3,
      "outputs": [
        {
          "output_type": "stream",
          "name": "stdout",
          "text": [
            "silent\n",
            "listen\n",
            "silent listen are anagrams\n"
          ]
        }
      ]
    },
    {
      "cell_type": "code",
      "source": [
        "#wap to check given no.is even or odd\n",
        "n=int(input())\n",
        "if n%2==0:\n",
        "    print('even')\n",
        "else:\n",
        "    print('odd')"
      ],
      "metadata": {
        "colab": {
          "base_uri": "https://localhost:8080/"
        },
        "id": "LmP8CW_kN3x-",
        "outputId": "9c8a3f2d-feeb-4623-a7e7-568fcb8291e0"
      },
      "execution_count": 4,
      "outputs": [
        {
          "output_type": "stream",
          "name": "stdout",
          "text": [
            "64\n",
            "even\n"
          ]
        }
      ]
    },
    {
      "cell_type": "code",
      "source": [
        "#wap to check given number is odd or even without using arthimetic operators\n",
        "n=int(input())\n",
        "if n&1==0:\n",
        "  print('even')\n",
        "else:\n",
        "  print('odd')"
      ],
      "metadata": {
        "colab": {
          "base_uri": "https://localhost:8080/"
        },
        "id": "keEtHTzfN8fR",
        "outputId": "cc8e298c-1805-45fd-ee43-11305f1ad348"
      },
      "execution_count": 5,
      "outputs": [
        {
          "output_type": "stream",
          "name": "stdout",
          "text": [
            "67\n",
            "odd\n"
          ]
        }
      ]
    },
    {
      "cell_type": "code",
      "source": [
        " #wap to check given year is leap year or not\n",
        "year=int(input())\n",
        "if (year%100!=0 and year%4==0) or (year%100==0 and year%400==0):\n",
        "  print('leap year')\n",
        "else:\n",
        "  print('not a leap year')"
      ],
      "metadata": {
        "colab": {
          "base_uri": "https://localhost:8080/"
        },
        "id": "XAFCwWJpOBZW",
        "outputId": "b96cf6e7-40cb-4e87-dab3-1cb4f6da3edb"
      },
      "execution_count": 7,
      "outputs": [
        {
          "output_type": "stream",
          "name": "stdout",
          "text": [
            "2000\n",
            "leap year\n"
          ]
        }
      ]
    },
    {
      "cell_type": "code",
      "source": [
        "#if-elif condition\n",
        "#when we have more than 2 conditions to check then we will use if-elif condition.\n",
        "#wap to print max number among given 3 nos\n",
        "a=int(input())\n",
        "b=int(input())\n",
        "c=int(input())\n",
        "if a>b and a>c :\n",
        "  print(a,'is greater')\n",
        "elif b>c:\n",
        "  print(b,'is greater')\n",
        "else:\n",
        "  print(c,'is greater')"
      ],
      "metadata": {
        "colab": {
          "base_uri": "https://localhost:8080/"
        },
        "id": "9ov5N4FCOQdn",
        "outputId": "7e6f48f4-112c-41c8-9ce6-c881ef8c89f7"
      },
      "execution_count": 8,
      "outputs": [
        {
          "output_type": "stream",
          "name": "stdout",
          "text": [
            "10\n",
            "20\n",
            "25\n",
            "25 is greater\n"
          ]
        }
      ]
    },
    {
      "cell_type": "code",
      "source": [
        "#wap to find relation between threee numbers\n",
        "a=int(input())\n",
        "b=int(input())\n",
        "c=int(input())\n",
        "if a==b==c:\n",
        "  print('share the trophy')\n",
        "elif a>b and a>c :\n",
        "  print(a,'is greater')\n",
        "elif b>c:\n",
        "  print(b,'is greater')\n",
        "else:\n",
        "  print(c,'is greater')"
      ],
      "metadata": {
        "colab": {
          "base_uri": "https://localhost:8080/"
        },
        "id": "iR55lL9NOWvx",
        "outputId": "a43dda9c-7357-493a-cedf-d480cc1bfd17"
      },
      "execution_count": 9,
      "outputs": [
        {
          "output_type": "stream",
          "name": "stdout",
          "text": [
            "10\n",
            "40\n",
            "22\n",
            "40 is greater\n"
          ]
        }
      ]
    },
    {
      "cell_type": "code",
      "source": [
        "#dictionary\n",
        "d={'username':'sony','password':'123'}\n",
        "username=input()\n",
        "password=input()\n",
        "if username==d['username'] and password==d['password']:\n",
        "  print('login successful')\n",
        "else:\n",
        "  print('invalid credentials')"
      ],
      "metadata": {
        "colab": {
          "base_uri": "https://localhost:8080/"
        },
        "id": "C-UUNI9dOdfy",
        "outputId": "084348f3-95a0-4e84-e015-1e4b16a42242"
      },
      "execution_count": 10,
      "outputs": [
        {
          "output_type": "stream",
          "name": "stdout",
          "text": [
            "sony\n",
            "123\n",
            "login successful\n"
          ]
        }
      ]
    },
    {
      "cell_type": "code",
      "source": [
        "#nested if condition\n",
        "#it is the proces of creating the condition inside another condition ,when we have more than 2 conditions to check then we will use nested if condition\n",
        "#dictionary\n",
        "d={'username':'sony','password':'123'}\n",
        "username=input()\n",
        "if username==d['username'] :\n",
        "  password=input()\n",
        "  if password==d['password']:\n",
        "   print('login successful')\n",
        "  else:\n",
        "    print('invalid credentials')"
      ],
      "metadata": {
        "colab": {
          "base_uri": "https://localhost:8080/"
        },
        "id": "FSnJLjOuOjTL",
        "outputId": "2bcbcb7e-cab7-4097-ceba-d6e9ce75473c"
      },
      "execution_count": 13,
      "outputs": [
        {
          "output_type": "stream",
          "name": "stdout",
          "text": [
            "sony\n",
            "143\n",
            "invalid credentials\n"
          ]
        }
      ]
    }
  ]
}