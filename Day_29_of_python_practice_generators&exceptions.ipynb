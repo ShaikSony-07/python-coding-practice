{
  "nbformat": 4,
  "nbformat_minor": 0,
  "metadata": {
    "colab": {
      "provenance": [],
      "authorship_tag": "ABX9TyMdjKHO0REPBa8XB5oHhu7k",
      "include_colab_link": true
    },
    "kernelspec": {
      "name": "python3",
      "display_name": "Python 3"
    },
    "language_info": {
      "name": "python"
    }
  },
  "cells": [
    {
      "cell_type": "markdown",
      "metadata": {
        "id": "view-in-github",
        "colab_type": "text"
      },
      "source": [
        "<a href=\"https://colab.research.google.com/github/ShaikSony-07/python-coding-practice/blob/main/Day_29_of_python_practice_generators%26exceptions.ipynb\" target=\"_parent\"><img src=\"https://colab.research.google.com/assets/colab-badge.svg\" alt=\"Open In Colab\"/></a>"
      ]
    },
    {
      "cell_type": "code",
      "execution_count": 2,
      "metadata": {
        "colab": {
          "base_uri": "https://localhost:8080/"
        },
        "id": "Qu7ViCyGnT4v",
        "outputId": "2a5cdd2d-066b-4d3e-cfb2-88867a73b57c"
      },
      "outputs": [
        {
          "output_type": "stream",
          "name": "stdout",
          "text": [
            "<generator object girls at 0x7a6f20658510>\n",
            "girls started singing\n",
            "23\n",
            "girls are again singing\n",
            "hai\n"
          ]
        }
      ],
      "source": [
        "def girls():\n",
        "  print('girls started singing')\n",
        "  yield 23\n",
        "  print('girls are again singing')\n",
        "  yield 'hai'\n",
        "g=girls()\n",
        "print(g)\n",
        "print(next(g))\n",
        "print(next(g))"
      ]
    },
    {
      "cell_type": "code",
      "source": [
        "#create a generator to create sequence of numbers in a given range\n",
        "def series(ll,ul,u):\n",
        "  while ll<ul:\n",
        "    yield ll\n",
        "    ll+=u\n",
        "gs=series(1,11,2)\n",
        "for i in gs:\n",
        "  print(i)"
      ],
      "metadata": {
        "colab": {
          "base_uri": "https://localhost:8080/"
        },
        "id": "IX_hBTi4oC0e",
        "outputId": "6ca8906e-a91f-478b-d6ac-343ed88c09ac"
      },
      "execution_count": 6,
      "outputs": [
        {
          "output_type": "stream",
          "name": "stdout",
          "text": [
            "1\n",
            "3\n",
            "5\n",
            "7\n",
            "9\n"
          ]
        }
      ]
    },
    {
      "cell_type": "code",
      "source": [
        "\n",
        "#fibonci series using generators\n",
        "def fibo(fv,sv,n):\n",
        "  i=1\n",
        "  while i<=n:\n",
        "    yield fv\n",
        "    fv,sv,=sv,fv+sv\n",
        "    i+=1\n",
        "gf=fibo(2,3,5)\n",
        "for i in gf:\n",
        "  print(i)"
      ],
      "metadata": {
        "colab": {
          "base_uri": "https://localhost:8080/"
        },
        "id": "FnAFxwgZpN2A",
        "outputId": "44c1b951-23dc-499d-83af-f51046237dd1"
      },
      "execution_count": 9,
      "outputs": [
        {
          "output_type": "stream",
          "name": "stdout",
          "text": [
            "2\n",
            "3\n",
            "5\n",
            "8\n",
            "13\n"
          ]
        }
      ]
    },
    {
      "cell_type": "code",
      "source": [
        "#try with single except block along with aliasing\n",
        "print('start')\n",
        "try:\n",
        "  print('try is started')\n",
        "  print(a)\n",
        "  print('try has ended')\n",
        "except NameError as ne:\n",
        "  print(ne)\n",
        "print('end')"
      ],
      "metadata": {
        "colab": {
          "base_uri": "https://localhost:8080/"
        },
        "id": "bYjXcKympytM",
        "outputId": "ed311fdc-5c1c-4e73-863c-c47d36cc2d9f"
      },
      "execution_count": 12,
      "outputs": [
        {
          "output_type": "stream",
          "name": "stdout",
          "text": [
            "start\n",
            "try is started\n",
            "name 'a' is not defined\n",
            "end\n"
          ]
        }
      ]
    },
    {
      "cell_type": "code",
      "source": [
        "from re import A\n",
        "#try with multiple except blocks and along with else block\n",
        "print('start')\n",
        "l=[11,22,33,44]\n",
        "ip=int(input('enter element u need'))\n",
        "try:\n",
        "  print('try is started')\n",
        "  ele=l[ip-1]\n",
        "  print(ele)\n",
        "  divisor=int(input('enter divisor'))\n",
        "  res=ele/divisor\n",
        "  print('try has ended')\n",
        "except IndexError as ie:\n",
        "  print(ie)\n",
        "except ZeroDivisionError as zde:\n",
        "  print(zde)\n",
        "else:\n",
        "  print(res)\n",
        "print('end')"
      ],
      "metadata": {
        "colab": {
          "base_uri": "https://localhost:8080/"
        },
        "id": "MOMxwjUXqz9i",
        "outputId": "5eb79058-c9bb-4d90-dcab-8d55b29ed967"
      },
      "execution_count": 14,
      "outputs": [
        {
          "output_type": "stream",
          "name": "stdout",
          "text": [
            "start\n",
            "enter element u need3\n",
            "try is started\n",
            "33\n",
            "enter divisor2\n",
            "try has ended\n",
            "16.5\n",
            "end\n"
          ]
        }
      ]
    },
    {
      "cell_type": "code",
      "source": [
        "#default Exception block\n",
        "print('start')\n",
        "l=[11,22,33,44]\n",
        "ip=int(input('enter which element do u need'))\n",
        "try:\n",
        "  print('try is started')\n",
        "  ele=l[ip-1]\n",
        "  print(ele)\n",
        "  divisor=rint(input('enter diviso'))\n",
        "  res=ele/divisor\n",
        "  print('try has ended')\n",
        "except:\n",
        "  print('i have handled the situation')\n",
        "else:\n",
        "  print(res)\n",
        "print('end')"
      ],
      "metadata": {
        "colab": {
          "base_uri": "https://localhost:8080/"
        },
        "id": "4pxAgfnhsQOK",
        "outputId": "c96303c2-7a69-4b18-ecb7-e974b0674fab"
      },
      "execution_count": 15,
      "outputs": [
        {
          "output_type": "stream",
          "name": "stdout",
          "text": [
            "start\n",
            "enter which element do u need5\n",
            "try is started\n",
            "i have handled the situation\n",
            "end\n"
          ]
        }
      ]
    }
  ]
}