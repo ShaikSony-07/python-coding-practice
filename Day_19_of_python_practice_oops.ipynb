{
  "nbformat": 4,
  "nbformat_minor": 0,
  "metadata": {
    "colab": {
      "provenance": [],
      "authorship_tag": "ABX9TyO9ok4UBXCGmipL2s4aMX8a",
      "include_colab_link": true
    },
    "kernelspec": {
      "name": "python3",
      "display_name": "Python 3"
    },
    "language_info": {
      "name": "python"
    }
  },
  "cells": [
    {
      "cell_type": "markdown",
      "metadata": {
        "id": "view-in-github",
        "colab_type": "text"
      },
      "source": [
        "<a href=\"https://colab.research.google.com/github/ShaikSony-07/python-coding-practice/blob/main/Day_19_of_python_practice_oops.ipynb\" target=\"_parent\"><img src=\"https://colab.research.google.com/assets/colab-badge.svg\" alt=\"Open In Colab\"/></a>"
      ]
    },
    {
      "cell_type": "code",
      "execution_count": 7,
      "metadata": {
        "colab": {
          "base_uri": "https://localhost:8080/"
        },
        "id": "cMW4IfML_2o-",
        "outputId": "526d3ebd-02b0-4421-efe8-b7d68cabc6c8"
      },
      "outputs": [
        {
          "output_type": "stream",
          "name": "stdout",
          "text": [
            "SBI\n",
            "6\n",
            "5\n",
            "86378897\n"
          ]
        }
      ],
      "source": [
        "class Bank:\n",
        "  bank_name = \"SBI\"\n",
        "  bank_address='bkk'\n",
        "  bank_roi=6\n",
        "  bank_ifsc=1234\n",
        "sony=Bank()\n",
        "kavi=Bank()\n",
        "#accessing generic properties by using object\n",
        "print(sony.bank_name)\n",
        "#accessing generic properties by using class\n",
        "print(Bank.bank_roi)\n",
        "#modifying Generic properties  by using class\n",
        "Bank.bank_roi=5\n",
        "print(Bank.bank_roi)\n",
        "#creation of new generic properties by using class\n",
        "Bank.bank_mbl=86378897\n",
        "print(Bank.bank_mbl)"
      ]
    },
    {
      "cell_type": "code",
      "source": [
        "class Bank:\n",
        "  bank_name = \"SBI\"\n",
        "  bank_address='bkk'\n",
        "  bank_roi=6\n",
        "  bank_ifsc=1234\n",
        "  def __init__(self,n,a):\n",
        "    self.pname=n\n",
        "    self.amount=a\n",
        "person1=Bank('sony',3868)\n",
        "person2=Bank('hello',8683)\n",
        "#accessing object properties  using class\n",
        "print(person2.pname)\n",
        "print(person1.pname)\n",
        "print(person1.bank_address)"
      ],
      "metadata": {
        "colab": {
          "base_uri": "https://localhost:8080/"
        },
        "id": "6L4BOihzS2wA",
        "outputId": "4f8ad6d0-7941-4a27-f8d5-e4fc344e6eb9"
      },
      "execution_count": 15,
      "outputs": [
        {
          "output_type": "stream",
          "name": "stdout",
          "text": [
            "hello\n",
            "sony\n",
            "bkk\n"
          ]
        }
      ]
    },
    {
      "cell_type": "code",
      "source": [
        "class Bank:\n",
        "  bank_name = \"SBI\"\n",
        "  bank_address='bkk'\n",
        "  bank_roi=6\n",
        "  bank_ifsc=1234\n",
        "  def __init__(self,n,ac,b,ad):\n",
        "    self.name=n\n",
        "    self.account=ac\n",
        "    self.balance=b\n",
        "    self.address=ad\n",
        "  def customer_details(self):\n",
        "    print(f'name of the customer is{self.name}')\n",
        "    print(f'account of the custiomer is{self.account}')\n",
        "    print(f'balance of customer is{self.balance}')\n",
        "    print(f'address of customer is{self.address}')\n",
        "  def withdraw(self):\n",
        "    amount=int(input())\n",
        "    if self.balance>=amount:\n",
        "      self.balance-=amount\n",
        "      print('withdrawal is successfull')\n",
        "      print(f'Balance is{self.balance}')\n",
        "    else:\n",
        "      print('in sufficient balance')\n",
        "      print(f'balance is {self.balance}')\n",
        "  def deposite(self):\n",
        "    amount=int(input('enter value'))\n",
        "    if amount>0:\n",
        "      self.balance+=amount\n",
        "      print('deposite is done')\n",
        "      print('deposite is done')\n",
        "    else:\n",
        "      print('amount should be>than 0')\n",
        "sony=Bank('ssony',6754,90000,'mpl')\n",
        "evi=Bank('kevin',868,76888,'kadapa')\n",
        "print(sony.withdraw())\n",
        "print(evi.customer_details())"
      ],
      "metadata": {
        "colab": {
          "base_uri": "https://localhost:8080/"
        },
        "id": "ezkSOkGwVgvl",
        "outputId": "4ffd5cb1-09cd-4c31-e0d7-5d8a9e164717"
      },
      "execution_count": 20,
      "outputs": [
        {
          "output_type": "stream",
          "name": "stdout",
          "text": [
            "10\n",
            "withdrawal is successfull\n",
            "Balance is89990\n",
            "None\n",
            "name of the customer iskevin\n",
            "account of the custiomer is868\n",
            "balance of customer is76888\n",
            "address of customer iskadapa\n",
            "None\n"
          ]
        }
      ]
    }
  ]
}