{
  "nbformat": 4,
  "nbformat_minor": 0,
  "metadata": {
    "colab": {
      "provenance": [],
      "authorship_tag": "ABX9TyP8qbx8OzUuRW/tUdjxnAOI",
      "include_colab_link": true
    },
    "kernelspec": {
      "name": "python3",
      "display_name": "Python 3"
    },
    "language_info": {
      "name": "python"
    }
  },
  "cells": [
    {
      "cell_type": "markdown",
      "metadata": {
        "id": "view-in-github",
        "colab_type": "text"
      },
      "source": [
        "<a href=\"https://colab.research.google.com/github/ShaikSony-07/python-coding-practice/blob/main/Day_13_0f_python_practice_alphabetic_patterns.ipynb\" target=\"_parent\"><img src=\"https://colab.research.google.com/assets/colab-badge.svg\" alt=\"Open In Colab\"/></a>"
      ]
    },
    {
      "cell_type": "code",
      "execution_count": 4,
      "metadata": {
        "colab": {
          "base_uri": "https://localhost:8080/"
        },
        "id": "8jVO6Pq4DQVt",
        "outputId": "4c31ceec-6b09-4390-bccb-033402520146"
      },
      "outputs": [
        {
          "output_type": "stream",
          "name": "stdout",
          "text": [
            "5\n",
            "ABCDE\n",
            "ABCDE\n",
            "ABCDE\n",
            "ABCDE\n",
            "ABCDE\n"
          ]
        }
      ],
      "source": [
        "n=int(input())\n",
        "for row in range(1,n+1):\n",
        "  d=1\n",
        "  for col in range(1,n+1):\n",
        "    print(chr(64+d),end='')\n",
        "    d+=1\n",
        "  print()"
      ]
    },
    {
      "cell_type": "code",
      "source": [
        "n=int(input())\n",
        "d=1\n",
        "for row in range(1,n+1):\n",
        "  for col in range(1,n+1):\n",
        "    print(chr(64+d),end='')\n",
        "    d+=1\n",
        "  print()"
      ],
      "metadata": {
        "colab": {
          "base_uri": "https://localhost:8080/"
        },
        "id": "b6qKLzT_Em00",
        "outputId": "47921b92-3a78-4ad4-9739-5984de65430a"
      },
      "execution_count": 5,
      "outputs": [
        {
          "output_type": "stream",
          "name": "stdout",
          "text": [
            "5\n",
            "ABCDE\n",
            "FGHIJ\n",
            "KLMNO\n",
            "PQRST\n",
            "UVWXY\n"
          ]
        }
      ]
    },
    {
      "cell_type": "code",
      "source": [
        "n=int(input())\n",
        "star=1\n",
        "for row in range(1,n+1):\n",
        "  d=1\n",
        "  for st in range(1,star+1):\n",
        "    print(chr(64+d),end='')\n",
        "    d+=1\n",
        "  print()\n",
        "  star+=1"
      ],
      "metadata": {
        "colab": {
          "base_uri": "https://localhost:8080/"
        },
        "id": "k-UvZDjFFAAs",
        "outputId": "928b1e0f-bb6f-493b-a744-c48a1fd62253"
      },
      "execution_count": 6,
      "outputs": [
        {
          "output_type": "stream",
          "name": "stdout",
          "text": [
            "5\n",
            "A\n",
            "AB\n",
            "ABC\n",
            "ABCD\n",
            "ABCDE\n"
          ]
        }
      ]
    },
    {
      "cell_type": "code",
      "source": [
        "n=int(input())\n",
        "d=1\n",
        "for row in range(1,n+1):\n",
        "  for col in range(1,n+1):\n",
        "    if row==col:\n",
        "      print(chr(64+d),end='')\n",
        "      d+=1\n",
        "    else:\n",
        "      print(' ',end='')\n",
        "  print()"
      ],
      "metadata": {
        "colab": {
          "base_uri": "https://localhost:8080/"
        },
        "id": "e8GHp2ZDFoOe",
        "outputId": "a6a68396-7c3e-4e68-d5e5-ec6b210d899a"
      },
      "execution_count": 9,
      "outputs": [
        {
          "output_type": "stream",
          "name": "stdout",
          "text": [
            "5\n",
            "A    \n",
            " B   \n",
            "  C  \n",
            "   D \n",
            "    E\n"
          ]
        }
      ]
    },
    {
      "cell_type": "code",
      "source": [
        "n=int(input())\n",
        "for row in range(1,n+1):\n",
        "  for col in range(1,n+1):\n",
        "    print(chr(64+row),end='')\n",
        "  print()"
      ],
      "metadata": {
        "colab": {
          "base_uri": "https://localhost:8080/"
        },
        "id": "oYFoFpF2GRLm",
        "outputId": "b30b747a-5942-486b-f639-63a2c1c21a7e"
      },
      "execution_count": 10,
      "outputs": [
        {
          "output_type": "stream",
          "name": "stdout",
          "text": [
            "5\n",
            "AAAAA\n",
            "BBBBB\n",
            "CCCCC\n",
            "DDDDD\n",
            "EEEEE\n"
          ]
        }
      ]
    },
    {
      "cell_type": "code",
      "source": [
        "n=int(input())\n",
        "star=1\n",
        "for row in range(1,n+1):\n",
        "  for st in range(1,star+1):\n",
        "    print(chr(64+row),end='')\n",
        "  print()\n",
        "  star+=1"
      ],
      "metadata": {
        "colab": {
          "base_uri": "https://localhost:8080/"
        },
        "id": "j59FWVl1GuUl",
        "outputId": "cc80259e-3041-420b-ea26-1ab56a21a93d"
      },
      "execution_count": 11,
      "outputs": [
        {
          "output_type": "stream",
          "name": "stdout",
          "text": [
            "5\n",
            "A\n",
            "BB\n",
            "CCC\n",
            "DDDD\n",
            "EEEEE\n"
          ]
        }
      ]
    },
    {
      "cell_type": "code",
      "source": [
        "n=int(input())\n",
        "star=1\n",
        "d=1\n",
        "for row in range(1,n+1):\n",
        "  for st in range(1,star+1):\n",
        "    print(chr(64+d),end='')\n",
        "    d+=1\n",
        "  print()\n",
        "  star+=1"
      ],
      "metadata": {
        "colab": {
          "base_uri": "https://localhost:8080/"
        },
        "id": "TFxrSTtiHcYi",
        "outputId": "dc9d6cfa-1a3f-4bb7-841d-d563160fe8bb"
      },
      "execution_count": 12,
      "outputs": [
        {
          "output_type": "stream",
          "name": "stdout",
          "text": [
            "5\n",
            "A\n",
            "BC\n",
            "DEF\n",
            "GHIJ\n",
            "KLMNO\n"
          ]
        }
      ]
    },
    {
      "cell_type": "code",
      "source": [
        "n=int(input())\n",
        "space=n-1\n",
        "star=1\n",
        "d=1\n",
        "for row in range(1,n+1):\n",
        "  for sp in range(1,space+1):\n",
        "    print(' ',end='')\n",
        "  for st in range(1,star+1):\n",
        "    print(chr(64+d),end='')\n",
        "    d+=1\n",
        "  print()\n",
        "  space-=1\n",
        "  star+=1"
      ],
      "metadata": {
        "colab": {
          "base_uri": "https://localhost:8080/"
        },
        "id": "a1QkU0s9Hm4e",
        "outputId": "79b686c2-5f0b-4c61-a2d9-6854f2f236e4"
      },
      "execution_count": 14,
      "outputs": [
        {
          "output_type": "stream",
          "name": "stdout",
          "text": [
            "5\n",
            "    A\n",
            "   BC\n",
            "  DEF\n",
            " GHIJ\n",
            "KLMNO\n"
          ]
        }
      ]
    },
    {
      "cell_type": "code",
      "source": [
        "n=int(input())\n",
        "for row in range(1,n+1):\n",
        "  d=row\n",
        "  for st in range(1,n+1):\n",
        "    print(chr(64+d),end='')\n",
        "    if row%2==0:\n",
        "      d+=2\n",
        "    else:\n",
        "      d+=1\n",
        "  print()\n"
      ],
      "metadata": {
        "colab": {
          "base_uri": "https://localhost:8080/"
        },
        "id": "_kYb8L0kIq2n",
        "outputId": "81f00c80-1c1a-423d-d409-22056e0cf8b2"
      },
      "execution_count": 16,
      "outputs": [
        {
          "output_type": "stream",
          "name": "stdout",
          "text": [
            "5\n",
            "ABCDE\n",
            "BDFHJ\n",
            "CDEFG\n",
            "DFHJL\n",
            "EFGHI\n"
          ]
        }
      ]
    },
    {
      "cell_type": "code",
      "source": [
        "n=int(input())\n",
        "star=1\n",
        "space=2*n-1\n",
        "for row in range(1,n+1):\n",
        "  d=1\n",
        "  for sp in range(1,space+1):\n",
        "    print(' ',end='')\n",
        "  for st in range(1,star+1):\n",
        "    print(chr(64+d),end='')\n",
        "    d+=1\n",
        "  print()\n",
        "  space-=1\n",
        "  star+=2"
      ],
      "metadata": {
        "colab": {
          "base_uri": "https://localhost:8080/"
        },
        "id": "piETYzADKtSW",
        "outputId": "92aadc61-a3c7-411c-dd68-ab69a8b5a961"
      },
      "execution_count": 19,
      "outputs": [
        {
          "output_type": "stream",
          "name": "stdout",
          "text": [
            "5\n",
            "         A\n",
            "        ABC\n",
            "       ABCDE\n",
            "      ABCDEFG\n",
            "     ABCDEFGHI\n"
          ]
        }
      ]
    },
    {
      "cell_type": "code",
      "source": [
        "n=int(input())\n",
        "for row in range(1,n+1):\n",
        "  d=row\n",
        "  for col in range(1,n+1):\n",
        "    print(chr(64+d),end='')\n",
        "    d+=5\n",
        "  print()\n",
        "\n"
      ],
      "metadata": {
        "colab": {
          "base_uri": "https://localhost:8080/"
        },
        "id": "IJjCJLt_f7uz",
        "outputId": "c74a1c9f-5726-4f81-ae27-49c77f5e454a"
      },
      "execution_count": 21,
      "outputs": [
        {
          "output_type": "stream",
          "name": "stdout",
          "text": [
            "4\n",
            "AEIM\n",
            "BFJN\n",
            "CGKO\n",
            "DHLP\n"
          ]
        }
      ]
    },
    {
      "cell_type": "code",
      "source": [
        "n=int(input())\n",
        "star=1\n",
        "space=n-1\n",
        "for row in range(1,n+1):\n",
        "  d=1\n",
        "  for sp in range(1,space+1):\n",
        "    print(' ',end='')\n",
        "  for st in range(1,star+1):\n",
        "    print(chr(64+d),end='')\n",
        "    d+=1\n",
        "  print()\n",
        "  if row<=n//2:\n",
        "    space-=1\n",
        "    star+=2\n",
        "  else:\n",
        "    space+=1\n",
        "    star-=2\n"
      ],
      "metadata": {
        "colab": {
          "base_uri": "https://localhost:8080/"
        },
        "id": "Ymwwrf-ohPc6",
        "outputId": "ec7696dc-d59c-40c4-b560-cde4dcec7227"
      },
      "execution_count": 22,
      "outputs": [
        {
          "output_type": "stream",
          "name": "stdout",
          "text": [
            "5\n",
            "    A\n",
            "   ABC\n",
            "  ABCDE\n",
            "   ABC\n",
            "    A\n"
          ]
        }
      ]
    }
  ]
}