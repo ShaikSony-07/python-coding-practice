{
  "nbformat": 4,
  "nbformat_minor": 0,
  "metadata": {
    "colab": {
      "provenance": [],
      "authorship_tag": "ABX9TyPbTk0qXB0xyYrKAGyqxKrE",
      "include_colab_link": true
    },
    "kernelspec": {
      "name": "python3",
      "display_name": "Python 3"
    },
    "language_info": {
      "name": "python"
    }
  },
  "cells": [
    {
      "cell_type": "markdown",
      "metadata": {
        "id": "view-in-github",
        "colab_type": "text"
      },
      "source": [
        "<a href=\"https://colab.research.google.com/github/ShaikSony-07/python-coding-practice/blob/main/day_21_of_python_practice_oops2.ipynb\" target=\"_parent\"><img src=\"https://colab.research.google.com/assets/colab-badge.svg\" alt=\"Open In Colab\"/></a>"
      ]
    },
    {
      "cell_type": "code",
      "execution_count": 14,
      "metadata": {
        "colab": {
          "base_uri": "https://localhost:8080/"
        },
        "id": "Q2xt_gXyA_OP",
        "outputId": "a3309603-9461-4d8e-9d25-af2eb84293ef"
      },
      "outputs": [
        {
          "output_type": "stream",
          "name": "stdout",
          "text": [
            "5\n",
            "<class '__main__.Bank'>\n",
            "enter int value5\n",
            "roi is modified\n",
            "5\n",
            "5\n",
            "enter int value400\n",
            "withdrawal is successful\n",
            "balance is 9600\n"
          ]
        }
      ],
      "source": [
        "class Bank:\n",
        "  bank_name='sbi'\n",
        "  bank_ifsc=1234\n",
        "  bank_roi=5\n",
        "  bank_address='kizikistan'\n",
        "  def __init__(self,n,a,b,ad):\n",
        "    self.name=n\n",
        "    self.account=a\n",
        "    self.balance=b\n",
        "    self.address=ad\n",
        "  @classmethod\n",
        "  def bank_details(cls):\n",
        "    print(cls.bank_name)\n",
        "    print(cls.bank_ifsc)\n",
        "    print(cls.bank_roi)\n",
        "    print(cls.bank_address)\n",
        "  @staticmethod\n",
        "  def get__init__value():\n",
        "    intvalue=int(input('enter int value'))\n",
        "    return intvalue\n",
        "  @classmethod\n",
        "  def modify_roi(cls):\n",
        "    print(cls)\n",
        "    new_roi=cls.get__init__value()\n",
        "    cls.bank_roi=new_roi\n",
        "    print('roi is modified')\n",
        "  def withdraw(self):\n",
        "    amount=self.get__init__value()\n",
        "    if self.balance>=amount:\n",
        "      self.balance-=amount\n",
        "      print('withdrawal is successful')\n",
        "      print(f'balance is {self.balance}')\n",
        "    else:\n",
        "      print('in sufficient balance')\n",
        "      print(f'balance is {self.balance}')\n",
        "  def customer_details(self):\n",
        "    print(f'name of the customer is{self.name}')\n",
        "    print(f'account of  the customer is {self.account}')\n",
        "    print(f'balance of the customer is{self.balance}')\n",
        "    print(f'address of the customer is{self.address}')\n",
        "jaya=Bank('jayasree',89655,10000,'Delhi')\n",
        "sushma=Bank('sushmitha',45789,20000,'chennai')\n",
        "print(jaya.bank_roi)\n",
        "jaya.modify_roi()\n",
        "print(sushma.bank_roi)\n",
        "print(Bank.bank_roi)\n",
        "jaya.withdraw()"
      ]
    },
    {
      "cell_type": "code",
      "source": [
        "#aggregation example\n",
        "#creating object in main space using in main class\n",
        "class Address:\n",
        "  def __init__(self,n,c,co):\n",
        "    self.name=n\n",
        "    self.city=c\n",
        "    self.country=co\n",
        "  def display_address(self):\n",
        "      print(f'name is{self.name}')\n",
        "      print(f'city is{self.city}')\n",
        "      print(f'country is{self.country}')\n",
        "client=Address('sony','banglore','india')\n",
        "client.display_address()"
      ],
      "metadata": {
        "colab": {
          "base_uri": "https://localhost:8080/"
        },
        "id": "bvQg80JJPaLx",
        "outputId": "1a6215bf-db7b-4968-d38a-86de270cbde9"
      },
      "execution_count": 26,
      "outputs": [
        {
          "output_type": "stream",
          "name": "stdout",
          "text": [
            "name issony\n",
            "city isbanglore\n",
            "country isindia\n"
          ]
        }
      ]
    },
    {
      "cell_type": "code",
      "source": [
        "#aggregation example\n",
        "#creating object in main class using in main class\n",
        "class Address:\n",
        "  def __init__(self,n,c,co):\n",
        "    self.name=n\n",
        "    self.city=c\n",
        "    self.country=co\n",
        "    n=input()\n",
        "    c=input()\n",
        "    c0=input()\n",
        "  def display_address(self):\n",
        "      print(f'name is{self.name}')\n",
        "      print(f'city is{self.city}')\n",
        "      print(f'country is{self.country}')\n",
        "client=Address('sony','banglore','india')\n",
        "client.display_address()"
      ],
      "metadata": {
        "colab": {
          "base_uri": "https://localhost:8080/"
        },
        "id": "JUlmTgmGUbSh",
        "outputId": "f879df49-156e-46cf-ba23-29caf6cc0847"
      },
      "execution_count": 34,
      "outputs": [
        {
          "output_type": "stream",
          "name": "stdout",
          "text": [
            "sony\n",
            "banglore\n",
            "india\n",
            "name issony\n",
            "city isbanglore\n",
            "country isindia\n"
          ]
        }
      ]
    }
  ]
}